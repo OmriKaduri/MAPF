{
 "cells": [
  {
   "cell_type": "code",
   "execution_count": 1,
   "metadata": {},
   "outputs": [],
   "source": [
    "fname = 'data\\\\from-azure\\\\mapf_dims_128_epochs_1_lr_0.1_embeddings.txt'\n",
    "label_fname = 'data\\\\from-azure\\\\mapf.Labels'"
   ]
  },
  {
   "cell_type": "code",
   "execution_count": 114,
   "metadata": {},
   "outputs": [],
   "source": [
    "df = pd.read_csv('data/from-azure/AllData-labelled-withbridges.csv')\n"
   ]
  },
  {
   "cell_type": "code",
   "execution_count": 121,
   "metadata": {},
   "outputs": [
    {
     "data": {
      "text/plain": [
       "'10'"
      ]
     },
     "execution_count": 121,
     "metadata": {},
     "output_type": "execute_result"
    }
   ],
   "source": [
    "def round_up_to_5(num):\n",
    "    return str(5 - (int(num) % 5) + int(num))\n",
    "\n",
    "def obstacle_density_to_num(density):\n",
    "    if density=='0.0':\n",
    "        return 0\n",
    "    density = density.split('.')[1]\n",
    "    if len(density) > 2:\n",
    "        return round_up_to_5(density[:2])\n",
    "    elif density[0] == '0':\n",
    "        return density[1:]\n",
    "    elif len(density) == 1:\n",
    "        return density+'0'\n",
    "\n",
    "    return density\n",
    "obstacle_density_to_num('0.10')"
   ]
  },
  {
   "cell_type": "code",
   "execution_count": 140,
   "metadata": {},
   "outputs": [],
   "source": [
    "def file_name_from(row):\n",
    "    if row.GridName == 'Unknown':\n",
    "        data = ['Instance',row.GridRows, obstacle_density_to_num(str(row.ObstacleDensity)), row.NumOfAgents, row.InstanceId]\n",
    "        line = '-'.join(map(str, data)) + '.gexf' \n",
    "    else:\n",
    "        data = [row.GridName, str(row.NumOfAgents), str(row.InstanceId)]\n",
    "        line = '-'.join(map(str,data)) +'.gexf' \n",
    "    return line"
   ]
  },
  {
   "cell_type": "code",
   "execution_count": 141,
   "metadata": {},
   "outputs": [],
   "source": [
    "df['mapf_file'] = df.apply(lambda x: file_name_from(x),axis=1)"
   ]
  },
  {
   "cell_type": "code",
   "execution_count": 146,
   "metadata": {},
   "outputs": [],
   "source": [
    "mapf_df = pd.read_csv(label_fname,delim_whitespace=True, header=None, names=['mapf_file','label','embedding'], )"
   ]
  },
  {
   "cell_type": "code",
   "execution_count": 144,
   "metadata": {},
   "outputs": [],
   "source": [
    "import json\n",
    "with open(fname,'r') as fh:\n",
    "    graph_embedding_dict = json.load(fh)"
   ]
  },
  {
   "cell_type": "code",
   "execution_count": 145,
   "metadata": {},
   "outputs": [],
   "source": [
    "graph_embedding_dict = dict([(k.split('\\\\')[4].split('.g2v3')[0],v) for k,v in graph_embedding_dict.items()])"
   ]
  },
  {
   "cell_type": "code",
   "execution_count": 143,
   "metadata": {},
   "outputs": [],
   "source": [
    "mapf_df = mapf_df.merge(df, on=['mapf_file'])"
   ]
  },
  {
   "cell_type": "code",
   "execution_count": 35,
   "metadata": {},
   "outputs": [],
   "source": [
    "def embedding_for(file):\n",
    "    if file in graph_embedding_dict:\n",
    "        embedding = graph_embedding_dict[file]\n",
    "    else:\n",
    "        embedding =  [0]*128\n",
    "    embedding = np.array(embedding)\n",
    "    return embedding"
   ]
  },
  {
   "cell_type": "code",
   "execution_count": 97,
   "metadata": {},
   "outputs": [],
   "source": [
    "embedding_cols = ['embedding'+str(x) for x in range(1,129)]"
   ]
  },
  {
   "cell_type": "code",
   "execution_count": 98,
   "metadata": {},
   "outputs": [],
   "source": [
    "import numpy as np\n",
    "train_word2vec_df=pd.DataFrame([[k]+v for k,v in graph_embedding_dict.items()],columns=['mapf_file'] + embedding_cols)"
   ]
  },
  {
   "cell_type": "code",
   "execution_count": 100,
   "metadata": {},
   "outputs": [],
   "source": [
    "merged_df = mapf_df.merge(train_word2vec_df, on=['mapf_file'])"
   ]
  },
  {
   "cell_type": "code",
   "execution_count": 103,
   "metadata": {},
   "outputs": [],
   "source": [
    "conversions = {\n",
    "        0 : 'EPEA*+ID Runtime',\n",
    "        1 : 'MA-CBS-Global-10/(EPEA*/SIC) choosing the first conflict in CBS nodes Runtime',\n",
    "        2 : 'ICTS 3E +ID Runtime',\n",
    "        3 : 'A*+OD+ID Runtime',\n",
    "        4 : 'Basic-CBS/(A*/SIC)+ID Runtime'\n",
    "    }"
   ]
  },
  {
   "cell_type": "code",
   "execution_count": 107,
   "metadata": {},
   "outputs": [],
   "source": [
    "merged_df['label'] =merged_df.apply(lambda x: conversions[x['label']], axis=1)"
   ]
  },
  {
   "cell_type": "code",
   "execution_count": 108,
   "metadata": {},
   "outputs": [
    {
     "data": {
      "text/plain": [
       "XGBClassifier(base_score=0.5, booster='gbtree', colsample_bylevel=1,\n",
       "       colsample_bytree=1, gamma=0, learning_rate=0.01, max_delta_step=0,\n",
       "       max_depth=3, min_child_weight=1, missing=None, n_estimators=50,\n",
       "       n_jobs=1, nthread=None, objective='multi:softprob', random_state=0,\n",
       "       reg_alpha=0, reg_lambda=1, scale_pos_weight=1, seed=None,\n",
       "       silent=True, subsample=1)"
      ]
     },
     "execution_count": 108,
     "metadata": {},
     "output_type": "execute_result"
    }
   ],
   "source": [
    "import xgboost as xgb\n",
    "from sklearn.model_selection import train_test_split\n",
    "\n",
    "X_train, X_test, y_train, y_test = train_test_split(merged_df, merged_df['label'], test_size=0.3)\n",
    "xg_cls = xgb.XGBClassifier(n_estimators=50, max_depth=3, learning_rate=0.01)\n",
    "xg_cls.fit(X_train[embedding_cols], y_train)\n"
   ]
  },
  {
   "cell_type": "code",
   "execution_count": 110,
   "metadata": {},
   "outputs": [],
   "source": [
    "train_preds = xg_cls.predict(X_train[embedding_cols])\n",
    "test_preds = xg_cls.predict(X_test[embedding_cols])"
   ]
  },
  {
   "cell_type": "code",
   "execution_count": 112,
   "metadata": {},
   "outputs": [],
   "source": [
    "def coverage_score(df, preds):\n",
    "    solved = 0\n",
    "    for pred, (index, row) in zip(preds,df.iterrows()):\n",
    "        if(row[pred] < 300000):\n",
    "              solved += 1\n",
    "    return solved/len(df)\n",
    "\n",
    "def cumsum_score(df, preds):\n",
    "    cumsum = 0\n",
    "    for pred, (index, row) in zip(preds,df.iterrows()):\n",
    "        cumsum += row[pred]\n",
    "    return cumsum/((60*(10**3)))\n"
   ]
  },
  {
   "cell_type": "code",
   "execution_count": 113,
   "metadata": {},
   "outputs": [
    {
     "name": "stdout",
     "output_type": "stream",
     "text": [
      "Train acc: 0.5565366691194505\n",
      "Test acc: 0.5652173913043478\n"
     ]
    },
    {
     "ename": "KeyError",
     "evalue": "'MA-CBS-Global-10/(EPEA*/SIC) choosing the first conflict in CBS nodes Runtime'",
     "output_type": "error",
     "traceback": [
      "\u001b[1;31m---------------------------------------------------------------------------\u001b[0m",
      "\u001b[1;31mTypeError\u001b[0m                                 Traceback (most recent call last)",
      "\u001b[1;32mc:\\users\\omri\\appdata\\local\\programs\\python\\python36\\lib\\site-packages\\pandas\\core\\indexes\\base.py\u001b[0m in \u001b[0;36mget_value\u001b[1;34m(self, series, key)\u001b[0m\n\u001b[0;32m   4379\u001b[0m             \u001b[1;32mtry\u001b[0m\u001b[1;33m:\u001b[0m\u001b[1;33m\u001b[0m\u001b[1;33m\u001b[0m\u001b[0m\n\u001b[1;32m-> 4380\u001b[1;33m                 \u001b[1;32mreturn\u001b[0m \u001b[0mlibindex\u001b[0m\u001b[1;33m.\u001b[0m\u001b[0mget_value_box\u001b[0m\u001b[1;33m(\u001b[0m\u001b[0ms\u001b[0m\u001b[1;33m,\u001b[0m \u001b[0mkey\u001b[0m\u001b[1;33m)\u001b[0m\u001b[1;33m\u001b[0m\u001b[1;33m\u001b[0m\u001b[0m\n\u001b[0m\u001b[0;32m   4381\u001b[0m             \u001b[1;32mexcept\u001b[0m \u001b[0mIndexError\u001b[0m\u001b[1;33m:\u001b[0m\u001b[1;33m\u001b[0m\u001b[1;33m\u001b[0m\u001b[0m\n",
      "\u001b[1;32mpandas\\_libs\\index.pyx\u001b[0m in \u001b[0;36mpandas._libs.index.get_value_box\u001b[1;34m()\u001b[0m\n",
      "\u001b[1;32mpandas\\_libs\\index.pyx\u001b[0m in \u001b[0;36mpandas._libs.index.get_value_at\u001b[1;34m()\u001b[0m\n",
      "\u001b[1;32mpandas\\_libs\\util.pxd\u001b[0m in \u001b[0;36mpandas._libs.util.get_value_at\u001b[1;34m()\u001b[0m\n",
      "\u001b[1;32mpandas\\_libs\\util.pxd\u001b[0m in \u001b[0;36mpandas._libs.util.validate_indexer\u001b[1;34m()\u001b[0m\n",
      "\u001b[1;31mTypeError\u001b[0m: 'str' object cannot be interpreted as an integer",
      "\nDuring handling of the above exception, another exception occurred:\n",
      "\u001b[1;31mKeyError\u001b[0m                                  Traceback (most recent call last)",
      "\u001b[1;32m<ipython-input-113-29dc229679c0>\u001b[0m in \u001b[0;36m<module>\u001b[1;34m\u001b[0m\n\u001b[0;32m      4\u001b[0m \u001b[0mprint\u001b[0m\u001b[1;33m(\u001b[0m\u001b[1;34m\"Test acc:\"\u001b[0m\u001b[1;33m,\u001b[0m\u001b[0maccuracy_score\u001b[0m\u001b[1;33m(\u001b[0m\u001b[0my_test\u001b[0m\u001b[1;33m,\u001b[0m \u001b[0mtest_preds\u001b[0m\u001b[1;33m)\u001b[0m\u001b[1;33m)\u001b[0m\u001b[1;33m\u001b[0m\u001b[1;33m\u001b[0m\u001b[0m\n\u001b[0;32m      5\u001b[0m \u001b[1;33m\u001b[0m\u001b[0m\n\u001b[1;32m----> 6\u001b[1;33m \u001b[0mprint\u001b[0m\u001b[1;33m(\u001b[0m\u001b[1;34m\"Train coverage:\"\u001b[0m\u001b[1;33m,\u001b[0m \u001b[0mcoverage_score\u001b[0m\u001b[1;33m(\u001b[0m\u001b[0mX_train\u001b[0m\u001b[1;33m,\u001b[0m \u001b[0mtrain_preds\u001b[0m\u001b[1;33m)\u001b[0m\u001b[1;33m)\u001b[0m\u001b[1;33m\u001b[0m\u001b[1;33m\u001b[0m\u001b[0m\n\u001b[0m\u001b[0;32m      7\u001b[0m \u001b[0mprint\u001b[0m\u001b[1;33m(\u001b[0m\u001b[1;34m\"Test coverage:\"\u001b[0m\u001b[1;33m,\u001b[0m \u001b[0mcoverage_score\u001b[0m\u001b[1;33m(\u001b[0m\u001b[0mX_test\u001b[0m\u001b[1;33m,\u001b[0m \u001b[0mtest_preds\u001b[0m\u001b[1;33m)\u001b[0m\u001b[1;33m)\u001b[0m\u001b[1;33m\u001b[0m\u001b[1;33m\u001b[0m\u001b[0m\n\u001b[0;32m      8\u001b[0m \u001b[1;33m\u001b[0m\u001b[0m\n",
      "\u001b[1;32m<ipython-input-112-2e62f26f38c8>\u001b[0m in \u001b[0;36mcoverage_score\u001b[1;34m(df, preds)\u001b[0m\n\u001b[0;32m      2\u001b[0m     \u001b[0msolved\u001b[0m \u001b[1;33m=\u001b[0m \u001b[1;36m0\u001b[0m\u001b[1;33m\u001b[0m\u001b[1;33m\u001b[0m\u001b[0m\n\u001b[0;32m      3\u001b[0m     \u001b[1;32mfor\u001b[0m \u001b[0mpred\u001b[0m\u001b[1;33m,\u001b[0m \u001b[1;33m(\u001b[0m\u001b[0mindex\u001b[0m\u001b[1;33m,\u001b[0m \u001b[0mrow\u001b[0m\u001b[1;33m)\u001b[0m \u001b[1;32min\u001b[0m \u001b[0mzip\u001b[0m\u001b[1;33m(\u001b[0m\u001b[0mpreds\u001b[0m\u001b[1;33m,\u001b[0m\u001b[0mdf\u001b[0m\u001b[1;33m.\u001b[0m\u001b[0miterrows\u001b[0m\u001b[1;33m(\u001b[0m\u001b[1;33m)\u001b[0m\u001b[1;33m)\u001b[0m\u001b[1;33m:\u001b[0m\u001b[1;33m\u001b[0m\u001b[1;33m\u001b[0m\u001b[0m\n\u001b[1;32m----> 4\u001b[1;33m         \u001b[1;32mif\u001b[0m\u001b[1;33m(\u001b[0m\u001b[0mrow\u001b[0m\u001b[1;33m[\u001b[0m\u001b[0mpred\u001b[0m\u001b[1;33m]\u001b[0m \u001b[1;33m<\u001b[0m \u001b[1;36m300000\u001b[0m\u001b[1;33m)\u001b[0m\u001b[1;33m:\u001b[0m\u001b[1;33m\u001b[0m\u001b[1;33m\u001b[0m\u001b[0m\n\u001b[0m\u001b[0;32m      5\u001b[0m               \u001b[0msolved\u001b[0m \u001b[1;33m+=\u001b[0m \u001b[1;36m1\u001b[0m\u001b[1;33m\u001b[0m\u001b[1;33m\u001b[0m\u001b[0m\n\u001b[0;32m      6\u001b[0m     \u001b[1;32mreturn\u001b[0m \u001b[0msolved\u001b[0m\u001b[1;33m/\u001b[0m\u001b[0mlen\u001b[0m\u001b[1;33m(\u001b[0m\u001b[0mdf\u001b[0m\u001b[1;33m)\u001b[0m\u001b[1;33m\u001b[0m\u001b[1;33m\u001b[0m\u001b[0m\n",
      "\u001b[1;32mc:\\users\\omri\\appdata\\local\\programs\\python\\python36\\lib\\site-packages\\pandas\\core\\series.py\u001b[0m in \u001b[0;36m__getitem__\u001b[1;34m(self, key)\u001b[0m\n\u001b[0;32m    866\u001b[0m         \u001b[0mkey\u001b[0m \u001b[1;33m=\u001b[0m \u001b[0mcom\u001b[0m\u001b[1;33m.\u001b[0m\u001b[0mapply_if_callable\u001b[0m\u001b[1;33m(\u001b[0m\u001b[0mkey\u001b[0m\u001b[1;33m,\u001b[0m \u001b[0mself\u001b[0m\u001b[1;33m)\u001b[0m\u001b[1;33m\u001b[0m\u001b[1;33m\u001b[0m\u001b[0m\n\u001b[0;32m    867\u001b[0m         \u001b[1;32mtry\u001b[0m\u001b[1;33m:\u001b[0m\u001b[1;33m\u001b[0m\u001b[1;33m\u001b[0m\u001b[0m\n\u001b[1;32m--> 868\u001b[1;33m             \u001b[0mresult\u001b[0m \u001b[1;33m=\u001b[0m \u001b[0mself\u001b[0m\u001b[1;33m.\u001b[0m\u001b[0mindex\u001b[0m\u001b[1;33m.\u001b[0m\u001b[0mget_value\u001b[0m\u001b[1;33m(\u001b[0m\u001b[0mself\u001b[0m\u001b[1;33m,\u001b[0m \u001b[0mkey\u001b[0m\u001b[1;33m)\u001b[0m\u001b[1;33m\u001b[0m\u001b[1;33m\u001b[0m\u001b[0m\n\u001b[0m\u001b[0;32m    869\u001b[0m \u001b[1;33m\u001b[0m\u001b[0m\n\u001b[0;32m    870\u001b[0m             \u001b[1;32mif\u001b[0m \u001b[1;32mnot\u001b[0m \u001b[0mis_scalar\u001b[0m\u001b[1;33m(\u001b[0m\u001b[0mresult\u001b[0m\u001b[1;33m)\u001b[0m\u001b[1;33m:\u001b[0m\u001b[1;33m\u001b[0m\u001b[1;33m\u001b[0m\u001b[0m\n",
      "\u001b[1;32mc:\\users\\omri\\appdata\\local\\programs\\python\\python36\\lib\\site-packages\\pandas\\core\\indexes\\base.py\u001b[0m in \u001b[0;36mget_value\u001b[1;34m(self, series, key)\u001b[0m\n\u001b[0;32m   4386\u001b[0m                     \u001b[1;32mraise\u001b[0m \u001b[0mInvalidIndexError\u001b[0m\u001b[1;33m(\u001b[0m\u001b[0mkey\u001b[0m\u001b[1;33m)\u001b[0m\u001b[1;33m\u001b[0m\u001b[1;33m\u001b[0m\u001b[0m\n\u001b[0;32m   4387\u001b[0m                 \u001b[1;32melse\u001b[0m\u001b[1;33m:\u001b[0m\u001b[1;33m\u001b[0m\u001b[1;33m\u001b[0m\u001b[0m\n\u001b[1;32m-> 4388\u001b[1;33m                     \u001b[1;32mraise\u001b[0m \u001b[0me1\u001b[0m\u001b[1;33m\u001b[0m\u001b[1;33m\u001b[0m\u001b[0m\n\u001b[0m\u001b[0;32m   4389\u001b[0m             \u001b[1;32mexcept\u001b[0m \u001b[0mException\u001b[0m\u001b[1;33m:\u001b[0m  \u001b[1;31m# pragma: no cover\u001b[0m\u001b[1;33m\u001b[0m\u001b[1;33m\u001b[0m\u001b[0m\n\u001b[0;32m   4390\u001b[0m                 \u001b[1;32mraise\u001b[0m \u001b[0me1\u001b[0m\u001b[1;33m\u001b[0m\u001b[1;33m\u001b[0m\u001b[0m\n",
      "\u001b[1;32mc:\\users\\omri\\appdata\\local\\programs\\python\\python36\\lib\\site-packages\\pandas\\core\\indexes\\base.py\u001b[0m in \u001b[0;36mget_value\u001b[1;34m(self, series, key)\u001b[0m\n\u001b[0;32m   4372\u001b[0m         \u001b[1;32mtry\u001b[0m\u001b[1;33m:\u001b[0m\u001b[1;33m\u001b[0m\u001b[1;33m\u001b[0m\u001b[0m\n\u001b[0;32m   4373\u001b[0m             return self._engine.get_value(s, k,\n\u001b[1;32m-> 4374\u001b[1;33m                                           tz=getattr(series.dtype, 'tz', None))\n\u001b[0m\u001b[0;32m   4375\u001b[0m         \u001b[1;32mexcept\u001b[0m \u001b[0mKeyError\u001b[0m \u001b[1;32mas\u001b[0m \u001b[0me1\u001b[0m\u001b[1;33m:\u001b[0m\u001b[1;33m\u001b[0m\u001b[1;33m\u001b[0m\u001b[0m\n\u001b[0;32m   4376\u001b[0m             \u001b[1;32mif\u001b[0m \u001b[0mlen\u001b[0m\u001b[1;33m(\u001b[0m\u001b[0mself\u001b[0m\u001b[1;33m)\u001b[0m \u001b[1;33m>\u001b[0m \u001b[1;36m0\u001b[0m \u001b[1;32mand\u001b[0m \u001b[1;33m(\u001b[0m\u001b[0mself\u001b[0m\u001b[1;33m.\u001b[0m\u001b[0mholds_integer\u001b[0m\u001b[1;33m(\u001b[0m\u001b[1;33m)\u001b[0m \u001b[1;32mor\u001b[0m \u001b[0mself\u001b[0m\u001b[1;33m.\u001b[0m\u001b[0mis_boolean\u001b[0m\u001b[1;33m(\u001b[0m\u001b[1;33m)\u001b[0m\u001b[1;33m)\u001b[0m\u001b[1;33m:\u001b[0m\u001b[1;33m\u001b[0m\u001b[1;33m\u001b[0m\u001b[0m\n",
      "\u001b[1;32mpandas\\_libs\\index.pyx\u001b[0m in \u001b[0;36mpandas._libs.index.IndexEngine.get_value\u001b[1;34m()\u001b[0m\n",
      "\u001b[1;32mpandas\\_libs\\index.pyx\u001b[0m in \u001b[0;36mpandas._libs.index.IndexEngine.get_value\u001b[1;34m()\u001b[0m\n",
      "\u001b[1;32mpandas\\_libs\\index.pyx\u001b[0m in \u001b[0;36mpandas._libs.index.IndexEngine.get_loc\u001b[1;34m()\u001b[0m\n",
      "\u001b[1;32mpandas\\_libs\\hashtable_class_helper.pxi\u001b[0m in \u001b[0;36mpandas._libs.hashtable.PyObjectHashTable.get_item\u001b[1;34m()\u001b[0m\n",
      "\u001b[1;32mpandas\\_libs\\hashtable_class_helper.pxi\u001b[0m in \u001b[0;36mpandas._libs.hashtable.PyObjectHashTable.get_item\u001b[1;34m()\u001b[0m\n",
      "\u001b[1;31mKeyError\u001b[0m: 'MA-CBS-Global-10/(EPEA*/SIC) choosing the first conflict in CBS nodes Runtime'"
     ]
    }
   ],
   "source": [
    "from sklearn.metrics import accuracy_score\n",
    "\n",
    "print(\"Train acc:\",accuracy_score(y_train, train_preds))\n",
    "print(\"Test acc:\",accuracy_score(y_test, test_preds))\n",
    "\n",
    "print(\"Train coverage:\", coverage_score(X_train, train_preds))\n",
    "print(\"Test coverage:\", coverage_score(X_test, test_preds))\n",
    "\n",
    "print(\"Train cumsum:\", cumsum_score(X_train, train_preds))\n",
    "print(\"Test cumsum:\", cumsum_score(X_test, test_preds))"
   ]
  },
  {
   "cell_type": "code",
   "execution_count": null,
   "metadata": {},
   "outputs": [],
   "source": [
    "from sklearn.manifold import TSNE\n",
    "X_embedded = TSNE(n_components=2).fit_transform(X_train['embedding'].to_numpy())"
   ]
  },
  {
   "cell_type": "code",
   "execution_count": 80,
   "metadata": {},
   "outputs": [
    {
     "data": {
      "text/plain": [
       "array([array([ 0.90015018,  0.44639269, -0.17738828, -1.29756117, -0.09211982,\n",
       "        1.03908408,  0.21159191,  1.36553979,  1.18196762, -1.88206589,\n",
       "        1.07749617, -0.66736126,  0.06314125,  1.05145264,  2.49908066,\n",
       "        0.47865438,  0.85194379, -0.03838288,  0.81936467, -1.38793349,\n",
       "        0.19931272, -0.53640199,  0.66081125,  0.22038889,  0.24614832,\n",
       "        1.05523324, -1.16523147, -0.93683857,  1.34827209, -1.88323867,\n",
       "       -0.03773436,  0.70662779,  0.15072753,  0.1969271 , -1.10533643,\n",
       "       -0.36852732,  2.71779513,  0.10807435, -0.38018432,  1.40758085,\n",
       "        0.73428297,  0.41505274,  0.11127096,  0.64584738, -1.10424244,\n",
       "        0.18742733, -0.97844768,  0.21102005, -0.75966108, -0.11271572,\n",
       "        0.64664763,  0.47732255,  0.58264077, -0.89682418,  0.83481228,\n",
       "        0.73451948,  0.36396232, -0.25700238,  0.14884318,  1.94575775,\n",
       "       -1.04660106,  2.63650322, -0.50496185, -0.44395834, -0.81767166,\n",
       "       -1.25785327, -0.0338489 ,  0.94024014, -0.28829649, -0.73729724,\n",
       "       -1.4995023 , -0.64897585, -0.15418355,  0.72985351, -0.69943112,\n",
       "       -0.87215662, -1.08170033, -0.15271352, -0.24598677,  1.76714289,\n",
       "        1.35020828,  1.45496774,  2.32487106,  0.16975603,  0.4985154 ,\n",
       "       -0.44588438,  1.47435343,  0.15704885,  1.59913576, -1.25564349,\n",
       "       -0.39782494, -1.25099289,  0.44412622,  1.16125536, -2.38517284,\n",
       "       -1.31159306,  0.43184677, -0.49129626,  0.60414273,  1.31325018,\n",
       "       -0.20027635, -1.26558924,  0.68054861, -1.83901477, -0.86984921,\n",
       "        0.30368134,  0.10420179, -0.42935747, -0.28894666, -0.52198815,\n",
       "        1.214028  , -2.31934905,  0.76453644,  0.42584181,  0.34328961,\n",
       "        0.81640953, -0.92764771,  0.14053531, -0.42699191, -0.24269898,\n",
       "       -1.31534147, -1.07807446, -0.66981107,  0.23865603,  0.1633611 ,\n",
       "       -0.70521939,  1.40478218,  0.04594791]),\n",
       "       array([ 5.78898907e-01,  4.28650379e-01, -3.45366627e-01, -1.25716388e+00,\n",
       "       -1.59031346e-01,  1.06779099e+00,  2.78451204e-01,  9.66141522e-01,\n",
       "        1.15346503e+00, -1.98771632e+00,  3.14291209e-01, -6.19946599e-01,\n",
       "       -4.39250410e-01,  1.20881915e+00,  2.42542601e+00,  6.79755986e-01,\n",
       "        1.25185061e+00,  3.32293421e-01,  8.95652175e-01, -1.24285126e+00,\n",
       "       -3.36791277e-02, -2.31678829e-01,  7.52277315e-01,  2.43045777e-01,\n",
       "        6.72728240e-01,  1.17608535e+00, -1.61073267e+00, -9.77659106e-01,\n",
       "        1.42901611e+00, -2.03991151e+00,  2.10376874e-01,  8.10525894e-01,\n",
       "        2.17491135e-01, -9.41022709e-02, -1.55270982e+00, -2.76776761e-01,\n",
       "        2.58211803e+00,  2.08811179e-01, -7.15770006e-01,  1.45082188e+00,\n",
       "        6.42747641e-01,  2.17204064e-01, -6.47706389e-02,  6.08593047e-01,\n",
       "       -1.30717635e+00,  3.73519242e-01, -8.96347642e-01,  2.36188129e-01,\n",
       "       -8.17322135e-01, -3.86068523e-01,  8.16658258e-01,  9.64698615e-04,\n",
       "        7.68352866e-01, -7.04856992e-01,  1.11164641e+00,  6.94429398e-01,\n",
       "       -1.36456445e-01, -2.46076897e-01,  2.63745397e-01,  1.99757016e+00,\n",
       "       -1.25480080e+00,  2.59827709e+00, -8.41891229e-01, -8.54330122e-01,\n",
       "       -7.69442558e-01, -6.87874019e-01,  3.94098125e-02,  5.77305615e-01,\n",
       "       -2.14822739e-01, -1.45817101e-01, -1.45460999e+00, -1.02909696e+00,\n",
       "       -8.11050609e-02,  7.37019002e-01, -6.63851023e-01, -1.12861860e+00,\n",
       "       -1.43973446e+00, -6.31709814e-01, -1.94671512e-01,  1.63774478e+00,\n",
       "        1.27512848e+00,  1.11371994e+00,  2.31559944e+00,  3.58306974e-01,\n",
       "        3.56236666e-01, -4.32950288e-01,  1.52052939e+00,  1.56239450e-01,\n",
       "        1.18390524e+00, -1.23154795e+00, -9.60256532e-02, -1.06933951e+00,\n",
       "        5.59005678e-01,  1.13942778e+00, -2.61365843e+00, -1.14862430e+00,\n",
       "        3.42968076e-01,  9.18946266e-02,  5.36690593e-01,  1.34641898e+00,\n",
       "       -5.69502294e-01, -6.81891203e-01,  3.35724860e-01, -1.68025589e+00,\n",
       "       -5.88591397e-01,  6.58478796e-01,  4.45122182e-01, -3.60597789e-01,\n",
       "       -3.98274720e-01, -4.85887885e-01,  1.31214070e+00, -2.09418416e+00,\n",
       "        1.28191435e+00,  4.78493690e-01,  4.86499101e-01,  6.92233443e-01,\n",
       "       -7.70865619e-01, -2.62417514e-02, -8.79117548e-02,  8.82498696e-02,\n",
       "       -1.55784166e+00, -8.19547832e-01, -4.56487209e-01,  1.85186476e-01,\n",
       "        3.00079763e-01, -1.13321252e-01,  1.43473577e+00, -1.94840014e-01]),\n",
       "       array([ 1.26985800e+00, -3.47127728e-02,  4.78714198e-01, -1.06899047e+00,\n",
       "       -3.41448486e-01,  1.22456349e-01, -1.11921646e-01,  1.27310789e+00,\n",
       "        1.53169036e-01, -1.05921721e+00,  1.97690323e-01, -9.16638732e-01,\n",
       "        1.71352178e-01,  1.05449808e+00,  1.09928024e+00,  1.71427712e-01,\n",
       "        4.47640032e-01,  1.54693937e+00, -1.45188391e-01, -6.09961629e-01,\n",
       "        1.00464129e+00, -2.14982986e-01, -6.36342704e-01,  8.22037458e-01,\n",
       "        1.11973929e+00,  9.15679514e-01, -9.36501443e-01,  5.70939064e-01,\n",
       "        1.99478233e+00, -1.27453709e+00,  1.03311263e-01,  1.06026328e+00,\n",
       "       -3.66896361e-01,  3.44385803e-01, -2.48239923e+00,  5.67327403e-02,\n",
       "        1.58090806e+00,  2.96629548e-01, -5.64809859e-01,  8.80740643e-01,\n",
       "        7.36768365e-01,  3.49569499e-01, -5.98910868e-01,  3.15795749e-01,\n",
       "       -2.82635301e-01,  1.24648571e+00, -1.40219927e+00,  1.07345951e+00,\n",
       "        1.87308341e-01, -5.93321741e-01,  1.06815124e+00,  8.41365337e-01,\n",
       "        5.27933598e-01, -1.07113826e+00,  1.28991461e+00, -3.87628406e-01,\n",
       "        3.66936699e-02, -4.34127753e-04,  9.45631787e-02,  1.03236544e+00,\n",
       "       -1.52403450e+00,  2.92551684e+00,  2.64392495e-01, -6.38916075e-01,\n",
       "       -1.27128589e+00, -1.16487360e+00, -9.71553206e-01, -2.02986449e-01,\n",
       "       -6.56398952e-01,  1.04016888e+00, -6.19020965e-03,  8.68132636e-02,\n",
       "        2.74369031e-01, -2.77604908e-02, -5.63080132e-01, -1.88936031e+00,\n",
       "       -1.10615373e+00,  6.42680451e-02,  3.61480415e-01,  1.37324846e+00,\n",
       "        1.28945231e+00, -2.28438228e-01,  2.45915914e+00, -9.10699666e-01,\n",
       "        1.43404035e-02,  8.63589942e-02,  2.05809259e+00, -6.23736158e-02,\n",
       "        2.42578793e+00, -1.36748385e+00, -3.85610908e-01, -6.49521172e-01,\n",
       "        8.52230489e-01,  6.38376892e-01, -2.23690438e+00, -9.07280564e-01,\n",
       "        5.91849267e-01,  1.83968231e-01, -3.04251194e-01,  8.87863517e-01,\n",
       "        7.74900690e-02, -3.77803206e-01,  1.20303154e+00, -1.52937198e+00,\n",
       "       -1.41413331e+00,  7.84438193e-01, -2.88832515e-01, -3.89437914e-01,\n",
       "       -1.08071923e+00, -1.55777112e-01,  1.39060843e+00, -2.00098324e+00,\n",
       "        8.93412113e-01, -4.58466150e-02, -1.02231741e-01,  1.54332411e+00,\n",
       "       -1.57405436e+00,  4.82542217e-01, -2.07191601e-01,  1.40475225e+00,\n",
       "       -1.41523337e+00, -9.01092112e-01, -1.16545808e+00,  1.09163725e+00,\n",
       "       -9.70101357e-02,  3.01942080e-01,  3.78595501e-01,  5.31664491e-01]),\n",
       "       ...,\n",
       "       array([ 0.75631195,  0.51211512, -0.5453046 , -1.59325922, -0.16318545,\n",
       "        1.22158325,  0.17530364,  1.23870444,  1.29431009, -1.67997181,\n",
       "        0.81126559, -0.62937611,  0.00441803,  0.90059531,  2.22955108,\n",
       "        0.66415912,  1.14684188,  0.1374981 ,  0.73507702, -1.21086729,\n",
       "        0.21433751, -0.31513152,  0.71841425,  0.39677647,  0.23577921,\n",
       "        1.13597274, -1.62108743, -0.59704471,  1.19956398, -2.00171041,\n",
       "       -0.18584122,  0.79222834,  0.10216695,  0.19522592, -0.99184453,\n",
       "       -0.50582939,  2.39744091,  0.18178536, -0.79259664,  1.85821426,\n",
       "        0.70734811,  0.03633476,  0.11359663,  0.66317302, -1.10978055,\n",
       "        0.21235755, -0.90690833,  0.24284084, -0.62199003, -0.53516185,\n",
       "        0.63785994,  0.25976914,  0.63600737, -0.60077435,  0.87414134,\n",
       "        0.6073066 ,  0.4043476 , -0.41280344,  0.10102103,  1.82820439,\n",
       "       -1.33420622,  2.56715441, -0.92019933, -0.83203989, -0.98763847,\n",
       "       -0.84744883,  0.08223858,  0.57520533, -0.24189611, -0.6364758 ,\n",
       "       -1.6461091 , -0.51552474,  0.07228472,  0.76629883, -0.77980095,\n",
       "       -1.08658111, -0.90178692, -0.01270972, -0.33028167,  1.68002641,\n",
       "        1.39902186,  1.14076877,  2.41036367,  0.16658853,  0.63380796,\n",
       "       -0.35558566,  1.65455914, -0.13700348,  1.45526886, -1.06945753,\n",
       "       -0.1086059 , -1.10864806,  0.67324018,  1.34285879, -2.52922726,\n",
       "       -1.06848705,  0.30494344, -0.34925964,  0.43138587,  1.62055206,\n",
       "       -0.36822429, -1.14883471,  0.41356483, -1.73857367, -0.72769731,\n",
       "        0.56536764, -0.01042592, -0.24315874, -0.35128903, -0.50573236,\n",
       "        1.39634717, -2.05038786,  1.05600095,  0.47620642,  0.35165924,\n",
       "        0.56672037, -0.71036607,  0.11718119, -0.38729852, -0.35807618,\n",
       "       -1.62501323, -1.34724772, -0.78351432,  0.18016019, -0.13681716,\n",
       "       -0.40384123,  1.6073786 , -0.35376748]),\n",
       "       array([ 9.90060210e-01,  4.40603733e-01, -2.25255936e-01, -1.61008883e+00,\n",
       "        8.45135525e-02,  6.55102134e-01, -3.12928379e-01,  1.35160768e+00,\n",
       "        6.35087073e-01, -2.08803535e+00,  9.72861528e-01, -5.72554827e-01,\n",
       "        4.87655222e-01,  1.03541899e+00,  2.44855976e+00,  1.18108356e+00,\n",
       "        1.00863457e+00,  2.34651491e-02,  5.61368763e-01, -1.52952492e+00,\n",
       "        2.95401275e-01, -5.14234304e-01,  1.14522672e+00,  5.19232571e-01,\n",
       "        1.82015151e-01,  6.85104489e-01, -3.57614249e-01, -1.21270823e+00,\n",
       "        1.33444345e+00, -1.50589979e+00, -4.23018485e-01,  7.23834276e-01,\n",
       "       -1.47126749e-01,  9.24531996e-01, -5.33002377e-01, -6.83259010e-01,\n",
       "        3.19449735e+00,  3.87874961e-01,  9.86745507e-02,  1.13442802e+00,\n",
       "        5.35357833e-01,  3.29156160e-01,  4.38492209e-01,  9.76707757e-01,\n",
       "       -1.02638209e+00,  2.79808849e-01, -6.42808259e-01, -7.26729214e-01,\n",
       "       -4.66969758e-01,  7.64413893e-01,  4.85577993e-02,  7.05267251e-01,\n",
       "        3.40344697e-01, -7.32543051e-01,  9.95967746e-01,  1.28260219e+00,\n",
       "        6.37566090e-01, -1.72494605e-01,  3.20446223e-01,  2.09299040e+00,\n",
       "       -8.17486405e-01,  2.76823902e+00, -2.86340475e-01, -3.79026473e-01,\n",
       "       -4.33422774e-01, -7.92876422e-01, -2.56410241e-01,  1.34247792e+00,\n",
       "       -5.68463624e-01, -5.14648557e-01, -1.33550227e+00, -3.47817034e-01,\n",
       "       -7.03206286e-02,  8.25003386e-01, -6.88996613e-01, -4.13317382e-01,\n",
       "       -1.05209315e+00, -6.45107701e-02, -3.82490456e-01,  1.84093058e+00,\n",
       "        1.29258025e+00,  1.88801825e+00,  1.78962111e+00, -1.29667729e-01,\n",
       "        1.62582442e-01, -1.84352864e-02,  1.46175337e+00,  4.96205181e-01,\n",
       "        1.50866222e+00, -9.02382910e-01, -2.03433424e-01, -1.39807343e+00,\n",
       "       -6.33784533e-02,  1.03820431e+00, -2.15101552e+00, -1.61181152e+00,\n",
       "       -3.48847099e-02, -7.66934752e-01,  7.25277126e-01,  1.23534751e+00,\n",
       "        7.79063703e-05, -1.25038230e+00,  7.61928022e-01, -1.57782519e+00,\n",
       "       -8.10139120e-01, -3.67152616e-02, -4.76027071e-01, -1.51052102e-01,\n",
       "       -7.23043799e-01, -1.32985735e+00,  1.37326992e+00, -1.93133485e+00,\n",
       "        1.11735415e+00,  8.20129871e-01,  5.31401634e-01,  3.47422183e-01,\n",
       "       -6.73710406e-01,  5.41405678e-01, -7.71719396e-01, -7.19778299e-01,\n",
       "       -9.90204930e-01, -7.49963641e-01, -9.61067617e-01,  2.10158467e-01,\n",
       "       -2.29301378e-01, -1.19251981e-01,  1.16838038e+00,  1.87115937e-01]),\n",
       "       array([ 0.62849283,  0.64032525, -0.35358474, -1.24369836, -0.195151  ,\n",
       "        1.25420833,  0.44824502,  1.24248374,  1.18421471, -1.59608805,\n",
       "        0.88938659, -0.55928892, -0.48434207,  0.85177761,  2.02574348,\n",
       "        0.62712777,  0.93897367,  0.10570528,  0.9787221 , -1.2771529 ,\n",
       "        0.28810212, -0.27712429,  0.62705827,  0.01721991,  0.12351969,\n",
       "        1.09356654, -1.80244541, -0.55888486,  1.20133913, -1.85664105,\n",
       "        0.15509368,  0.8014034 ,  0.29033551,  0.00866076, -1.21314824,\n",
       "       -0.52598053,  2.47367668, -0.02636411, -0.86047632,  1.71079791,\n",
       "        0.94187993,  0.25991726,  0.02730952,  0.58029622, -1.15242863,\n",
       "        0.45046601, -0.91410762,  0.40879008, -0.69709617, -0.60090715,\n",
       "        0.39444965,  0.329193  ,  0.72462302, -0.74686605,  0.71643537,\n",
       "        0.56992275, -0.1058063 , -0.52888227,  0.42140672,  1.75583327,\n",
       "       -1.30391002,  2.53472853, -0.94836706, -0.50097531, -0.83218998,\n",
       "       -0.88603085, -0.21308316,  0.62796175, -0.30042648, -0.79915595,\n",
       "       -1.39878154, -0.82684499, -0.0326789 ,  0.63688034, -0.71600479,\n",
       "       -1.26314962, -0.84620404, -0.23280939, -0.35342732,  1.84892333,\n",
       "        1.19146216,  0.97297913,  2.75149918,  0.44987333,  0.40622774,\n",
       "       -0.06680715,  1.59785259, -0.3254844 ,  1.44982481, -1.21963012,\n",
       "       -0.28754237, -0.82251769,  0.54818881,  1.31005502, -2.5650084 ,\n",
       "       -1.28993201,  0.3478767 , -0.30532989,  0.41865748,  1.53282928,\n",
       "       -0.50478888, -1.14207113,  0.62274402, -1.9402808 , -0.66266543,\n",
       "        0.77442598,  0.41937286, -0.30837864, -0.34872317, -0.14474675,\n",
       "        1.35900128, -2.31978202,  1.05582297,  0.29657641,  0.57510346,\n",
       "        0.58549035, -0.74705178, -0.05401258, -0.42480338, -0.08038256,\n",
       "       -1.20775008, -1.13272917, -0.69545245,  0.4455677 ,  0.1920523 ,\n",
       "       -0.72173148,  1.58172011, -0.23925953])], dtype=object)"
      ]
     },
     "execution_count": 80,
     "metadata": {},
     "output_type": "execute_result"
    }
   ],
   "source": [
    "X_train['embedding'].to_numpy()"
   ]
  }
 ],
 "metadata": {
  "kernelspec": {
   "display_name": "Python 3",
   "language": "python",
   "name": "python3"
  },
  "language_info": {
   "codemirror_mode": {
    "name": "ipython",
    "version": 3
   },
   "file_extension": ".py",
   "mimetype": "text/x-python",
   "name": "python",
   "nbconvert_exporter": "python",
   "pygments_lexer": "ipython3",
   "version": "3.6.8"
  }
 },
 "nbformat": 4,
 "nbformat_minor": 2
}
