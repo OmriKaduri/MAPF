{
 "cells": [
  {
   "cell_type": "code",
   "execution_count": 1,
   "metadata": {},
   "outputs": [],
   "source": [
    "import pandas as pd"
   ]
  },
  {
   "cell_type": "code",
   "execution_count": 9,
   "metadata": {},
   "outputs": [],
   "source": [
    "df = pd.read_csv('data/AllData.csv')"
   ]
  },
  {
   "cell_type": "code",
   "execution_count": 10,
   "metadata": {},
   "outputs": [],
   "source": [
    "features_cols = ['GridRows', 'GridColumns', 'NumOfAgents', 'NumOfObstacles', 'BranchingFactor', 'ObstacleDensity',\n",
    "            'AvgDistanceToGoal', 'MaxDistanceToGoal', 'MinDistanceToGoal', 'AvgStartDistances', 'AvgGoalDistances',\n",
    "            'PointsAtSPRatio']\n",
    "runtime_cols = list(df.filter(like=\"Runtime\"))\n",
    "relev_cols = runtime_cols + features_cols + ['Y']"
   ]
  },
  {
   "cell_type": "code",
   "execution_count": 11,
   "metadata": {},
   "outputs": [
    {
     "data": {
      "text/plain": [
       "['A*+OD+ID Runtime',\n",
       " 'MA-CBS-Global-10/(A*+OD/SIC) choosing the first conflict in CBS nodes Runtime',\n",
       " 'MA-CBS-Local-10/(single:A*/SIC multi:A*+OD/SIC) choosing the first conflict in CBS nodes Runtime',\n",
       " 'Basic-CBS/(A*+OD/SIC) choosing the first conflict in CBS nodes Runtime',\n",
       " 'MA-CBS-Global-10/(EPEA*/SIC) choosing the first conflict in CBS nodes Runtime',\n",
       " 'MA-CBS-Local-10/(single:A*/SIC multi:EPEA*/SIC) choosing the first conflict in CBS nodes Runtime',\n",
       " 'Basic-CBS/(A*/SIC) choosing cardinal conflicts using lookahead Runtime',\n",
       " 'Basic-CBS/(A*/SIC)+ID Runtime',\n",
       " 'ICTS 2RE Runtime']"
      ]
     },
     "execution_count": 11,
     "metadata": {},
     "output_type": "execute_result"
    }
   ],
   "source": [
    "runtime_cols"
   ]
  },
  {
   "cell_type": "code",
   "execution_count": 12,
   "metadata": {},
   "outputs": [],
   "source": [
    "Y = df[runtime_cols].idxmin(axis=1)\n",
    "df['Y'] = Y"
   ]
  },
  {
   "cell_type": "code",
   "execution_count": 14,
   "metadata": {},
   "outputs": [],
   "source": [
    "df = df[features_cols+['Y']]"
   ]
  },
  {
   "cell_type": "code",
   "execution_count": 13,
   "metadata": {},
   "outputs": [],
   "source": [
    "df.to_csv(\"data/AllData-labelled.csv\")"
   ]
  },
  {
   "cell_type": "code",
   "execution_count": 14,
   "metadata": {},
   "outputs": [
    {
     "data": {
      "text/plain": [
       "MA-CBS-Global-10/(EPEA*/SIC) choosing the first conflict in CBS nodes Runtime                       755\n",
       "Basic-CBS/(A*/SIC) choosing cardinal conflicts using lookahead Runtime                              573\n",
       "MA-CBS-Local-10/(single:A*/SIC multi:EPEA*/SIC) choosing the first conflict in CBS nodes Runtime    539\n",
       "A*+OD+ID Runtime                                                                                    395\n",
       "MA-CBS-Local-10/(single:A*/SIC multi:A*+OD/SIC) choosing the first conflict in CBS nodes Runtime    370\n",
       "MA-CBS-Global-10/(A*+OD/SIC) choosing the first conflict in CBS nodes Runtime                       321\n",
       "Basic-CBS/(A*/SIC)+ID Runtime                                                                       321\n",
       "Basic-CBS/(A*+OD/SIC) choosing the first conflict in CBS nodes Runtime                              182\n",
       "ICTS 2RE Runtime                                                                                      4\n",
       "Name: Y, dtype: int64"
      ]
     },
     "execution_count": 14,
     "metadata": {},
     "output_type": "execute_result"
    }
   ],
   "source": [
    "df['Y'].value_counts()"
   ]
  }
 ],
 "metadata": {
  "kernelspec": {
   "display_name": "Python 3",
   "language": "python",
   "name": "python3"
  },
  "language_info": {
   "codemirror_mode": {
    "name": "ipython",
    "version": 3
   },
   "file_extension": ".py",
   "mimetype": "text/x-python",
   "name": "python",
   "nbconvert_exporter": "python",
   "pygments_lexer": "ipython3",
   "version": "3.6.8"
  }
 },
 "nbformat": 4,
 "nbformat_minor": 2
}
