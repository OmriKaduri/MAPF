{
 "cells": [
  {
   "cell_type": "code",
   "execution_count": 11,
   "metadata": {},
   "outputs": [],
   "source": [
    "import pandas as pd\n",
    "import matplotlib.pyplot as plt\n",
    "import seaborn as sns\n",
    "sns.set(style=\"ticks\", color_codes=True)\n",
    "%matplotlib inline"
   ]
  },
  {
   "cell_type": "code",
   "execution_count": 42,
   "metadata": {},
   "outputs": [],
   "source": [
    "df = pd.read_csv('data/9f1af44d-41e8-43ac-ae56-203cdd798649-labelled.csv')"
   ]
  },
  {
   "cell_type": "code",
   "execution_count": 43,
   "metadata": {},
   "outputs": [],
   "source": [
    "features_cols = ['GridRows', 'GridColumns', 'NumOfAgents', 'NumOfObstacles', 'ObstacleDensity',\n",
    "            'AvgDistanceToGoal', 'AvgStartDistances', 'AvgGoalDistances']"
   ]
  },
  {
   "cell_type": "code",
   "execution_count": 36,
   "metadata": {},
   "outputs": [],
   "source": [
    "from sklearn.preprocessing import StandardScaler\n",
    "from sklearn.preprocessing import MinMaxScaler\n",
    "\n",
    "min_max_scaler = MinMaxScaler(feature_range=(0, 100))\n",
    "\n",
    "x = df[['A*+OD+ID Runtime']].values\n",
    "x_scaled = min_max_scaler.fit_transform(x)\n",
    "df_temp = pd.DataFrame(x_scaled, columns=['A*+OD+ID Runtime'], index = df.index)\n",
    "df['A*+OD+ID Runtime'] = df_temp\n"
   ]
  },
  {
   "cell_type": "code",
   "execution_count": 37,
   "metadata": {},
   "outputs": [],
   "source": [
    "from sklearn.metrics import confusion_matrix \n",
    "from sklearn.model_selection import train_test_split  \n",
    "# 'ICTS 2RE Runtime']\n",
    "# dividing X, y into train and test data \n",
    "X_train, X_test, y_train, y_test = train_test_split(df[features_cols], df['A*+OD+ID Runtime'], test_size=0.3) "
   ]
  },
  {
   "cell_type": "code",
   "execution_count": 38,
   "metadata": {},
   "outputs": [
    {
     "data": {
      "text/plain": [
       "((1727, 8), (1727,), (741, 8), (741,))"
      ]
     },
     "execution_count": 38,
     "metadata": {},
     "output_type": "execute_result"
    }
   ],
   "source": [
    "X_train.shape, y_train.shape, X_test.shape, y_test.shape"
   ]
  },
  {
   "cell_type": "code",
   "execution_count": 39,
   "metadata": {},
   "outputs": [
    {
     "name": "stdout",
     "output_type": "stream",
     "text": [
      "MSE: 0.0005\n"
     ]
    }
   ],
   "source": [
    "from sklearn.ensemble import GradientBoostingRegressor\n",
    "from sklearn.metrics import mean_squared_error\n",
    "\n",
    "params = {'n_estimators': 500, 'max_depth': 4, 'min_samples_split': 2,\n",
    "          'learning_rate': 0.01, 'loss': 'ls'}\n",
    "\n",
    "clf = GradientBoostingRegressor(**params)\n",
    "clf.fit(X_train, y_train)\n",
    "\n",
    "# GradientBoostingClassifier(criterion=’friedman_mse’, init=None,\n",
    "#  learning_rate=0.1, loss=’deviance’, max_depth=3,\n",
    "#  max_features=None, max_leaf_nodes=None,\n",
    "#  min_impurity_split=1e-07, min_samples_leaf=1,\n",
    "#  min_samples_split=2, min_weight_fraction_leaf=0.0,\n",
    "#  n_estimators=100, presort=’auto’, random_state=None,\n",
    "#  subsample=1.0, verbose=0, warm_start=False)\n",
    "mse = mean_squared_error(y_test, clf.predict(X_test))\n",
    "print(\"MSE: %.4f\" % mse)\n"
   ]
  },
  {
   "cell_type": "code",
   "execution_count": 41,
   "metadata": {},
   "outputs": [
    {
     "data": {
      "text/plain": [
       "0       1.000000\n",
       "1       0.000151\n",
       "2       0.023479\n",
       "3       0.001089\n",
       "4       0.000547\n",
       "5       0.000920\n",
       "6       0.001435\n",
       "7       0.002408\n",
       "8       0.002227\n",
       "9       0.004080\n",
       "10      0.002882\n",
       "11      0.003271\n",
       "12      0.005848\n",
       "13      0.004664\n",
       "14      0.000524\n",
       "15      0.161165\n",
       "16      0.000525\n",
       "17      0.161195\n",
       "18      0.123031\n",
       "19      0.161177\n",
       "20      0.161197\n",
       "21      0.029612\n",
       "22      0.004322\n",
       "23      0.161177\n",
       "24      0.101896\n",
       "25      0.017868\n",
       "26      0.161178\n",
       "27      0.161187\n",
       "28      0.161181\n",
       "29      0.021838\n",
       "          ...   \n",
       "2438    0.000036\n",
       "2439    0.000034\n",
       "2440    0.000062\n",
       "2441    0.000093\n",
       "2442    0.000154\n",
       "2443    0.000096\n",
       "2444    0.000202\n",
       "2445    0.000397\n",
       "2446    0.000242\n",
       "2447    0.000510\n",
       "2448    0.000057\n",
       "2449    0.000051\n",
       "2450    0.000096\n",
       "2451    0.000156\n",
       "2452    0.000137\n",
       "2453    0.000144\n",
       "2454    0.000251\n",
       "2455    0.000285\n",
       "2456    0.000174\n",
       "2457    0.000324\n",
       "2458    0.000004\n",
       "2459    0.000073\n",
       "2460    0.000030\n",
       "2461    0.000118\n",
       "2462    0.000100\n",
       "2463    0.000218\n",
       "2464    0.000277\n",
       "2465    0.000024\n",
       "2466    0.000036\n",
       "2467    0.000085\n",
       "Name: A*+OD+ID Runtime, Length: 2468, dtype: float64"
      ]
     },
     "execution_count": 41,
     "metadata": {},
     "output_type": "execute_result"
    }
   ],
   "source": [
    "df['A*+OD+ID Runtime']"
   ]
  },
  {
   "cell_type": "code",
   "execution_count": 40,
   "metadata": {},
   "outputs": [
    {
     "name": "stdout",
     "output_type": "stream",
     "text": [
      "['GridRows' 'GridColumns' 'NumOfObstacles' 'AvgDistanceToGoal'\n",
      " 'ObstacleDensity' 'AvgStartDistances' 'AvgGoalDistances' 'NumOfAgents']\n",
      "[0 1 3 5 4 6 7 2]\n"
     ]
    },
    {
     "data": {
      "image/png": "[encoded data removed]",
      "text/plain": [
       "<Figure size 432x288 with 1 Axes>"
      ]
     },
     "metadata": {
      "needs_background": "light"
     },
     "output_type": "display_data"
    }
   ],
   "source": [
    "import numpy as np\n",
    "feature_importance = clf.feature_importances_\n",
    "# make importances relative to max importance\n",
    "feature_importance = 100.0 * (feature_importance / feature_importance.max())\n",
    "sorted_idx = np.argsort(feature_importance)\n",
    "print(np.array(features_cols)[sorted_idx])\n",
    "print(sorted_idx)\n",
    "pos = np.arange(sorted_idx.shape[0]) + .5\n",
    "plt.subplot(1, 2, 2)\n",
    "plt.barh(pos, feature_importance[sorted_idx], align='center')\n",
    "plt.yticks(pos, np.array(features_cols)[sorted_idx])\n",
    "plt.xlabel('Relative Importance')\n",
    "plt.title('Variable Importance')\n",
    "plt.show()"
   ]
  }
 ],
 "metadata": {
  "kernelspec": {
   "display_name": "Python 3",
   "language": "python",
   "name": "python3"
  },
  "language_info": {
   "codemirror_mode": {
    "name": "ipython",
    "version": 3
   },
   "file_extension": ".py",
   "mimetype": "text/x-python",
   "name": "python",
   "nbconvert_exporter": "python",
   "pygments_lexer": "ipython3",
   "version": "3.6.8"
  }
 },
 "nbformat": 4,
 "nbformat_minor": 2
}
