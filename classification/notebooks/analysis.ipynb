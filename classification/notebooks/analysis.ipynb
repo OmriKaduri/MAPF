{
 "cells": [
  {
   "cell_type": "code",
   "execution_count": 4,
   "metadata": {},
   "outputs": [],
   "source": [
    "import sys; sys.path.insert(0, '..') #Add upper folder to path\n",
    "from src.preprocess import Preprocess\n",
    "import matplotlib.pyplot as plt\n",
    "%matplotlib inline\n",
    "import pandas as pd\n",
    "import yaml"
   ]
  },
  {
   "cell_type": "code",
   "execution_count": 11,
   "metadata": {},
   "outputs": [],
   "source": [
    "with open(\"../src/analysis-config.yaml\", 'r') as stream:\n",
    "    config = yaml.safe_load(stream)\n",
    "\n",
    "features_cols = config['features']\n",
    "cat_features_cols = config['cat_features']\n",
    "max_runtime = 300000\n",
    "algorithms = config['algorithms']\n",
    "runtime_cols = [algorithm + ' Runtime' for algorithm in algorithms]\n",
    "runtime_cols.append('Y Runtime')\n",
    "success_cols = [algorithm + ' Success' for algorithm in algorithms]\n",
    "# data_path = '../src/AllData-labelled-with-features.csv'\n",
    "data_path = '../data/from-vpn/experiments/30.11.20-linux-withlazycbs_cbsh-c/LAZYCBS/Lazy_EPEA_ICTS_SAT-with-features.csv'\n",
    "\n",
    "df = pd.read_csv(data_path)\n",
    "\n",
    "# drop_maps = None\n",
    "# drop_maps = ['warehouse']\n",
    "\n",
    "if drop_maps is not None:\n",
    "    for maptype in drop_maps:\n",
    "        df = df[~df.GridName.str.contains(maptype)]\n",
    "    df = df.reset_index(drop=True)"
   ]
  },
  {
   "cell_type": "code",
   "execution_count": 8,
   "metadata": {},
   "outputs": [
    {
     "ename": "KeyError",
     "evalue": "'Y'",
     "output_type": "error",
     "traceback": [
      "\u001b[0;31m---------------------------------------------------------------------------\u001b[0m",
      "\u001b[0;31mKeyError\u001b[0m                                  Traceback (most recent call last)",
      "\u001b[0;32mc:\\users\\omri\\appdata\\local\\programs\\python\\python36\\lib\\site-packages\\pandas\\core\\indexes\\base.py\u001b[0m in \u001b[0;36mget_loc\u001b[0;34m(self, key, method, tolerance)\u001b[0m\n\u001b[1;32m   2888\u001b[0m             \u001b[0;32mtry\u001b[0m\u001b[0;34m:\u001b[0m\u001b[0;34m\u001b[0m\u001b[0;34m\u001b[0m\u001b[0m\n\u001b[0;32m-> 2889\u001b[0;31m                 \u001b[0;32mreturn\u001b[0m \u001b[0mself\u001b[0m\u001b[0;34m.\u001b[0m\u001b[0m_engine\u001b[0m\u001b[0;34m.\u001b[0m\u001b[0mget_loc\u001b[0m\u001b[0;34m(\u001b[0m\u001b[0mcasted_key\u001b[0m\u001b[0;34m)\u001b[0m\u001b[0;34m\u001b[0m\u001b[0;34m\u001b[0m\u001b[0m\n\u001b[0m\u001b[1;32m   2890\u001b[0m             \u001b[0;32mexcept\u001b[0m \u001b[0mKeyError\u001b[0m \u001b[0;32mas\u001b[0m \u001b[0merr\u001b[0m\u001b[0;34m:\u001b[0m\u001b[0;34m\u001b[0m\u001b[0;34m\u001b[0m\u001b[0m\n",
      "\u001b[0;32mpandas\\_libs\\index.pyx\u001b[0m in \u001b[0;36mpandas._libs.index.IndexEngine.get_loc\u001b[0;34m()\u001b[0m\n",
      "\u001b[0;32mpandas\\_libs\\index.pyx\u001b[0m in \u001b[0;36mpandas._libs.index.IndexEngine.get_loc\u001b[0;34m()\u001b[0m\n",
      "\u001b[0;32mpandas\\_libs\\hashtable_class_helper.pxi\u001b[0m in \u001b[0;36mpandas._libs.hashtable.PyObjectHashTable.get_item\u001b[0;34m()\u001b[0m\n",
      "\u001b[0;32mpandas\\_libs\\hashtable_class_helper.pxi\u001b[0m in \u001b[0;36mpandas._libs.hashtable.PyObjectHashTable.get_item\u001b[0;34m()\u001b[0m\n",
      "\u001b[0;31mKeyError\u001b[0m: 'Y'",
      "\nThe above exception was the direct cause of the following exception:\n",
      "\u001b[0;31mKeyError\u001b[0m                                  Traceback (most recent call last)",
      "\u001b[0;32m<ipython-input-8-8a232216afb7>\u001b[0m in \u001b[0;36m<module>\u001b[0;34m()\u001b[0m\n\u001b[1;32m      2\u001b[0m \u001b[0;34m\u001b[0m\u001b[0m\n\u001b[1;32m      3\u001b[0m df, features_cols = preprocess.load_labelled_results(data_path, drop_maps=['warehouse', 'maze-128-128-1'],\n\u001b[0;32m----> 4\u001b[0;31m                                                      unsolved_only=False)\n\u001b[0m",
      "\u001b[0;32mC:\\Users\\omri\\Projects\\study\\2019semB\\agentsPlanning\\MAPF\\classification\\src\\preprocess.py\u001b[0m in \u001b[0;36mload_labelled_results\u001b[0;34m(self, csv_file, drop_maps, unsolved_only)\u001b[0m\n\u001b[1;32m     75\u001b[0m                 \u001b[0mself\u001b[0m\u001b[0;34m.\u001b[0m\u001b[0mdrop_map\u001b[0m\u001b[0;34m(\u001b[0m\u001b[0mmap\u001b[0m\u001b[0;34m)\u001b[0m\u001b[0;34m\u001b[0m\u001b[0;34m\u001b[0m\u001b[0m\n\u001b[1;32m     76\u001b[0m \u001b[0;34m\u001b[0m\u001b[0m\n\u001b[0;32m---> 77\u001b[0;31m         \u001b[0malgorithms_not_in_configuration\u001b[0m \u001b[0;34m=\u001b[0m \u001b[0mset\u001b[0m\u001b[0;34m(\u001b[0m\u001b[0mself\u001b[0m\u001b[0;34m.\u001b[0m\u001b[0mdf\u001b[0m\u001b[0;34m[\u001b[0m\u001b[0;34m'Y'\u001b[0m\u001b[0;34m]\u001b[0m\u001b[0;34m.\u001b[0m\u001b[0munique\u001b[0m\u001b[0;34m(\u001b[0m\u001b[0;34m)\u001b[0m\u001b[0;34m)\u001b[0m \u001b[0;34m-\u001b[0m \u001b[0mset\u001b[0m\u001b[0;34m(\u001b[0m\u001b[0mself\u001b[0m\u001b[0;34m.\u001b[0m\u001b[0mruntime_cols\u001b[0m\u001b[0;34m)\u001b[0m\u001b[0;34m\u001b[0m\u001b[0;34m\u001b[0m\u001b[0m\n\u001b[0m\u001b[1;32m     78\u001b[0m         \u001b[0;32mif\u001b[0m \u001b[0malgorithms_not_in_configuration\u001b[0m \u001b[0;34m!=\u001b[0m \u001b[0mset\u001b[0m\u001b[0;34m(\u001b[0m\u001b[0;34m)\u001b[0m\u001b[0;34m:\u001b[0m\u001b[0;34m\u001b[0m\u001b[0;34m\u001b[0m\u001b[0m\n\u001b[1;32m     79\u001b[0m             \u001b[0mself\u001b[0m\u001b[0;34m.\u001b[0m\u001b[0mdrop_algorithms\u001b[0m\u001b[0;34m(\u001b[0m\u001b[0malgorithms_not_in_configuration\u001b[0m\u001b[0;34m)\u001b[0m\u001b[0;34m\u001b[0m\u001b[0;34m\u001b[0m\u001b[0m\n",
      "\u001b[0;32mc:\\users\\omri\\appdata\\local\\programs\\python\\python36\\lib\\site-packages\\pandas\\core\\frame.py\u001b[0m in \u001b[0;36m__getitem__\u001b[0;34m(self, key)\u001b[0m\n\u001b[1;32m   2900\u001b[0m             \u001b[0;32mif\u001b[0m \u001b[0mself\u001b[0m\u001b[0;34m.\u001b[0m\u001b[0mcolumns\u001b[0m\u001b[0;34m.\u001b[0m\u001b[0mnlevels\u001b[0m \u001b[0;34m>\u001b[0m \u001b[0;36m1\u001b[0m\u001b[0;34m:\u001b[0m\u001b[0;34m\u001b[0m\u001b[0;34m\u001b[0m\u001b[0m\n\u001b[1;32m   2901\u001b[0m                 \u001b[0;32mreturn\u001b[0m \u001b[0mself\u001b[0m\u001b[0;34m.\u001b[0m\u001b[0m_getitem_multilevel\u001b[0m\u001b[0;34m(\u001b[0m\u001b[0mkey\u001b[0m\u001b[0;34m)\u001b[0m\u001b[0;34m\u001b[0m\u001b[0;34m\u001b[0m\u001b[0m\n\u001b[0;32m-> 2902\u001b[0;31m             \u001b[0mindexer\u001b[0m \u001b[0;34m=\u001b[0m \u001b[0mself\u001b[0m\u001b[0;34m.\u001b[0m\u001b[0mcolumns\u001b[0m\u001b[0;34m.\u001b[0m\u001b[0mget_loc\u001b[0m\u001b[0;34m(\u001b[0m\u001b[0mkey\u001b[0m\u001b[0;34m)\u001b[0m\u001b[0;34m\u001b[0m\u001b[0;34m\u001b[0m\u001b[0m\n\u001b[0m\u001b[1;32m   2903\u001b[0m             \u001b[0;32mif\u001b[0m \u001b[0mis_integer\u001b[0m\u001b[0;34m(\u001b[0m\u001b[0mindexer\u001b[0m\u001b[0;34m)\u001b[0m\u001b[0;34m:\u001b[0m\u001b[0;34m\u001b[0m\u001b[0;34m\u001b[0m\u001b[0m\n\u001b[1;32m   2904\u001b[0m                 \u001b[0mindexer\u001b[0m \u001b[0;34m=\u001b[0m \u001b[0;34m[\u001b[0m\u001b[0mindexer\u001b[0m\u001b[0;34m]\u001b[0m\u001b[0;34m\u001b[0m\u001b[0;34m\u001b[0m\u001b[0m\n",
      "\u001b[0;32mc:\\users\\omri\\appdata\\local\\programs\\python\\python36\\lib\\site-packages\\pandas\\core\\indexes\\base.py\u001b[0m in \u001b[0;36mget_loc\u001b[0;34m(self, key, method, tolerance)\u001b[0m\n\u001b[1;32m   2889\u001b[0m                 \u001b[0;32mreturn\u001b[0m \u001b[0mself\u001b[0m\u001b[0;34m.\u001b[0m\u001b[0m_engine\u001b[0m\u001b[0;34m.\u001b[0m\u001b[0mget_loc\u001b[0m\u001b[0;34m(\u001b[0m\u001b[0mcasted_key\u001b[0m\u001b[0;34m)\u001b[0m\u001b[0;34m\u001b[0m\u001b[0;34m\u001b[0m\u001b[0m\n\u001b[1;32m   2890\u001b[0m             \u001b[0;32mexcept\u001b[0m \u001b[0mKeyError\u001b[0m \u001b[0;32mas\u001b[0m \u001b[0merr\u001b[0m\u001b[0;34m:\u001b[0m\u001b[0;34m\u001b[0m\u001b[0;34m\u001b[0m\u001b[0m\n\u001b[0;32m-> 2891\u001b[0;31m                 \u001b[0;32mraise\u001b[0m \u001b[0mKeyError\u001b[0m\u001b[0;34m(\u001b[0m\u001b[0mkey\u001b[0m\u001b[0;34m)\u001b[0m \u001b[0;32mfrom\u001b[0m \u001b[0merr\u001b[0m\u001b[0;34m\u001b[0m\u001b[0;34m\u001b[0m\u001b[0m\n\u001b[0m\u001b[1;32m   2892\u001b[0m \u001b[0;34m\u001b[0m\u001b[0m\n\u001b[1;32m   2893\u001b[0m         \u001b[0;32mif\u001b[0m \u001b[0mtolerance\u001b[0m \u001b[0;32mis\u001b[0m \u001b[0;32mnot\u001b[0m \u001b[0;32mNone\u001b[0m\u001b[0;34m:\u001b[0m\u001b[0;34m\u001b[0m\u001b[0;34m\u001b[0m\u001b[0m\n",
      "\u001b[0;31mKeyError\u001b[0m: 'Y'"
     ]
    }
   ],
   "source": [
    "preprocess = Preprocess(max_runtime, runtime_cols, features_cols, cat_features_cols, success_cols)\n",
    "\n",
    "df, features_cols = preprocess.load_labelled_results(data_path, \n",
    "#                                                      drop_maps=['warehouse', 'maze-128-128-1'],\n",
    "                                                     unsolved_only=False)"
   ]
  },
  {
   "cell_type": "code",
   "execution_count": 60,
   "metadata": {},
   "outputs": [
    {
     "data": {
      "text/plain": [
       "['astar Success',\n",
       " 'macbs Success',\n",
       " 'cbs Success',\n",
       " 'icts Success',\n",
       " 'epea Success',\n",
       " 'cbsh Success']"
      ]
     },
     "execution_count": 60,
     "metadata": {},
     "output_type": "execute_result"
    }
   ],
   "source": [
    "success_cols"
   ]
  },
  {
   "cell_type": "markdown",
   "metadata": {},
   "source": [
    "### How many problems solved by only one solver? ###"
   ]
  },
  {
   "cell_type": "code",
   "execution_count": 73,
   "metadata": {},
   "outputs": [
    {
     "name": "stderr",
     "output_type": "stream",
     "text": [
      "c:\\users\\omri\\appdata\\local\\programs\\python\\python36\\lib\\site-packages\\ipykernel_launcher.py:1: SettingWithCopyWarning: \n",
      "A value is trying to be set on a copy of a slice from a DataFrame.\n",
      "Try using .loc[row_indexer,col_indexer] = value instead\n",
      "\n",
      "See the caveats in the documentation: https://pandas.pydata.org/pandas-docs/stable/user_guide/indexing.html#returning-a-view-versus-a-copy\n",
      "  \"\"\"Entry point for launching an IPython kernel.\n"
     ]
    }
   ],
   "source": [
    "df['SolvesFinishedCount'] = df[success_cols].sum(axis=1)"
   ]
  },
  {
   "cell_type": "code",
   "execution_count": 74,
   "metadata": {},
   "outputs": [
    {
     "name": "stdout",
     "output_type": "stream",
     "text": [
      "0.14501987836023275 of the problems solved by only one solver!\n"
     ]
    }
   ],
   "source": [
    "print(\"{n} of the problems solved by only one solver!\".format(n=len(df[df['SolvesFinishedCount']==1])/len(df)))"
   ]
  },
  {
   "cell_type": "code",
   "execution_count": 75,
   "metadata": {},
   "outputs": [],
   "source": [
    "df = df[df['SolvesFinishedCount']<len(success_cols)]\n",
    "df = df.reset_index()"
   ]
  },
  {
   "cell_type": "code",
   "execution_count": 76,
   "metadata": {},
   "outputs": [],
   "source": [
    "# df[(df['cbsh Success']==0)&(df['cbsh-c Success']==1)][['NumOfAgents','GridName','InstanceId']]"
   ]
  },
  {
   "cell_type": "markdown",
   "metadata": {},
   "source": [
    "### What is the maximum number of agents solved for each map? ###\n",
    "\n",
    "Note: A map is a combination of an instance and the grid."
   ]
  },
  {
   "cell_type": "code",
   "execution_count": 77,
   "metadata": {
    "scrolled": true
   },
   "outputs": [],
   "source": [
    "max_agents_for_each_map_row_idxs = df.groupby(['GridName','InstanceId'])['NumOfAgents'].idxmax()"
   ]
  },
  {
   "cell_type": "code",
   "execution_count": 78,
   "metadata": {},
   "outputs": [
    {
     "data": {
      "text/plain": [
       "19836"
      ]
     },
     "execution_count": 78,
     "metadata": {},
     "output_type": "execute_result"
    }
   ],
   "source": [
    "len(df)"
   ]
  },
  {
   "cell_type": "code",
   "execution_count": 129,
   "metadata": {},
   "outputs": [
    {
     "data": {
      "text/html": [
       "<div>\n",
       "<style scoped>\n",
       "    .dataframe tbody tr th:only-of-type {\n",
       "        vertical-align: middle;\n",
       "    }\n",
       "\n",
       "    .dataframe tbody tr th {\n",
       "        vertical-align: top;\n",
       "    }\n",
       "\n",
       "    .dataframe thead th {\n",
       "        text-align: right;\n",
       "    }\n",
       "</style>\n",
       "<table border=\"1\" class=\"dataframe\">\n",
       "  <thead>\n",
       "    <tr style=\"text-align: right;\">\n",
       "      <th></th>\n",
       "      <th>NumOfAgents</th>\n",
       "      <th>Y</th>\n",
       "      <th>GridName</th>\n",
       "      <th>InstanceId</th>\n",
       "      <th>astar Success</th>\n",
       "      <th>macbs Success</th>\n",
       "      <th>cbs Success</th>\n",
       "      <th>icts Success</th>\n",
       "      <th>epea Success</th>\n",
       "      <th>cbsh Success</th>\n",
       "    </tr>\n",
       "  </thead>\n",
       "  <tbody>\n",
       "    <tr>\n",
       "      <th>577</th>\n",
       "      <td>200</td>\n",
       "      <td>cbsh Runtime</td>\n",
       "      <td>Berlin_1_256</td>\n",
       "      <td>2</td>\n",
       "      <td>0</td>\n",
       "      <td>0</td>\n",
       "      <td>0</td>\n",
       "      <td>0</td>\n",
       "      <td>0</td>\n",
       "      <td>1</td>\n",
       "    </tr>\n",
       "    <tr>\n",
       "      <th>19616</th>\n",
       "      <td>198</td>\n",
       "      <td>epea Runtime</td>\n",
       "      <td>empty-48-48</td>\n",
       "      <td>7</td>\n",
       "      <td>0</td>\n",
       "      <td>0</td>\n",
       "      <td>0</td>\n",
       "      <td>0</td>\n",
       "      <td>1</td>\n",
       "      <td>0</td>\n",
       "    </tr>\n",
       "    <tr>\n",
       "      <th>3715</th>\n",
       "      <td>195</td>\n",
       "      <td>cbsh Runtime</td>\n",
       "      <td>Berlin_1_256</td>\n",
       "      <td>16</td>\n",
       "      <td>0</td>\n",
       "      <td>0</td>\n",
       "      <td>0</td>\n",
       "      <td>0</td>\n",
       "      <td>0</td>\n",
       "      <td>1</td>\n",
       "    </tr>\n",
       "    <tr>\n",
       "      <th>8101</th>\n",
       "      <td>195</td>\n",
       "      <td>cbsh Runtime</td>\n",
       "      <td>Paris_1_256</td>\n",
       "      <td>25</td>\n",
       "      <td>0</td>\n",
       "      <td>0</td>\n",
       "      <td>0</td>\n",
       "      <td>0</td>\n",
       "      <td>0</td>\n",
       "      <td>1</td>\n",
       "    </tr>\n",
       "    <tr>\n",
       "      <th>5904</th>\n",
       "      <td>187</td>\n",
       "      <td>cbsh Runtime</td>\n",
       "      <td>Paris_1_256</td>\n",
       "      <td>20</td>\n",
       "      <td>0</td>\n",
       "      <td>0</td>\n",
       "      <td>0</td>\n",
       "      <td>0</td>\n",
       "      <td>0</td>\n",
       "      <td>1</td>\n",
       "    </tr>\n",
       "    <tr>\n",
       "      <th>1265</th>\n",
       "      <td>186</td>\n",
       "      <td>cbsh Runtime</td>\n",
       "      <td>Berlin_1_256</td>\n",
       "      <td>3</td>\n",
       "      <td>0</td>\n",
       "      <td>0</td>\n",
       "      <td>0</td>\n",
       "      <td>0</td>\n",
       "      <td>0</td>\n",
       "      <td>1</td>\n",
       "    </tr>\n",
       "    <tr>\n",
       "      <th>6834</th>\n",
       "      <td>186</td>\n",
       "      <td>cbsh Runtime</td>\n",
       "      <td>Paris_1_256</td>\n",
       "      <td>22</td>\n",
       "      <td>0</td>\n",
       "      <td>0</td>\n",
       "      <td>0</td>\n",
       "      <td>0</td>\n",
       "      <td>0</td>\n",
       "      <td>1</td>\n",
       "    </tr>\n",
       "    <tr>\n",
       "      <th>19679</th>\n",
       "      <td>182</td>\n",
       "      <td>epea Runtime</td>\n",
       "      <td>Berlin_1_256</td>\n",
       "      <td>10</td>\n",
       "      <td>0</td>\n",
       "      <td>0</td>\n",
       "      <td>0</td>\n",
       "      <td>0</td>\n",
       "      <td>1</td>\n",
       "      <td>0</td>\n",
       "    </tr>\n",
       "    <tr>\n",
       "      <th>11464</th>\n",
       "      <td>174</td>\n",
       "      <td>cbsh Runtime</td>\n",
       "      <td>Berlin_1_256</td>\n",
       "      <td>11</td>\n",
       "      <td>0</td>\n",
       "      <td>0</td>\n",
       "      <td>0</td>\n",
       "      <td>0</td>\n",
       "      <td>0</td>\n",
       "      <td>1</td>\n",
       "    </tr>\n",
       "    <tr>\n",
       "      <th>19436</th>\n",
       "      <td>173</td>\n",
       "      <td>icts Runtime</td>\n",
       "      <td>Berlin_1_256</td>\n",
       "      <td>23</td>\n",
       "      <td>0</td>\n",
       "      <td>0</td>\n",
       "      <td>0</td>\n",
       "      <td>1</td>\n",
       "      <td>0</td>\n",
       "      <td>0</td>\n",
       "    </tr>\n",
       "    <tr>\n",
       "      <th>18839</th>\n",
       "      <td>171</td>\n",
       "      <td>icts Runtime</td>\n",
       "      <td>random-64-64-10</td>\n",
       "      <td>4</td>\n",
       "      <td>0</td>\n",
       "      <td>0</td>\n",
       "      <td>0</td>\n",
       "      <td>1</td>\n",
       "      <td>1</td>\n",
       "      <td>0</td>\n",
       "    </tr>\n",
       "    <tr>\n",
       "      <th>19192</th>\n",
       "      <td>167</td>\n",
       "      <td>icts Runtime</td>\n",
       "      <td>Berlin_1_256</td>\n",
       "      <td>20</td>\n",
       "      <td>1</td>\n",
       "      <td>0</td>\n",
       "      <td>0</td>\n",
       "      <td>1</td>\n",
       "      <td>1</td>\n",
       "      <td>0</td>\n",
       "    </tr>\n",
       "    <tr>\n",
       "      <th>12795</th>\n",
       "      <td>167</td>\n",
       "      <td>epea Runtime</td>\n",
       "      <td>Paris_1_256</td>\n",
       "      <td>2</td>\n",
       "      <td>0</td>\n",
       "      <td>0</td>\n",
       "      <td>0</td>\n",
       "      <td>0</td>\n",
       "      <td>1</td>\n",
       "      <td>0</td>\n",
       "    </tr>\n",
       "    <tr>\n",
       "      <th>13787</th>\n",
       "      <td>166</td>\n",
       "      <td>epea Runtime</td>\n",
       "      <td>Paris_1_256</td>\n",
       "      <td>8</td>\n",
       "      <td>0</td>\n",
       "      <td>0</td>\n",
       "      <td>0</td>\n",
       "      <td>0</td>\n",
       "      <td>1</td>\n",
       "      <td>0</td>\n",
       "    </tr>\n",
       "    <tr>\n",
       "      <th>18820</th>\n",
       "      <td>165</td>\n",
       "      <td>epea Runtime</td>\n",
       "      <td>empty-48-48</td>\n",
       "      <td>2</td>\n",
       "      <td>0</td>\n",
       "      <td>0</td>\n",
       "      <td>0</td>\n",
       "      <td>0</td>\n",
       "      <td>1</td>\n",
       "      <td>0</td>\n",
       "    </tr>\n",
       "    <tr>\n",
       "      <th>5410</th>\n",
       "      <td>163</td>\n",
       "      <td>cbsh Runtime</td>\n",
       "      <td>Paris_1_256</td>\n",
       "      <td>19</td>\n",
       "      <td>0</td>\n",
       "      <td>0</td>\n",
       "      <td>0</td>\n",
       "      <td>0</td>\n",
       "      <td>0</td>\n",
       "      <td>1</td>\n",
       "    </tr>\n",
       "    <tr>\n",
       "      <th>19835</th>\n",
       "      <td>162</td>\n",
       "      <td>astar Runtime</td>\n",
       "      <td>random-64-64-10</td>\n",
       "      <td>12</td>\n",
       "      <td>1</td>\n",
       "      <td>0</td>\n",
       "      <td>0</td>\n",
       "      <td>0</td>\n",
       "      <td>1</td>\n",
       "      <td>0</td>\n",
       "    </tr>\n",
       "    <tr>\n",
       "      <th>19736</th>\n",
       "      <td>162</td>\n",
       "      <td>epea Runtime</td>\n",
       "      <td>Berlin_1_256</td>\n",
       "      <td>12</td>\n",
       "      <td>0</td>\n",
       "      <td>0</td>\n",
       "      <td>0</td>\n",
       "      <td>0</td>\n",
       "      <td>1</td>\n",
       "      <td>0</td>\n",
       "    </tr>\n",
       "    <tr>\n",
       "      <th>19509</th>\n",
       "      <td>161</td>\n",
       "      <td>epea Runtime</td>\n",
       "      <td>Berlin_1_256</td>\n",
       "      <td>25</td>\n",
       "      <td>0</td>\n",
       "      <td>0</td>\n",
       "      <td>0</td>\n",
       "      <td>0</td>\n",
       "      <td>1</td>\n",
       "      <td>0</td>\n",
       "    </tr>\n",
       "    <tr>\n",
       "      <th>5313</th>\n",
       "      <td>160</td>\n",
       "      <td>cbsh Runtime</td>\n",
       "      <td>Berlin_1_256</td>\n",
       "      <td>19</td>\n",
       "      <td>0</td>\n",
       "      <td>0</td>\n",
       "      <td>0</td>\n",
       "      <td>0</td>\n",
       "      <td>0</td>\n",
       "      <td>1</td>\n",
       "    </tr>\n",
       "  </tbody>\n",
       "</table>\n",
       "</div>"
      ],
      "text/plain": [
       "       NumOfAgents              Y         GridName  InstanceId  astar Success  \\\n",
       "577            200   cbsh Runtime     Berlin_1_256           2              0   \n",
       "19616          198   epea Runtime      empty-48-48           7              0   \n",
       "3715           195   cbsh Runtime     Berlin_1_256          16              0   \n",
       "8101           195   cbsh Runtime      Paris_1_256          25              0   \n",
       "5904           187   cbsh Runtime      Paris_1_256          20              0   \n",
       "1265           186   cbsh Runtime     Berlin_1_256           3              0   \n",
       "6834           186   cbsh Runtime      Paris_1_256          22              0   \n",
       "19679          182   epea Runtime     Berlin_1_256          10              0   \n",
       "11464          174   cbsh Runtime     Berlin_1_256          11              0   \n",
       "19436          173   icts Runtime     Berlin_1_256          23              0   \n",
       "18839          171   icts Runtime  random-64-64-10           4              0   \n",
       "19192          167   icts Runtime     Berlin_1_256          20              1   \n",
       "12795          167   epea Runtime      Paris_1_256           2              0   \n",
       "13787          166   epea Runtime      Paris_1_256           8              0   \n",
       "18820          165   epea Runtime      empty-48-48           2              0   \n",
       "5410           163   cbsh Runtime      Paris_1_256          19              0   \n",
       "19835          162  astar Runtime  random-64-64-10          12              1   \n",
       "19736          162   epea Runtime     Berlin_1_256          12              0   \n",
       "19509          161   epea Runtime     Berlin_1_256          25              0   \n",
       "5313           160   cbsh Runtime     Berlin_1_256          19              0   \n",
       "\n",
       "       macbs Success  cbs Success  icts Success  epea Success  cbsh Success  \n",
       "577                0            0             0             0             1  \n",
       "19616              0            0             0             1             0  \n",
       "3715               0            0             0             0             1  \n",
       "8101               0            0             0             0             1  \n",
       "5904               0            0             0             0             1  \n",
       "1265               0            0             0             0             1  \n",
       "6834               0            0             0             0             1  \n",
       "19679              0            0             0             1             0  \n",
       "11464              0            0             0             0             1  \n",
       "19436              0            0             1             0             0  \n",
       "18839              0            0             1             1             0  \n",
       "19192              0            0             1             1             0  \n",
       "12795              0            0             0             1             0  \n",
       "13787              0            0             0             1             0  \n",
       "18820              0            0             0             1             0  \n",
       "5410               0            0             0             0             1  \n",
       "19835              0            0             0             1             0  \n",
       "19736              0            0             0             1             0  \n",
       "19509              0            0             0             1             0  \n",
       "5313               0            0             0             0             1  "
      ]
     },
     "execution_count": 129,
     "metadata": {},
     "output_type": "execute_result"
    }
   ],
   "source": [
    "winners_df = df.iloc[max_agents_for_each_map_row_idxs.values][['NumOfAgents','Y','GridName','InstanceId']+success_cols]\n",
    "winners_df.sort_values(['NumOfAgents'], ascending=False).head(20)"
   ]
  },
  {
   "cell_type": "markdown",
   "metadata": {},
   "source": [
    "### How many maps each solver solved alone? (i.e. gain in coverage) ###"
   ]
  },
  {
   "cell_type": "code",
   "execution_count": 80,
   "metadata": {},
   "outputs": [
    {
     "data": {
      "text/plain": [
       "cbsh Runtime     3886\n",
       "epea Runtime      952\n",
       "icts Runtime      537\n",
       "astar Runtime      65\n",
       "cbs Runtime        47\n",
       "macbs Runtime      21\n",
       "Name: Y, dtype: int64"
      ]
     },
     "execution_count": 80,
     "metadata": {},
     "output_type": "execute_result"
    }
   ],
   "source": [
    "df[df['SolvesFinishedCount']==1]['Y'].value_counts()"
   ]
  },
  {
   "cell_type": "markdown",
   "metadata": {},
   "source": [
    "Let's try to find patterns regarding the large amount of maps sat solved alone"
   ]
  },
  {
   "cell_type": "markdown",
   "metadata": {},
   "source": [
    "### For each solver, how distributed are his \"single solver\" maps? ###\n",
    "\n",
    "In other words - we want to check if there is a solver that wins by a large margin on a specific map (and therefore gains coverage)."
   ]
  },
  {
   "cell_type": "code",
   "execution_count": 81,
   "metadata": {},
   "outputs": [
    {
     "data": {
      "text/plain": [
       "Series([], Name: GridName, dtype: int64)"
      ]
     },
     "execution_count": 81,
     "metadata": {},
     "output_type": "execute_result"
    }
   ],
   "source": [
    "df[(df['SolvesFinishedCount']==1)&(df.Y=='sat Runtime')].GridName.value_counts()"
   ]
  },
  {
   "cell_type": "markdown",
   "metadata": {},
   "source": [
    "### We can see that orz900d is highly dominated by sat. What will happen when we train the solver without it? ###\n",
    "Although surprising, it didn't had impact on the results.\n"
   ]
  },
  {
   "cell_type": "code",
   "execution_count": 82,
   "metadata": {},
   "outputs": [
    {
     "data": {
      "text/plain": [
       "Series([], Name: InstanceId, dtype: int64)"
      ]
     },
     "execution_count": 82,
     "metadata": {},
     "output_type": "execute_result"
    }
   ],
   "source": [
    "df[(df['SolvesFinishedCount']==1)&(df.Y=='sat Runtime')&(df.GridName=='orz900d')].InstanceId.value_counts()"
   ]
  },
  {
   "cell_type": "markdown",
   "metadata": {},
   "source": [
    "### Which maps have the highest std in terms of \"single solvers\" across different configurations? ###"
   ]
  },
  {
   "cell_type": "code",
   "execution_count": 83,
   "metadata": {},
   "outputs": [
    {
     "data": {
      "text/plain": [
       "GridName\n",
       "Paris_1_256            195.296356\n",
       "orz900d                189.504617\n",
       "Berlin_1_256           175.069510\n",
       "lt_gallowstemplar_n    168.291414\n",
       "brc202d                164.755880\n",
       "random-32-32-20        160.513239\n",
       "empty-48-48            158.272971\n",
       "den312d                135.500308\n",
       "Boston_0_256           120.378570\n",
       "lak303d                109.601551\n",
       "empty-16-16            106.522298\n",
       "ht_chantry             105.310652\n",
       "random-64-64-10         76.367532\n",
       "ht_mansion_n            68.844632\n",
       "w_woundedcoast          65.010256\n",
       "ost003d                 60.648578\n",
       "empty-32-32             52.044852\n",
       "random-64-64-20         46.956540\n",
       "room-64-64-16           46.378875\n",
       "random-32-32-10         34.355980\n",
       "room-32-32-4            32.046841\n",
       "den520d                 30.934070\n",
       "maze-32-32-2            22.627417\n",
       "maze-32-32-4            17.097758\n",
       "maze-128-128-2           7.505553\n",
       "room-64-64-8             4.242641\n",
       "empty-8-8                     NaN\n",
       "Name: Y, dtype: float64"
      ]
     },
     "execution_count": 83,
     "metadata": {},
     "output_type": "execute_result"
    }
   ],
   "source": [
    "s = df[(df['SolvesFinishedCount']==1)].groupby(['GridName'])['Y'].value_counts()\n",
    "s.std(level='GridName').sort_values(ascending=False)"
   ]
  },
  {
   "cell_type": "markdown",
   "metadata": {},
   "source": [
    "### Interesting! We see that sat exceed in specific configurations of orz only, but when it does - it does so in an outstanding way and wins by a large margin over the others. \n",
    "\n",
    "1. What's so special about those specific configurations of orz?\n",
    "2. How can we use that knowledge during the training of the AS model? Maybe it emposes a bias?"
   ]
  },
  {
   "cell_type": "markdown",
   "metadata": {},
   "source": [
    "### What is the margin for each map between the largest number of agents solved and the 2nd best solver? ###"
   ]
  },
  {
   "cell_type": "code",
   "execution_count": 84,
   "metadata": {},
   "outputs": [],
   "source": [
    "max_num_of_agents_for_two_solvers_per_map = df[df['SolvesFinishedCount']>=2].groupby(['GridName','InstanceId'])['NumOfAgents'].max()\n"
   ]
  },
  {
   "cell_type": "code",
   "execution_count": 85,
   "metadata": {},
   "outputs": [],
   "source": [
    "max_num_of_agents_for_single_solver_per_map = df[df['SolvesFinishedCount']==1].groupby(['GridName','InstanceId'])['NumOfAgents'].max()"
   ]
  },
  {
   "cell_type": "code",
   "execution_count": 86,
   "metadata": {},
   "outputs": [
    {
     "data": {
      "text/plain": [
       "GridName      InstanceId\n",
       "Berlin_1_256  16            123.0\n",
       "              7              86.0\n",
       "Paris_1_256   3              81.0\n",
       "Berlin_1_256  3              77.0\n",
       "empty-48-48   2              69.0\n",
       "Paris_1_256   25             68.0\n",
       "              21             46.0\n",
       "              14             45.0\n",
       "              16             45.0\n",
       "orz900d       16             44.0\n",
       "Name: NumOfAgents, dtype: float64"
      ]
     },
     "execution_count": 86,
     "metadata": {},
     "output_type": "execute_result"
    }
   ],
   "source": [
    "margin_from_single_solver = max_num_of_agents_for_single_solver_per_map - max_num_of_agents_for_two_solvers_per_map\n",
    "margin_from_single_solver.sort_values(ascending=False).head(10)"
   ]
  },
  {
   "cell_type": "markdown",
   "metadata": {},
   "source": [
    "### Let's try to cluster the data given the features and try to see if those outliers (orz900d of instances 4,20,10) seems \"strange\" ###"
   ]
  },
  {
   "cell_type": "code",
   "execution_count": 87,
   "metadata": {},
   "outputs": [
    {
     "name": "stdout",
     "output_type": "stream",
     "text": [
      "['NumOfAgents', 'ObstacleDensity', 'GridName_Berlin_1_256', 'GridName_Boston_0_256', 'GridName_Paris_1_256', 'GridName_brc202d', 'GridName_den312d', 'GridName_den520d', 'GridName_empty-16-16', 'GridName_empty-32-32', 'GridName_empty-48-48', 'GridName_empty-8-8', 'GridName_ht_chantry', 'GridName_ht_mansion_n', 'GridName_lak303d', 'GridName_lt_gallowstemplar_n', 'GridName_maze-128-128-2', 'GridName_maze-32-32-2', 'GridName_maze-32-32-4', 'GridName_orz900d', 'GridName_ost003d', 'GridName_random-32-32-10', 'GridName_random-32-32-20', 'GridName_random-64-64-10', 'GridName_random-64-64-20', 'GridName_room-32-32-4', 'GridName_room-64-64-16', 'GridName_room-64-64-8', 'GridName_w_woundedcoast']\n"
     ]
    }
   ],
   "source": [
    "from sklearn.cluster import KMeans\n",
    "from sklearn.model_selection import GroupShuffleSplit\n",
    "\n",
    "groups = df['InstanceId']  # len of scenarios\n",
    "gkf = GroupShuffleSplit(n_splits=1, test_size=0.3, random_state=42)\n",
    "\n",
    "for index, (tr_ind, test_ind) in enumerate(gkf.split(df, df['Y'], groups)):\n",
    "    X_train, X_test, y_train, y_test = df.iloc[tr_ind].copy(), df.iloc[test_ind].copy(), \\\n",
    "                                           df['Y'].iloc[tr_ind].copy(), df['Y'].iloc[test_ind].copy()\n",
    "    \n",
    "    features_cols_without_b_factor = features_cols.copy()\n",
    "#     features_cols_without_b_factor.remove('BranchingFactor')\n",
    "    print(features_cols_without_b_factor)\n",
    "    kmeans = KMeans(n_clusters=len(success_cols)).fit(X_train[features_cols_without_b_factor])\n"
   ]
  },
  {
   "cell_type": "markdown",
   "metadata": {},
   "source": [
    "### Finding \"Breaking points\"\n",
    "Points on instances where adding a single agent caused a dramatic increase in runtime"
   ]
  },
  {
   "cell_type": "code",
   "execution_count": 93,
   "metadata": {},
   "outputs": [],
   "source": [
    "jump = 1\n",
    "breaks = df[(df['Y Runtime'].shift(-jump)>df['Y Runtime']*5)&(df['Y Runtime']>5)].index.to_list()\n",
    "after_breaks = [b+jump for b in breaks]\n",
    "breaks.extend(after_breaks)\n"
   ]
  },
  {
   "cell_type": "code",
   "execution_count": 94,
   "metadata": {},
   "outputs": [
    {
     "data": {
      "text/plain": [
       "449.0"
      ]
     },
     "execution_count": 94,
     "metadata": {},
     "output_type": "execute_result"
    }
   ],
   "source": [
    "breaks.sort()\n",
    "len(breaks)/2"
   ]
  },
  {
   "cell_type": "code",
   "execution_count": 97,
   "metadata": {},
   "outputs": [
    {
     "data": {
      "text/html": [
       "<div>\n",
       "<style scoped>\n",
       "    .dataframe tbody tr th:only-of-type {\n",
       "        vertical-align: middle;\n",
       "    }\n",
       "\n",
       "    .dataframe tbody tr th {\n",
       "        vertical-align: top;\n",
       "    }\n",
       "\n",
       "    .dataframe thead th {\n",
       "        text-align: right;\n",
       "    }\n",
       "</style>\n",
       "<table border=\"1\" class=\"dataframe\">\n",
       "  <thead>\n",
       "    <tr style=\"text-align: right;\">\n",
       "      <th></th>\n",
       "      <th>NumOfAgents</th>\n",
       "      <th>Y Runtime</th>\n",
       "      <th>Y</th>\n",
       "      <th>InstanceId</th>\n",
       "      <th>GridName</th>\n",
       "      <th>NumOfAgents</th>\n",
       "      <th>ObstacleDensity</th>\n",
       "      <th>GridName_Berlin_1_256</th>\n",
       "      <th>GridName_Boston_0_256</th>\n",
       "      <th>GridName_Paris_1_256</th>\n",
       "      <th>...</th>\n",
       "      <th>GridName_orz900d</th>\n",
       "      <th>GridName_ost003d</th>\n",
       "      <th>GridName_random-32-32-10</th>\n",
       "      <th>GridName_random-32-32-20</th>\n",
       "      <th>GridName_random-64-64-10</th>\n",
       "      <th>GridName_random-64-64-20</th>\n",
       "      <th>GridName_room-32-32-4</th>\n",
       "      <th>GridName_room-64-64-16</th>\n",
       "      <th>GridName_room-64-64-8</th>\n",
       "      <th>GridName_w_woundedcoast</th>\n",
       "    </tr>\n",
       "  </thead>\n",
       "  <tbody>\n",
       "    <tr>\n",
       "      <th>153</th>\n",
       "      <td>18</td>\n",
       "      <td>168.6092</td>\n",
       "      <td>cbs Runtime</td>\n",
       "      <td>1</td>\n",
       "      <td>den312d</td>\n",
       "      <td>18</td>\n",
       "      <td>0.535613</td>\n",
       "      <td>0</td>\n",
       "      <td>0</td>\n",
       "      <td>0</td>\n",
       "      <td>...</td>\n",
       "      <td>0</td>\n",
       "      <td>0</td>\n",
       "      <td>0</td>\n",
       "      <td>0</td>\n",
       "      <td>0</td>\n",
       "      <td>0</td>\n",
       "      <td>0</td>\n",
       "      <td>0</td>\n",
       "      <td>0</td>\n",
       "      <td>0</td>\n",
       "    </tr>\n",
       "    <tr>\n",
       "      <th>154</th>\n",
       "      <td>19</td>\n",
       "      <td>1119.3184</td>\n",
       "      <td>cbsh Runtime</td>\n",
       "      <td>1</td>\n",
       "      <td>den312d</td>\n",
       "      <td>19</td>\n",
       "      <td>0.535613</td>\n",
       "      <td>0</td>\n",
       "      <td>0</td>\n",
       "      <td>0</td>\n",
       "      <td>...</td>\n",
       "      <td>0</td>\n",
       "      <td>0</td>\n",
       "      <td>0</td>\n",
       "      <td>0</td>\n",
       "      <td>0</td>\n",
       "      <td>0</td>\n",
       "      <td>0</td>\n",
       "      <td>0</td>\n",
       "      <td>0</td>\n",
       "      <td>0</td>\n",
       "    </tr>\n",
       "    <tr>\n",
       "      <th>158</th>\n",
       "      <td>23</td>\n",
       "      <td>2278.5247</td>\n",
       "      <td>cbsh Runtime</td>\n",
       "      <td>1</td>\n",
       "      <td>den312d</td>\n",
       "      <td>23</td>\n",
       "      <td>0.535613</td>\n",
       "      <td>0</td>\n",
       "      <td>0</td>\n",
       "      <td>0</td>\n",
       "      <td>...</td>\n",
       "      <td>0</td>\n",
       "      <td>0</td>\n",
       "      <td>0</td>\n",
       "      <td>0</td>\n",
       "      <td>0</td>\n",
       "      <td>0</td>\n",
       "      <td>0</td>\n",
       "      <td>0</td>\n",
       "      <td>0</td>\n",
       "      <td>0</td>\n",
       "    </tr>\n",
       "    <tr>\n",
       "      <th>159</th>\n",
       "      <td>24</td>\n",
       "      <td>19578.2585</td>\n",
       "      <td>cbsh Runtime</td>\n",
       "      <td>1</td>\n",
       "      <td>den312d</td>\n",
       "      <td>24</td>\n",
       "      <td>0.535613</td>\n",
       "      <td>0</td>\n",
       "      <td>0</td>\n",
       "      <td>0</td>\n",
       "      <td>...</td>\n",
       "      <td>0</td>\n",
       "      <td>0</td>\n",
       "      <td>0</td>\n",
       "      <td>0</td>\n",
       "      <td>0</td>\n",
       "      <td>0</td>\n",
       "      <td>0</td>\n",
       "      <td>0</td>\n",
       "      <td>0</td>\n",
       "      <td>0</td>\n",
       "    </tr>\n",
       "    <tr>\n",
       "      <th>219</th>\n",
       "      <td>37</td>\n",
       "      <td>113.1851</td>\n",
       "      <td>icts Runtime</td>\n",
       "      <td>1</td>\n",
       "      <td>empty-16-16</td>\n",
       "      <td>37</td>\n",
       "      <td>0.000000</td>\n",
       "      <td>0</td>\n",
       "      <td>0</td>\n",
       "      <td>0</td>\n",
       "      <td>...</td>\n",
       "      <td>0</td>\n",
       "      <td>0</td>\n",
       "      <td>0</td>\n",
       "      <td>0</td>\n",
       "      <td>0</td>\n",
       "      <td>0</td>\n",
       "      <td>0</td>\n",
       "      <td>0</td>\n",
       "      <td>0</td>\n",
       "      <td>0</td>\n",
       "    </tr>\n",
       "    <tr>\n",
       "      <th>220</th>\n",
       "      <td>38</td>\n",
       "      <td>4750.6050</td>\n",
       "      <td>epea Runtime</td>\n",
       "      <td>1</td>\n",
       "      <td>empty-16-16</td>\n",
       "      <td>38</td>\n",
       "      <td>0.000000</td>\n",
       "      <td>0</td>\n",
       "      <td>0</td>\n",
       "      <td>0</td>\n",
       "      <td>...</td>\n",
       "      <td>0</td>\n",
       "      <td>0</td>\n",
       "      <td>0</td>\n",
       "      <td>0</td>\n",
       "      <td>0</td>\n",
       "      <td>0</td>\n",
       "      <td>0</td>\n",
       "      <td>0</td>\n",
       "      <td>0</td>\n",
       "      <td>0</td>\n",
       "    </tr>\n",
       "    <tr>\n",
       "      <th>222</th>\n",
       "      <td>20</td>\n",
       "      <td>316.2874</td>\n",
       "      <td>cbsh Runtime</td>\n",
       "      <td>1</td>\n",
       "      <td>empty-8-8</td>\n",
       "      <td>20</td>\n",
       "      <td>0.000000</td>\n",
       "      <td>0</td>\n",
       "      <td>0</td>\n",
       "      <td>0</td>\n",
       "      <td>...</td>\n",
       "      <td>0</td>\n",
       "      <td>0</td>\n",
       "      <td>0</td>\n",
       "      <td>0</td>\n",
       "      <td>0</td>\n",
       "      <td>0</td>\n",
       "      <td>0</td>\n",
       "      <td>0</td>\n",
       "      <td>0</td>\n",
       "      <td>0</td>\n",
       "    </tr>\n",
       "    <tr>\n",
       "      <th>223</th>\n",
       "      <td>21</td>\n",
       "      <td>3503.0762</td>\n",
       "      <td>cbsh Runtime</td>\n",
       "      <td>1</td>\n",
       "      <td>empty-8-8</td>\n",
       "      <td>21</td>\n",
       "      <td>0.000000</td>\n",
       "      <td>0</td>\n",
       "      <td>0</td>\n",
       "      <td>0</td>\n",
       "      <td>...</td>\n",
       "      <td>0</td>\n",
       "      <td>0</td>\n",
       "      <td>0</td>\n",
       "      <td>0</td>\n",
       "      <td>0</td>\n",
       "      <td>0</td>\n",
       "      <td>0</td>\n",
       "      <td>0</td>\n",
       "      <td>0</td>\n",
       "      <td>0</td>\n",
       "    </tr>\n",
       "    <tr>\n",
       "      <th>260</th>\n",
       "      <td>23</td>\n",
       "      <td>1861.1259</td>\n",
       "      <td>cbsh Runtime</td>\n",
       "      <td>1</td>\n",
       "      <td>lak303d</td>\n",
       "      <td>23</td>\n",
       "      <td>0.607185</td>\n",
       "      <td>0</td>\n",
       "      <td>0</td>\n",
       "      <td>0</td>\n",
       "      <td>...</td>\n",
       "      <td>0</td>\n",
       "      <td>0</td>\n",
       "      <td>0</td>\n",
       "      <td>0</td>\n",
       "      <td>0</td>\n",
       "      <td>0</td>\n",
       "      <td>0</td>\n",
       "      <td>0</td>\n",
       "      <td>0</td>\n",
       "      <td>0</td>\n",
       "    </tr>\n",
       "    <tr>\n",
       "      <th>261</th>\n",
       "      <td>24</td>\n",
       "      <td>38646.7190</td>\n",
       "      <td>cbsh Runtime</td>\n",
       "      <td>1</td>\n",
       "      <td>lak303d</td>\n",
       "      <td>24</td>\n",
       "      <td>0.607185</td>\n",
       "      <td>0</td>\n",
       "      <td>0</td>\n",
       "      <td>0</td>\n",
       "      <td>...</td>\n",
       "      <td>0</td>\n",
       "      <td>0</td>\n",
       "      <td>0</td>\n",
       "      <td>0</td>\n",
       "      <td>0</td>\n",
       "      <td>0</td>\n",
       "      <td>0</td>\n",
       "      <td>0</td>\n",
       "      <td>0</td>\n",
       "      <td>0</td>\n",
       "    </tr>\n",
       "  </tbody>\n",
       "</table>\n",
       "<p>10 rows × 34 columns</p>\n",
       "</div>"
      ],
      "text/plain": [
       "     NumOfAgents   Y Runtime             Y  InstanceId     GridName  \\\n",
       "153           18    168.6092   cbs Runtime           1      den312d   \n",
       "154           19   1119.3184  cbsh Runtime           1      den312d   \n",
       "158           23   2278.5247  cbsh Runtime           1      den312d   \n",
       "159           24  19578.2585  cbsh Runtime           1      den312d   \n",
       "219           37    113.1851  icts Runtime           1  empty-16-16   \n",
       "220           38   4750.6050  epea Runtime           1  empty-16-16   \n",
       "222           20    316.2874  cbsh Runtime           1    empty-8-8   \n",
       "223           21   3503.0762  cbsh Runtime           1    empty-8-8   \n",
       "260           23   1861.1259  cbsh Runtime           1      lak303d   \n",
       "261           24  38646.7190  cbsh Runtime           1      lak303d   \n",
       "\n",
       "     NumOfAgents  ObstacleDensity  GridName_Berlin_1_256  \\\n",
       "153           18         0.535613                      0   \n",
       "154           19         0.535613                      0   \n",
       "158           23         0.535613                      0   \n",
       "159           24         0.535613                      0   \n",
       "219           37         0.000000                      0   \n",
       "220           38         0.000000                      0   \n",
       "222           20         0.000000                      0   \n",
       "223           21         0.000000                      0   \n",
       "260           23         0.607185                      0   \n",
       "261           24         0.607185                      0   \n",
       "\n",
       "     GridName_Boston_0_256  GridName_Paris_1_256  ...  GridName_orz900d  \\\n",
       "153                      0                     0  ...                 0   \n",
       "154                      0                     0  ...                 0   \n",
       "158                      0                     0  ...                 0   \n",
       "159                      0                     0  ...                 0   \n",
       "219                      0                     0  ...                 0   \n",
       "220                      0                     0  ...                 0   \n",
       "222                      0                     0  ...                 0   \n",
       "223                      0                     0  ...                 0   \n",
       "260                      0                     0  ...                 0   \n",
       "261                      0                     0  ...                 0   \n",
       "\n",
       "     GridName_ost003d  GridName_random-32-32-10  GridName_random-32-32-20  \\\n",
       "153                 0                         0                         0   \n",
       "154                 0                         0                         0   \n",
       "158                 0                         0                         0   \n",
       "159                 0                         0                         0   \n",
       "219                 0                         0                         0   \n",
       "220                 0                         0                         0   \n",
       "222                 0                         0                         0   \n",
       "223                 0                         0                         0   \n",
       "260                 0                         0                         0   \n",
       "261                 0                         0                         0   \n",
       "\n",
       "     GridName_random-64-64-10  GridName_random-64-64-20  \\\n",
       "153                         0                         0   \n",
       "154                         0                         0   \n",
       "158                         0                         0   \n",
       "159                         0                         0   \n",
       "219                         0                         0   \n",
       "220                         0                         0   \n",
       "222                         0                         0   \n",
       "223                         0                         0   \n",
       "260                         0                         0   \n",
       "261                         0                         0   \n",
       "\n",
       "     GridName_room-32-32-4  GridName_room-64-64-16  GridName_room-64-64-8  \\\n",
       "153                      0                       0                      0   \n",
       "154                      0                       0                      0   \n",
       "158                      0                       0                      0   \n",
       "159                      0                       0                      0   \n",
       "219                      0                       0                      0   \n",
       "220                      0                       0                      0   \n",
       "222                      0                       0                      0   \n",
       "223                      0                       0                      0   \n",
       "260                      0                       0                      0   \n",
       "261                      0                       0                      0   \n",
       "\n",
       "     GridName_w_woundedcoast  \n",
       "153                        0  \n",
       "154                        0  \n",
       "158                        0  \n",
       "159                        0  \n",
       "219                        0  \n",
       "220                        0  \n",
       "222                        0  \n",
       "223                        0  \n",
       "260                        0  \n",
       "261                        0  \n",
       "\n",
       "[10 rows x 34 columns]"
      ]
     },
     "execution_count": 97,
     "metadata": {},
     "output_type": "execute_result"
    }
   ],
   "source": [
    "df.iloc[breaks][['NumOfAgents','Y Runtime','Y','InstanceId','GridName']+features_cols].head(10)"
   ]
  },
  {
   "cell_type": "markdown",
   "metadata": {},
   "source": [
    "### Visualize some breaking points - the map before and after the addition of the \"breaking\" agent ###"
   ]
  },
  {
   "cell_type": "markdown",
   "metadata": {},
   "source": [
    "### Plotting specific maps runtime distribution ###"
   ]
  },
  {
   "cell_type": "code",
   "execution_count": 120,
   "metadata": {},
   "outputs": [],
   "source": [
    "def plot_problem_runtime_hist(df, instance_id,gridname,runtime_cols):\n",
    "    fig,ax = plt.subplots()\n",
    "    tmp_df = df[(df.InstanceId==instance_id)&(df.GridName==gridname)]\n",
    "    for algorithm in runtime_cols:\n",
    "        if algorithm=='Y Runtime':\n",
    "            continue\n",
    "#             plt.plot(tmp_df[algorithm].values,  '1-', label=algorithm)\n",
    "        plt.plot(tmp_df[algorithm].values, label=algorithm)\n",
    "        ax.set_xlabel(\"NumOfAgents\")\n",
    "        ax.set_ylabel(\"algorithm\")\n",
    "        ax.legend(loc='best')\n",
    "        ax.set_title('Instance: {i},d grid: {g}'.format(i=instance_id,g=gridname))"
   ]
  },
  {
   "cell_type": "code",
   "execution_count": 123,
   "metadata": {},
   "outputs": [
    {
     "data": {
      "image/png": "[encoded data removed]",
      "text/plain": [
       "<Figure size 432x288 with 1 Axes>"
      ]
     },
     "metadata": {
      "needs_background": "light"
     },
     "output_type": "display_data"
    }
   ],
   "source": [
    "instance_id=1\n",
    "gridname='den312d'\n",
    "plot_problem_runtime_hist(df,instance_id,gridname,runtime_cols)"
   ]
  },
  {
   "cell_type": "markdown",
   "metadata": {},
   "source": [
    "### How can we visualize the variability for each grid, across different instances? ###"
   ]
  },
  {
   "cell_type": "code",
   "execution_count": 130,
   "metadata": {},
   "outputs": [],
   "source": [
    "winners_df['SolvesFinishedCount'] = winners_df[success_cols].sum(axis=1)"
   ]
  },
  {
   "cell_type": "code",
   "execution_count": 142,
   "metadata": {},
   "outputs": [],
   "source": [
    "algorithm_success_in_map = winners_df[winners_df.SolvesFinishedCount==1].groupby('GridName')['Y'].value_counts()"
   ]
  },
  {
   "cell_type": "code",
   "execution_count": 165,
   "metadata": {},
   "outputs": [
    {
     "data": {
      "text/plain": [
       "211       cbsh Runtime\n",
       "12835     icts Runtime\n",
       "13012     epea Runtime\n",
       "18836     epea Runtime\n",
       "13262     epea Runtime\n",
       "13525     icts Runtime\n",
       "13672     icts Runtime\n",
       "19635     epea Runtime\n",
       "13989     icts Runtime\n",
       "14115     epea Runtime\n",
       "16592    astar Runtime\n",
       "14340     epea Runtime\n",
       "14532     epea Runtime\n",
       "18909     epea Runtime\n",
       "18990     epea Runtime\n",
       "3882      cbsh Runtime\n",
       "4346      cbsh Runtime\n",
       "19108     icts Runtime\n",
       "18474     icts Runtime\n",
       "19200     epea Runtime\n",
       "6367      cbsh Runtime\n",
       "6928      cbsh Runtime\n",
       "17820     icts Runtime\n",
       "15993     epea Runtime\n",
       "19527     epea Runtime\n",
       "Name: Y, dtype: object"
      ]
     },
     "execution_count": 165,
     "metadata": {},
     "output_type": "execute_result"
    }
   ],
   "source": [
    "winners_df[winners_df.GridName=='den520d']['Y']"
   ]
  },
  {
   "cell_type": "code",
   "execution_count": 162,
   "metadata": {},
   "outputs": [
    {
     "data": {
      "text/plain": [
       "GridName\n",
       "Berlin_1_256            5.333333\n",
       "Boston_0_256            4.333333\n",
       "Paris_1_256             3.750000\n",
       "brc202d                12.000000\n",
       "den312d                 7.000000\n",
       "den520d                 2.750000\n",
       "empty-16-16             6.333333\n",
       "empty-32-32             3.750000\n",
       "empty-48-48             4.666667\n",
       "empty-8-8              24.000000\n",
       "ht_chantry              7.000000\n",
       "ht_mansion_n            4.500000\n",
       "lak303d                11.000000\n",
       "lt_gallowstemplar_n    11.500000\n",
       "maze-128-128-2          3.666667\n",
       "maze-32-32-2            8.000000\n",
       "maze-32-32-4            4.333333\n",
       "orz900d                10.000000\n",
       "ost003d                 5.500000\n",
       "random-32-32-10         4.250000\n",
       "random-32-32-20        11.500000\n",
       "random-64-64-10         8.000000\n",
       "random-64-64-20         4.000000\n",
       "room-32-32-4            6.000000\n",
       "room-64-64-16           4.000000\n",
       "room-64-64-8            4.500000\n",
       "w_woundedcoast          5.666667\n",
       "Name: Y, dtype: float64"
      ]
     },
     "execution_count": 162,
     "metadata": {},
     "output_type": "execute_result"
    }
   ],
   "source": [
    "algorithm_success_in_map.groupby(['GridName']).mean()"
   ]
  },
  {
   "cell_type": "code",
   "execution_count": null,
   "metadata": {},
   "outputs": [],
   "source": []
  },
  {
   "cell_type": "code",
   "execution_count": null,
   "metadata": {},
   "outputs": [],
   "source": []
  }
 ],
 "metadata": {
  "kernelspec": {
   "display_name": "Python 3",
   "language": "python",
   "name": "python3"
  },
  "language_info": {
   "codemirror_mode": {
    "name": "ipython",
    "version": 3
   },
   "file_extension": ".py",
   "mimetype": "text/x-python",
   "name": "python",
   "nbconvert_exporter": "python",
   "pygments_lexer": "ipython3",
   "version": "3.6.8"
  }
 },
 "nbformat": 4,
 "nbformat_minor": 2
}
