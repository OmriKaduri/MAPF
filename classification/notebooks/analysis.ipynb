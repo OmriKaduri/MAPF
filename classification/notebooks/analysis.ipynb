{
 "cells": [
  {
   "cell_type": "code",
   "execution_count": 1,
   "metadata": {},
   "outputs": [],
   "source": [
    "import sys; sys.path.insert(0, '..') #Add upper folder to path\n",
    "from src.preprocess import Preprocess\n",
    "import matplotlib.pyplot as plt\n",
    "%matplotlib inline\n",
    "import pandas as pd\n",
    "import yaml"
   ]
  },
  {
   "cell_type": "code",
   "execution_count": 2,
   "metadata": {},
   "outputs": [],
   "source": [
    "with open(\"../src/config.yaml\", 'r') as stream:\n",
    "    config = yaml.safe_load(stream)\n",
    "\n",
    "features_cols = config['features']\n",
    "\n",
    "max_runtime = 300000\n",
    "algorithms = config['algorithms']\n",
    "runtime_cols = [algorithm + ' Runtime' for algorithm in algorithms]\n",
    "runtime_cols.append('Y Runtime')\n",
    "success_cols = [algorithm + ' Success' for algorithm in algorithms]\n",
    "data_path = '../src/AllData-labelled.csv'\n",
    "df = pd.read_csv(data_path)\n",
    "\n",
    "# drop_maps = None\n",
    "drop_maps = ['warehouse']\n",
    "\n",
    "if drop_maps is not None:\n",
    "    for maptype in drop_maps:\n",
    "        df = df[~df.GridName.str.contains(maptype)]\n",
    "    df = df.reset_index(drop=True)"
   ]
  },
  {
   "cell_type": "code",
   "execution_count": 3,
   "metadata": {},
   "outputs": [],
   "source": [
    "# features_cols.remove('2waycollisions')"
   ]
  },
  {
   "cell_type": "code",
   "execution_count": 4,
   "metadata": {},
   "outputs": [
    {
     "data": {
      "text/plain": [
       "['icts Success', 'epea Success', 'sat Success', 'cbsh-c Success']"
      ]
     },
     "execution_count": 4,
     "metadata": {},
     "output_type": "execute_result"
    }
   ],
   "source": [
    "success_cols"
   ]
  },
  {
   "cell_type": "markdown",
   "metadata": {},
   "source": [
    "### How many problems solved by only one solver? ###"
   ]
  },
  {
   "cell_type": "code",
   "execution_count": 5,
   "metadata": {},
   "outputs": [],
   "source": [
    "df['SolvesFinishedCount'] = df[success_cols].sum(axis=1)"
   ]
  },
  {
   "cell_type": "code",
   "execution_count": 6,
   "metadata": {},
   "outputs": [
    {
     "name": "stdout",
     "output_type": "stream",
     "text": [
      "0.20864645228940928 of the problems solved by only one solver!\n"
     ]
    }
   ],
   "source": [
    "print(\"{n} of the problems solved by only one solver!\".format(n=len(df[df['SolvesFinishedCount']==1])/len(df)))"
   ]
  },
  {
   "cell_type": "code",
   "execution_count": 10,
   "metadata": {},
   "outputs": [],
   "source": [
    "# df[(df['cbsh Success']==0)&(df['cbsh-c Success']==1)][['NumOfAgents','GridName','InstanceId']]"
   ]
  },
  {
   "cell_type": "markdown",
   "metadata": {},
   "source": [
    "### What is the maximum number of agents solved for each map? ###\n",
    "\n",
    "Note: A map is a combination of an instance and the grid."
   ]
  },
  {
   "cell_type": "code",
   "execution_count": 11,
   "metadata": {
    "scrolled": true
   },
   "outputs": [],
   "source": [
    "max_agents_for_each_map_row_idxs =df.groupby(['GridName','InstanceId'])['NumOfAgents'].idxmax()"
   ]
  },
  {
   "cell_type": "code",
   "execution_count": 12,
   "metadata": {},
   "outputs": [
    {
     "data": {
      "text/html": [
       "<div>\n",
       "<style scoped>\n",
       "    .dataframe tbody tr th:only-of-type {\n",
       "        vertical-align: middle;\n",
       "    }\n",
       "\n",
       "    .dataframe tbody tr th {\n",
       "        vertical-align: top;\n",
       "    }\n",
       "\n",
       "    .dataframe thead th {\n",
       "        text-align: right;\n",
       "    }\n",
       "</style>\n",
       "<table border=\"1\" class=\"dataframe\">\n",
       "  <thead>\n",
       "    <tr style=\"text-align: right;\">\n",
       "      <th></th>\n",
       "      <th>NumOfAgents</th>\n",
       "      <th>Y</th>\n",
       "      <th>GridName</th>\n",
       "      <th>InstanceId</th>\n",
       "    </tr>\n",
       "  </thead>\n",
       "  <tbody>\n",
       "    <tr>\n",
       "      <th>34687</th>\n",
       "      <td>1280</td>\n",
       "      <td>sat Runtime</td>\n",
       "      <td>orz900d</td>\n",
       "      <td>4</td>\n",
       "    </tr>\n",
       "    <tr>\n",
       "      <th>39183</th>\n",
       "      <td>1274</td>\n",
       "      <td>sat Runtime</td>\n",
       "      <td>orz900d</td>\n",
       "      <td>20</td>\n",
       "    </tr>\n",
       "    <tr>\n",
       "      <th>42292</th>\n",
       "      <td>1000</td>\n",
       "      <td>sat Runtime</td>\n",
       "      <td>orz900d</td>\n",
       "      <td>10</td>\n",
       "    </tr>\n",
       "    <tr>\n",
       "      <th>30903</th>\n",
       "      <td>201</td>\n",
       "      <td>cbsh-c Runtime</td>\n",
       "      <td>Berlin_1_256</td>\n",
       "      <td>2</td>\n",
       "    </tr>\n",
       "    <tr>\n",
       "      <th>32083</th>\n",
       "      <td>200</td>\n",
       "      <td>cbsh-c Runtime</td>\n",
       "      <td>Berlin_1_256</td>\n",
       "      <td>16</td>\n",
       "    </tr>\n",
       "    <tr>\n",
       "      <th>45497</th>\n",
       "      <td>198</td>\n",
       "      <td>epea Runtime</td>\n",
       "      <td>empty-48-48</td>\n",
       "      <td>7</td>\n",
       "    </tr>\n",
       "    <tr>\n",
       "      <th>20211</th>\n",
       "      <td>195</td>\n",
       "      <td>cbsh-c Runtime</td>\n",
       "      <td>Paris_1_256</td>\n",
       "      <td>25</td>\n",
       "    </tr>\n",
       "    <tr>\n",
       "      <th>30964</th>\n",
       "      <td>192</td>\n",
       "      <td>cbsh-c Runtime</td>\n",
       "      <td>Berlin_1_256</td>\n",
       "      <td>3</td>\n",
       "    </tr>\n",
       "    <tr>\n",
       "      <th>32558</th>\n",
       "      <td>190</td>\n",
       "      <td>cbsh-c Runtime</td>\n",
       "      <td>Paris_1_256</td>\n",
       "      <td>22</td>\n",
       "    </tr>\n",
       "    <tr>\n",
       "      <th>14200</th>\n",
       "      <td>187</td>\n",
       "      <td>cbsh-c Runtime</td>\n",
       "      <td>Paris_1_256</td>\n",
       "      <td>20</td>\n",
       "    </tr>\n",
       "    <tr>\n",
       "      <th>45619</th>\n",
       "      <td>184</td>\n",
       "      <td>cbsh Runtime</td>\n",
       "      <td>Berlin_1_256</td>\n",
       "      <td>10</td>\n",
       "    </tr>\n",
       "    <tr>\n",
       "      <th>28595</th>\n",
       "      <td>174</td>\n",
       "      <td>cbsh-c Runtime</td>\n",
       "      <td>Berlin_1_256</td>\n",
       "      <td>11</td>\n",
       "    </tr>\n",
       "    <tr>\n",
       "      <th>45013</th>\n",
       "      <td>173</td>\n",
       "      <td>cbsh Runtime</td>\n",
       "      <td>Berlin_1_256</td>\n",
       "      <td>20</td>\n",
       "    </tr>\n",
       "    <tr>\n",
       "      <th>45273</th>\n",
       "      <td>173</td>\n",
       "      <td>icts Runtime</td>\n",
       "      <td>Berlin_1_256</td>\n",
       "      <td>23</td>\n",
       "    </tr>\n",
       "    <tr>\n",
       "      <th>44578</th>\n",
       "      <td>171</td>\n",
       "      <td>icts Runtime</td>\n",
       "      <td>random-64-64-10</td>\n",
       "      <td>4</td>\n",
       "    </tr>\n",
       "    <tr>\n",
       "      <th>32004</th>\n",
       "      <td>171</td>\n",
       "      <td>cbsh-c Runtime</td>\n",
       "      <td>Paris_1_256</td>\n",
       "      <td>15</td>\n",
       "    </tr>\n",
       "    <tr>\n",
       "      <th>42046</th>\n",
       "      <td>169</td>\n",
       "      <td>sat Runtime</td>\n",
       "      <td>empty-48-48</td>\n",
       "      <td>9</td>\n",
       "    </tr>\n",
       "    <tr>\n",
       "      <th>40862</th>\n",
       "      <td>168</td>\n",
       "      <td>sat Runtime</td>\n",
       "      <td>empty-48-48</td>\n",
       "      <td>5</td>\n",
       "    </tr>\n",
       "    <tr>\n",
       "      <th>45544</th>\n",
       "      <td>167</td>\n",
       "      <td>cbsh Runtime</td>\n",
       "      <td>Paris_1_256</td>\n",
       "      <td>8</td>\n",
       "    </tr>\n",
       "    <tr>\n",
       "      <th>44458</th>\n",
       "      <td>167</td>\n",
       "      <td>epea Runtime</td>\n",
       "      <td>Paris_1_256</td>\n",
       "      <td>2</td>\n",
       "    </tr>\n",
       "  </tbody>\n",
       "</table>\n",
       "</div>"
      ],
      "text/plain": [
       "       NumOfAgents               Y         GridName  InstanceId\n",
       "34687         1280     sat Runtime          orz900d           4\n",
       "39183         1274     sat Runtime          orz900d          20\n",
       "42292         1000     sat Runtime          orz900d          10\n",
       "30903          201  cbsh-c Runtime     Berlin_1_256           2\n",
       "32083          200  cbsh-c Runtime     Berlin_1_256          16\n",
       "45497          198    epea Runtime      empty-48-48           7\n",
       "20211          195  cbsh-c Runtime      Paris_1_256          25\n",
       "30964          192  cbsh-c Runtime     Berlin_1_256           3\n",
       "32558          190  cbsh-c Runtime      Paris_1_256          22\n",
       "14200          187  cbsh-c Runtime      Paris_1_256          20\n",
       "45619          184    cbsh Runtime     Berlin_1_256          10\n",
       "28595          174  cbsh-c Runtime     Berlin_1_256          11\n",
       "45013          173    cbsh Runtime     Berlin_1_256          20\n",
       "45273          173    icts Runtime     Berlin_1_256          23\n",
       "44578          171    icts Runtime  random-64-64-10           4\n",
       "32004          171  cbsh-c Runtime      Paris_1_256          15\n",
       "42046          169     sat Runtime      empty-48-48           9\n",
       "40862          168     sat Runtime      empty-48-48           5\n",
       "45544          167    cbsh Runtime      Paris_1_256           8\n",
       "44458          167    epea Runtime      Paris_1_256           2"
      ]
     },
     "execution_count": 12,
     "metadata": {},
     "output_type": "execute_result"
    }
   ],
   "source": [
    "winners_df = df.iloc[max_agents_for_each_map_row_idxs][['NumOfAgents','Y','GridName','InstanceId']]\n",
    "winners_df.sort_values(['NumOfAgents'], ascending=False).head(20)"
   ]
  },
  {
   "cell_type": "markdown",
   "metadata": {},
   "source": [
    "### How many maps each solver solved alone? (i.e. gain in coverage) ###"
   ]
  },
  {
   "cell_type": "code",
   "execution_count": 13,
   "metadata": {},
   "outputs": [
    {
     "data": {
      "text/plain": [
       "sat Runtime       5470\n",
       "cbsh-c Runtime    2907\n",
       "epea Runtime       558\n",
       "cbsh Runtime       369\n",
       "icts Runtime       168\n",
       "astar Runtime       64\n",
       "macbs Runtime        8\n",
       "cbs Runtime          7\n",
       "Name: Y, dtype: int64"
      ]
     },
     "execution_count": 13,
     "metadata": {},
     "output_type": "execute_result"
    }
   ],
   "source": [
    "df[df['SolvesFinishedCount']==1]['Y'].value_counts()"
   ]
  },
  {
   "cell_type": "markdown",
   "metadata": {},
   "source": [
    "Let's try to find patterns regarding the large amount of maps sat solved alone"
   ]
  },
  {
   "cell_type": "markdown",
   "metadata": {},
   "source": [
    "### For each solver, how distributed are his \"single solver\" maps? ###\n",
    "\n",
    "In other words - we want to check if there is a solver that wins by a large margin on a specific map (and therefore gains coverage)."
   ]
  },
  {
   "cell_type": "code",
   "execution_count": 14,
   "metadata": {},
   "outputs": [
    {
     "data": {
      "text/plain": [
       "orz900d                3348\n",
       "random-64-64-10         442\n",
       "Berlin_1_256            260\n",
       "empty-48-48             258\n",
       "maze-32-32-4            148\n",
       "empty-32-32             128\n",
       "maze-32-32-2             97\n",
       "random-64-64-20          87\n",
       "den312d                  87\n",
       "random-32-32-10          85\n",
       "ht_chantry               81\n",
       "lt_gallowstemplar_n      71\n",
       "room-32-32-4             56\n",
       "ost003d                  45\n",
       "maze-128-128-2           38\n",
       "Paris_1_256              37\n",
       "den520d                  36\n",
       "room-64-64-16            35\n",
       "ht_mansion_n             33\n",
       "Boston_0_256             30\n",
       "room-64-64-8             28\n",
       "maze-128-128-10          16\n",
       "empty-16-16              15\n",
       "random-32-32-20           5\n",
       "lak303d                   3\n",
       "brc202d                   1\n",
       "Name: GridName, dtype: int64"
      ]
     },
     "execution_count": 14,
     "metadata": {},
     "output_type": "execute_result"
    }
   ],
   "source": [
    "df[(df['SolvesFinishedCount']==1)&(df.Y=='sat Runtime')].GridName.value_counts()"
   ]
  },
  {
   "cell_type": "markdown",
   "metadata": {},
   "source": [
    "### We can see that orz900d is highly dominated by sat. What will happen when we train the solver without it? ###\n",
    "Although surprising, it didn't had impact on the results.\n"
   ]
  },
  {
   "cell_type": "code",
   "execution_count": 15,
   "metadata": {},
   "outputs": [
    {
     "data": {
      "text/plain": [
       "4     1209\n",
       "20    1198\n",
       "10     941\n",
       "Name: InstanceId, dtype: int64"
      ]
     },
     "execution_count": 15,
     "metadata": {},
     "output_type": "execute_result"
    }
   ],
   "source": [
    "df[(df['SolvesFinishedCount']==1)&(df.Y=='sat Runtime')&(df.GridName=='orz900d')].InstanceId.value_counts()"
   ]
  },
  {
   "cell_type": "markdown",
   "metadata": {},
   "source": [
    "### Which maps have the highest std in terms of \"single solvers\" across different configurations? ###"
   ]
  },
  {
   "cell_type": "code",
   "execution_count": 16,
   "metadata": {},
   "outputs": [
    {
     "data": {
      "text/plain": [
       "GridName\n",
       "orz900d                2124.855877\n",
       "random-64-64-10         206.560726\n",
       "brc202d                 165.462987\n",
       "Paris_1_256             153.722152\n",
       "Boston_0_256            132.887170\n",
       "Berlin_1_256            130.340707\n",
       "empty-48-48             126.258993\n",
       "w_woundedcoast           92.359804\n",
       "ost003d                  81.328039\n",
       "maze-32-32-4             77.781746\n",
       "lak303d                  68.704682\n",
       "random-32-32-20          68.391033\n",
       "empty-32-32              55.590167\n",
       "room-64-64-16            46.740774\n",
       "random-64-64-20          43.274704\n",
       "ht_chantry               42.836900\n",
       "ht_mansion_n             42.457822\n",
       "lt_gallowstemplar_n      38.148831\n",
       "den312d                  37.000000\n",
       "empty-8-8                35.355339\n",
       "room-32-32-4             30.315013\n",
       "random-32-32-10          30.163996\n",
       "empty-16-16              28.919428\n",
       "maze-128-128-2           26.162951\n",
       "den520d                  21.738599\n",
       "maze-128-128-10          15.556349\n",
       "room-64-64-8             12.529964\n",
       "maze-32-32-2                   NaN\n",
       "Name: Y, dtype: float64"
      ]
     },
     "execution_count": 16,
     "metadata": {},
     "output_type": "execute_result"
    }
   ],
   "source": [
    "s = df[(df['SolvesFinishedCount']==1)].groupby(['GridName'])['Y'].value_counts()\n",
    "s.std(level='GridName').sort_values(ascending=False)"
   ]
  },
  {
   "cell_type": "markdown",
   "metadata": {},
   "source": [
    "### Interesting! We see that sat exceed in specific configurations of orz only, but when it does - it does so in an outstanding way and wins by a large margin over the others. \n",
    "\n",
    "1. What's so special about those specific configurations of orz?\n",
    "2. How can we use that knowledge during the training of the AS model? Maybe it emposes a bias?"
   ]
  },
  {
   "cell_type": "markdown",
   "metadata": {},
   "source": [
    "### What is the margin for each map between the largest number of agents solved and the 2nd best solver? ###"
   ]
  },
  {
   "cell_type": "code",
   "execution_count": 17,
   "metadata": {},
   "outputs": [],
   "source": [
    "max_num_of_agents_for_two_solvers_per_map = df[df['SolvesFinishedCount']>=2].groupby(['GridName','InstanceId'])['NumOfAgents'].max()\n"
   ]
  },
  {
   "cell_type": "code",
   "execution_count": 18,
   "metadata": {},
   "outputs": [],
   "source": [
    "max_num_of_agents_for_single_solver_per_map = df[df['SolvesFinishedCount']==1].groupby(['GridName','InstanceId'])['NumOfAgents'].max()"
   ]
  },
  {
   "cell_type": "code",
   "execution_count": 19,
   "metadata": {},
   "outputs": [
    {
     "data": {
      "text/plain": [
       "GridName      InstanceId\n",
       "orz900d       4             1209.0\n",
       "              20            1198.0\n",
       "              10             941.0\n",
       "Paris_1_256   25              99.0\n",
       "Berlin_1_256  16              89.0\n",
       "              3               70.0\n",
       "Paris_1_256   3               68.0\n",
       "              22              66.0\n",
       "Berlin_1_256  4               60.0\n",
       "Paris_1_256   19              59.0\n",
       "Name: NumOfAgents, dtype: float64"
      ]
     },
     "execution_count": 19,
     "metadata": {},
     "output_type": "execute_result"
    }
   ],
   "source": [
    "margin_from_single_solver = max_num_of_agents_for_single_solver_per_map - max_num_of_agents_for_two_solvers_per_map\n",
    "margin_from_single_solver.sort_values(ascending=False).head(10)"
   ]
  },
  {
   "cell_type": "markdown",
   "metadata": {},
   "source": [
    "### Let's try to cluster the data given the features and try to see if those outliers (orz900d of instances 4,20,10) seems \"strange\" ###"
   ]
  },
  {
   "cell_type": "code",
   "execution_count": 22,
   "metadata": {},
   "outputs": [
    {
     "name": "stdout",
     "output_type": "stream",
     "text": [
      "['GridRows', 'GridColumns', 'NumOfAgents', 'NumOfObstacles', 'ObstacleDensity', 'AvgDistanceToGoal', 'MaxDistanceToGoal', 'MinDistanceToGoal', 'AvgStartDistances', 'AvgGoalDistances', 'PointsAtSPRatio', 'Sparsity']\n"
     ]
    }
   ],
   "source": [
    "from sklearn.cluster import KMeans\n",
    "from sklearn.model_selection import GroupShuffleSplit\n",
    "\n",
    "groups = df['InstanceId']  # len of scenarios\n",
    "gkf = GroupShuffleSplit(n_splits=1, test_size=0.3, random_state=42)\n",
    "\n",
    "for index, (tr_ind, test_ind) in enumerate(gkf.split(df, df['Y'], groups)):\n",
    "    X_train, X_test, y_train, y_test = df.iloc[tr_ind].copy(), df.iloc[test_ind].copy(), \\\n",
    "                                           df['Y'].iloc[tr_ind].copy(), df['Y'].iloc[test_ind].copy()\n",
    "    \n",
    "    features_cols_without_b_factor = features_cols.copy()\n",
    "#     features_cols_without_b_factor.remove('BranchingFactor')\n",
    "    print(features_cols_without_b_factor)\n",
    "    kmeans = KMeans(n_clusters=len(success_cols)).fit(X_train[features_cols_without_b_factor])\n"
   ]
  },
  {
   "cell_type": "markdown",
   "metadata": {},
   "source": [
    "### Finding \"Breaking points\"\n",
    "Points on instances where adding a single agent caused a dramatic increase in runtime"
   ]
  },
  {
   "cell_type": "code",
   "execution_count": 114,
   "metadata": {},
   "outputs": [],
   "source": [
    "jump = 1\n",
    "breaks = df[(df['Y Runtime'].shift(-jump)>df['Y Runtime']**2)&(df['Y Runtime']>5)].index.to_list()\n",
    "after_breaks = [b+jump for b in breaks]\n",
    "breaks.extend(after_breaks)\n"
   ]
  },
  {
   "cell_type": "code",
   "execution_count": 115,
   "metadata": {},
   "outputs": [
    {
     "data": {
      "text/plain": [
       "87.0"
      ]
     },
     "execution_count": 115,
     "metadata": {},
     "output_type": "execute_result"
    }
   ],
   "source": [
    "breaks.sort()\n",
    "len(breaks)/2"
   ]
  },
  {
   "cell_type": "code",
   "execution_count": 118,
   "metadata": {},
   "outputs": [
    {
     "data": {
      "text/html": [
       "<div>\n",
       "<style scoped>\n",
       "    .dataframe tbody tr th:only-of-type {\n",
       "        vertical-align: middle;\n",
       "    }\n",
       "\n",
       "    .dataframe tbody tr th {\n",
       "        vertical-align: top;\n",
       "    }\n",
       "\n",
       "    .dataframe thead th {\n",
       "        text-align: right;\n",
       "    }\n",
       "</style>\n",
       "<table border=\"1\" class=\"dataframe\">\n",
       "  <thead>\n",
       "    <tr style=\"text-align: right;\">\n",
       "      <th></th>\n",
       "      <th>NumOfAgents</th>\n",
       "      <th>Y Runtime</th>\n",
       "      <th>InstanceId</th>\n",
       "      <th>GridName</th>\n",
       "      <th>GridRows</th>\n",
       "      <th>GridColumns</th>\n",
       "      <th>NumOfAgents</th>\n",
       "      <th>NumOfObstacles</th>\n",
       "      <th>ObstacleDensity</th>\n",
       "      <th>AvgDistanceToGoal</th>\n",
       "      <th>MaxDistanceToGoal</th>\n",
       "      <th>MinDistanceToGoal</th>\n",
       "      <th>AvgStartDistances</th>\n",
       "      <th>AvgGoalDistances</th>\n",
       "      <th>PointsAtSPRatio</th>\n",
       "      <th>Sparsity</th>\n",
       "    </tr>\n",
       "  </thead>\n",
       "  <tbody>\n",
       "    <tr>\n",
       "      <th>680</th>\n",
       "      <td>4</td>\n",
       "      <td>20.4992</td>\n",
       "      <td>1</td>\n",
       "      <td>maze-128-128-2</td>\n",
       "      <td>128.0</td>\n",
       "      <td>128.0</td>\n",
       "      <td>4</td>\n",
       "      <td>5526.0</td>\n",
       "      <td>0.337280</td>\n",
       "      <td>514.000000</td>\n",
       "      <td>798.0</td>\n",
       "      <td>335.0</td>\n",
       "      <td>122.30000</td>\n",
       "      <td>332.30000</td>\n",
       "      <td>0.072510</td>\n",
       "      <td>0.000368</td>\n",
       "    </tr>\n",
       "    <tr>\n",
       "      <th>681</th>\n",
       "      <td>5</td>\n",
       "      <td>1898.5994</td>\n",
       "      <td>1</td>\n",
       "      <td>maze-128-128-2</td>\n",
       "      <td>128.0</td>\n",
       "      <td>128.0</td>\n",
       "      <td>5</td>\n",
       "      <td>5526.0</td>\n",
       "      <td>0.337280</td>\n",
       "      <td>615.800000</td>\n",
       "      <td>1023.0</td>\n",
       "      <td>335.0</td>\n",
       "      <td>300.13330</td>\n",
       "      <td>389.73330</td>\n",
       "      <td>0.096558</td>\n",
       "      <td>0.000460</td>\n",
       "    </tr>\n",
       "    <tr>\n",
       "      <th>733</th>\n",
       "      <td>7</td>\n",
       "      <td>31.9730</td>\n",
       "      <td>1</td>\n",
       "      <td>orz900d</td>\n",
       "      <td>656.0</td>\n",
       "      <td>1491.0</td>\n",
       "      <td>7</td>\n",
       "      <td>881493.0</td>\n",
       "      <td>0.901234</td>\n",
       "      <td>1502.000000</td>\n",
       "      <td>3049.0</td>\n",
       "      <td>12.0</td>\n",
       "      <td>501.50000</td>\n",
       "      <td>977.78570</td>\n",
       "      <td>0.004139</td>\n",
       "      <td>0.000072</td>\n",
       "    </tr>\n",
       "    <tr>\n",
       "      <th>734</th>\n",
       "      <td>8</td>\n",
       "      <td>2142.2500</td>\n",
       "      <td>1</td>\n",
       "      <td>orz900d</td>\n",
       "      <td>656.0</td>\n",
       "      <td>1491.0</td>\n",
       "      <td>8</td>\n",
       "      <td>881493.0</td>\n",
       "      <td>0.901234</td>\n",
       "      <td>1547.250000</td>\n",
       "      <td>3049.0</td>\n",
       "      <td>12.0</td>\n",
       "      <td>827.88890</td>\n",
       "      <td>999.38890</td>\n",
       "      <td>0.004987</td>\n",
       "      <td>0.000083</td>\n",
       "    </tr>\n",
       "    <tr>\n",
       "      <th>994</th>\n",
       "      <td>12</td>\n",
       "      <td>6.6219</td>\n",
       "      <td>1</td>\n",
       "      <td>room-32-32-4</td>\n",
       "      <td>32.0</td>\n",
       "      <td>32.0</td>\n",
       "      <td>12</td>\n",
       "      <td>342.0</td>\n",
       "      <td>0.333984</td>\n",
       "      <td>25.416667</td>\n",
       "      <td>50.0</td>\n",
       "      <td>2.0</td>\n",
       "      <td>19.76923</td>\n",
       "      <td>23.03846</td>\n",
       "      <td>0.215820</td>\n",
       "      <td>0.017595</td>\n",
       "    </tr>\n",
       "    <tr>\n",
       "      <th>995</th>\n",
       "      <td>13</td>\n",
       "      <td>332.5728</td>\n",
       "      <td>1</td>\n",
       "      <td>room-32-32-4</td>\n",
       "      <td>32.0</td>\n",
       "      <td>32.0</td>\n",
       "      <td>13</td>\n",
       "      <td>342.0</td>\n",
       "      <td>0.333984</td>\n",
       "      <td>24.615385</td>\n",
       "      <td>50.0</td>\n",
       "      <td>2.0</td>\n",
       "      <td>19.36264</td>\n",
       "      <td>22.30769</td>\n",
       "      <td>0.216797</td>\n",
       "      <td>0.019062</td>\n",
       "    </tr>\n",
       "    <tr>\n",
       "      <th>1044</th>\n",
       "      <td>12</td>\n",
       "      <td>14.5658</td>\n",
       "      <td>1</td>\n",
       "      <td>room-64-64-8</td>\n",
       "      <td>64.0</td>\n",
       "      <td>64.0</td>\n",
       "      <td>12</td>\n",
       "      <td>864.0</td>\n",
       "      <td>0.210938</td>\n",
       "      <td>69.000000</td>\n",
       "      <td>116.0</td>\n",
       "      <td>15.0</td>\n",
       "      <td>41.53846</td>\n",
       "      <td>57.89743</td>\n",
       "      <td>0.120361</td>\n",
       "      <td>0.003713</td>\n",
       "    </tr>\n",
       "    <tr>\n",
       "      <th>1045</th>\n",
       "      <td>13</td>\n",
       "      <td>212.3514</td>\n",
       "      <td>1</td>\n",
       "      <td>room-64-64-8</td>\n",
       "      <td>64.0</td>\n",
       "      <td>64.0</td>\n",
       "      <td>13</td>\n",
       "      <td>864.0</td>\n",
       "      <td>0.210938</td>\n",
       "      <td>69.615385</td>\n",
       "      <td>116.0</td>\n",
       "      <td>15.0</td>\n",
       "      <td>41.27473</td>\n",
       "      <td>61.78022</td>\n",
       "      <td>0.124512</td>\n",
       "      <td>0.004022</td>\n",
       "    </tr>\n",
       "    <tr>\n",
       "      <th>1523</th>\n",
       "      <td>5</td>\n",
       "      <td>6.8360</td>\n",
       "      <td>2</td>\n",
       "      <td>brc202d</td>\n",
       "      <td>481.0</td>\n",
       "      <td>530.0</td>\n",
       "      <td>5</td>\n",
       "      <td>211779.0</td>\n",
       "      <td>0.830734</td>\n",
       "      <td>472.800000</td>\n",
       "      <td>724.0</td>\n",
       "      <td>131.0</td>\n",
       "      <td>321.73330</td>\n",
       "      <td>252.40000</td>\n",
       "      <td>0.006743</td>\n",
       "      <td>0.000116</td>\n",
       "    </tr>\n",
       "    <tr>\n",
       "      <th>1524</th>\n",
       "      <td>6</td>\n",
       "      <td>260.1810</td>\n",
       "      <td>2</td>\n",
       "      <td>brc202d</td>\n",
       "      <td>481.0</td>\n",
       "      <td>530.0</td>\n",
       "      <td>6</td>\n",
       "      <td>211779.0</td>\n",
       "      <td>0.830734</td>\n",
       "      <td>495.666667</td>\n",
       "      <td>724.0</td>\n",
       "      <td>131.0</td>\n",
       "      <td>332.28570</td>\n",
       "      <td>260.00000</td>\n",
       "      <td>0.007783</td>\n",
       "      <td>0.000139</td>\n",
       "    </tr>\n",
       "    <tr>\n",
       "      <th>1559</th>\n",
       "      <td>11</td>\n",
       "      <td>5.9750</td>\n",
       "      <td>2</td>\n",
       "      <td>den312d</td>\n",
       "      <td>81.0</td>\n",
       "      <td>65.0</td>\n",
       "      <td>11</td>\n",
       "      <td>2820.0</td>\n",
       "      <td>0.535613</td>\n",
       "      <td>56.272727</td>\n",
       "      <td>99.0</td>\n",
       "      <td>1.0</td>\n",
       "      <td>50.30303</td>\n",
       "      <td>66.39394</td>\n",
       "      <td>0.082811</td>\n",
       "      <td>0.004499</td>\n",
       "    </tr>\n",
       "    <tr>\n",
       "      <th>1560</th>\n",
       "      <td>12</td>\n",
       "      <td>153.8580</td>\n",
       "      <td>2</td>\n",
       "      <td>den312d</td>\n",
       "      <td>81.0</td>\n",
       "      <td>65.0</td>\n",
       "      <td>12</td>\n",
       "      <td>2820.0</td>\n",
       "      <td>0.535613</td>\n",
       "      <td>59.666667</td>\n",
       "      <td>99.0</td>\n",
       "      <td>1.0</td>\n",
       "      <td>52.70513</td>\n",
       "      <td>65.88461</td>\n",
       "      <td>0.084520</td>\n",
       "      <td>0.004908</td>\n",
       "    </tr>\n",
       "  </tbody>\n",
       "</table>\n",
       "</div>"
      ],
      "text/plain": [
       "      NumOfAgents  Y Runtime  InstanceId        GridName  GridRows  \\\n",
       "680             4    20.4992           1  maze-128-128-2     128.0   \n",
       "681             5  1898.5994           1  maze-128-128-2     128.0   \n",
       "733             7    31.9730           1         orz900d     656.0   \n",
       "734             8  2142.2500           1         orz900d     656.0   \n",
       "994            12     6.6219           1    room-32-32-4      32.0   \n",
       "995            13   332.5728           1    room-32-32-4      32.0   \n",
       "1044           12    14.5658           1    room-64-64-8      64.0   \n",
       "1045           13   212.3514           1    room-64-64-8      64.0   \n",
       "1523            5     6.8360           2         brc202d     481.0   \n",
       "1524            6   260.1810           2         brc202d     481.0   \n",
       "1559           11     5.9750           2         den312d      81.0   \n",
       "1560           12   153.8580           2         den312d      81.0   \n",
       "\n",
       "      GridColumns  NumOfAgents  NumOfObstacles  ObstacleDensity  \\\n",
       "680         128.0            4          5526.0         0.337280   \n",
       "681         128.0            5          5526.0         0.337280   \n",
       "733        1491.0            7        881493.0         0.901234   \n",
       "734        1491.0            8        881493.0         0.901234   \n",
       "994          32.0           12           342.0         0.333984   \n",
       "995          32.0           13           342.0         0.333984   \n",
       "1044         64.0           12           864.0         0.210938   \n",
       "1045         64.0           13           864.0         0.210938   \n",
       "1523        530.0            5        211779.0         0.830734   \n",
       "1524        530.0            6        211779.0         0.830734   \n",
       "1559         65.0           11          2820.0         0.535613   \n",
       "1560         65.0           12          2820.0         0.535613   \n",
       "\n",
       "      AvgDistanceToGoal  MaxDistanceToGoal  MinDistanceToGoal  \\\n",
       "680          514.000000              798.0              335.0   \n",
       "681          615.800000             1023.0              335.0   \n",
       "733         1502.000000             3049.0               12.0   \n",
       "734         1547.250000             3049.0               12.0   \n",
       "994           25.416667               50.0                2.0   \n",
       "995           24.615385               50.0                2.0   \n",
       "1044          69.000000              116.0               15.0   \n",
       "1045          69.615385              116.0               15.0   \n",
       "1523         472.800000              724.0              131.0   \n",
       "1524         495.666667              724.0              131.0   \n",
       "1559          56.272727               99.0                1.0   \n",
       "1560          59.666667               99.0                1.0   \n",
       "\n",
       "      AvgStartDistances  AvgGoalDistances  PointsAtSPRatio  Sparsity  \n",
       "680           122.30000         332.30000         0.072510  0.000368  \n",
       "681           300.13330         389.73330         0.096558  0.000460  \n",
       "733           501.50000         977.78570         0.004139  0.000072  \n",
       "734           827.88890         999.38890         0.004987  0.000083  \n",
       "994            19.76923          23.03846         0.215820  0.017595  \n",
       "995            19.36264          22.30769         0.216797  0.019062  \n",
       "1044           41.53846          57.89743         0.120361  0.003713  \n",
       "1045           41.27473          61.78022         0.124512  0.004022  \n",
       "1523          321.73330         252.40000         0.006743  0.000116  \n",
       "1524          332.28570         260.00000         0.007783  0.000139  \n",
       "1559           50.30303          66.39394         0.082811  0.004499  \n",
       "1560           52.70513          65.88461         0.084520  0.004908  "
      ]
     },
     "execution_count": 118,
     "metadata": {},
     "output_type": "execute_result"
    }
   ],
   "source": [
    "df.iloc[breaks][['NumOfAgents','Y Runtime','InstanceId','GridName']+features_cols].head(12)"
   ]
  },
  {
   "cell_type": "markdown",
   "metadata": {},
   "source": [
    "### Visualize some breaking points - the map before and after the addition of the \"breaking\" agent ###"
   ]
  },
  {
   "cell_type": "code",
   "execution_count": 129,
   "metadata": {},
   "outputs": [
    {
     "data": {
      "text/plain": [
       "orz900d                4672\n",
       "Berlin_1_256           3720\n",
       "empty-48-48            3637\n",
       "random-64-64-10        3505\n",
       "Paris_1_256            3159\n",
       "empty-32-32            2359\n",
       "den520d                2305\n",
       "random-64-64-20        2111\n",
       "Boston_0_256           2030\n",
       "random-32-32-10        1840\n",
       "ht_mansion_n           1400\n",
       "w_woundedcoast         1376\n",
       "random-32-32-20        1220\n",
       "empty-16-16            1209\n",
       "ost003d                1201\n",
       "room-64-64-16          1187\n",
       "ht_chantry             1135\n",
       "den312d                1015\n",
       "brc202d                1000\n",
       "lt_gallowstemplar_n     986\n",
       "lak303d                 835\n",
       "empty-8-8               653\n",
       "room-32-32-4            634\n",
       "maze-128-128-10         571\n",
       "maze-32-32-4            549\n",
       "maze-32-32-2            523\n",
       "room-64-64-8            519\n",
       "maze-128-128-2          425\n",
       "Name: GridName, dtype: int64"
      ]
     },
     "execution_count": 129,
     "metadata": {},
     "output_type": "execute_result"
    }
   ],
   "source": [
    "df.GridName.value_counts()"
   ]
  },
  {
   "cell_type": "markdown",
   "metadata": {},
   "source": [
    "### Plotting specific maps runtime distribution ###"
   ]
  },
  {
   "cell_type": "code",
   "execution_count": 226,
   "metadata": {},
   "outputs": [],
   "source": [
    "def plot_problem_runtime_hist(df, instance_id,gridname,runtime_cols):\n",
    "    fig,ax = plt.subplots()\n",
    "    tmp_df = df[(df.InstanceId==instance_id)&(df.GridName==gridname)]\n",
    "    for algorithm in runtime_cols:\n",
    "        if algorithm=='Y Runtime':\n",
    "            continue\n",
    "        plt.plot(tmp_df[algorithm].values, label=algorithm)\n",
    "        ax.set_xlabel(\"NumOfAgents\")\n",
    "        ax.set_ylabel(\"algorithm\")\n",
    "        ax.legend(loc='best')\n",
    "        ax.set_title('Instance: {i},d grid: {g}'.format(i=instance_id,g=gridname))"
   ]
  },
  {
   "cell_type": "code",
   "execution_count": 243,
   "metadata": {},
   "outputs": [
    {
     "data": {
      "image/png": "[encoded data removed]",
      "text/plain": [
       "<Figure size 432x288 with 1 Axes>"
      ]
     },
     "metadata": {
      "needs_background": "light"
     },
     "output_type": "display_data"
    }
   ],
   "source": [
    "instance_id=10\n",
    "gridname='orz900d'\n",
    "plot_problem_runtime_hist(df,instance_id,gridname,runtime_cols)"
   ]
  },
  {
   "cell_type": "code",
   "execution_count": null,
   "metadata": {},
   "outputs": [],
   "source": []
  }
 ],
 "metadata": {
  "kernelspec": {
   "display_name": "Python 3",
   "language": "python",
   "name": "python3"
  },
  "language_info": {
   "codemirror_mode": {
    "name": "ipython",
    "version": 3
   },
   "file_extension": ".py",
   "mimetype": "text/x-python",
   "name": "python",
   "nbconvert_exporter": "python",
   "pygments_lexer": "ipython3",
   "version": "3.6.8"
  }
 },
 "nbformat": 4,
 "nbformat_minor": 2
}
