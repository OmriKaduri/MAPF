{
 "cells": [
  {
   "cell_type": "code",
   "execution_count": 93,
   "metadata": {},
   "outputs": [],
   "source": [
    "import sys; sys.path.insert(0, '..') #Add upper folder to path\n",
    "from src.preprocess import Preprocess\n",
    "import matplotlib.pyplot as plt\n",
    "%matplotlib inline\n",
    "import pandas as pd\n",
    "import yaml"
   ]
  },
  {
   "cell_type": "code",
   "execution_count": 94,
   "metadata": {},
   "outputs": [],
   "source": [
    "with open(\"../src/config.yaml\", 'r') as stream:\n",
    "    config = yaml.safe_load(stream)\n",
    "\n",
    "features_cols = config['features']\n",
    "\n",
    "max_runtime = 300000\n",
    "algorithms = config['algorithms']\n",
    "runtime_cols = [algorithm + ' Runtime' for algorithm in algorithms]\n",
    "runtime_cols.append('Y Runtime')\n",
    "success_cols = [algorithm + ' Success' for algorithm in algorithms]\n",
    "data_path = '../src/AllData-labelled.csv'\n",
    "df = pd.read_csv(data_path)\n",
    "\n",
    "# drop_maps = None\n",
    "drop_maps = ['warehouse']\n",
    "\n",
    "if drop_maps is not None:\n",
    "    for maptype in drop_maps:\n",
    "        df = df[~df.GridName.str.contains(maptype)]\n",
    "    df = df.reset_index(drop=True)"
   ]
  },
  {
   "cell_type": "code",
   "execution_count": 95,
   "metadata": {},
   "outputs": [
    {
     "data": {
      "text/plain": [
       "['icts Success', 'epea Success', 'cbsh Success', 'sat Success']"
      ]
     },
     "execution_count": 95,
     "metadata": {},
     "output_type": "execute_result"
    }
   ],
   "source": [
    "success_cols"
   ]
  },
  {
   "cell_type": "markdown",
   "metadata": {},
   "source": [
    "### How many problems solved by only one solver? ###"
   ]
  },
  {
   "cell_type": "code",
   "execution_count": 96,
   "metadata": {},
   "outputs": [],
   "source": [
    "df['SolvesFinishedCount'] = df[success_cols].sum(axis=1)"
   ]
  },
  {
   "cell_type": "code",
   "execution_count": 97,
   "metadata": {},
   "outputs": [
    {
     "name": "stdout",
     "output_type": "stream",
     "text": [
      "0.1976237265930293 of the problems solved by only one solver!\n"
     ]
    }
   ],
   "source": [
    "print(\"{n} of the problems solved by only one solver!\".format(n=len(df[df['SolvesFinishedCount']==1])/len(df)))"
   ]
  },
  {
   "cell_type": "markdown",
   "metadata": {},
   "source": [
    "### What is the maximum number of agents solved for each map? ###\n",
    "\n",
    "Note: A map is a combination of an instance and the grid."
   ]
  },
  {
   "cell_type": "code",
   "execution_count": 98,
   "metadata": {
    "scrolled": true
   },
   "outputs": [],
   "source": [
    "max_agents_for_each_map_row_idxs =df.groupby(['GridName','InstanceId'])['NumOfAgents'].idxmax()"
   ]
  },
  {
   "cell_type": "code",
   "execution_count": 99,
   "metadata": {},
   "outputs": [
    {
     "data": {
      "text/html": [
       "<div>\n",
       "<style scoped>\n",
       "    .dataframe tbody tr th:only-of-type {\n",
       "        vertical-align: middle;\n",
       "    }\n",
       "\n",
       "    .dataframe tbody tr th {\n",
       "        vertical-align: top;\n",
       "    }\n",
       "\n",
       "    .dataframe thead th {\n",
       "        text-align: right;\n",
       "    }\n",
       "</style>\n",
       "<table border=\"1\" class=\"dataframe\">\n",
       "  <thead>\n",
       "    <tr style=\"text-align: right;\">\n",
       "      <th></th>\n",
       "      <th>NumOfAgents</th>\n",
       "      <th>Y</th>\n",
       "      <th>GridName</th>\n",
       "      <th>InstanceId</th>\n",
       "    </tr>\n",
       "  </thead>\n",
       "  <tbody>\n",
       "    <tr>\n",
       "      <th>32507</th>\n",
       "      <td>1280</td>\n",
       "      <td>sat Runtime</td>\n",
       "      <td>orz900d</td>\n",
       "      <td>4</td>\n",
       "    </tr>\n",
       "    <tr>\n",
       "      <th>37187</th>\n",
       "      <td>1274</td>\n",
       "      <td>sat Runtime</td>\n",
       "      <td>orz900d</td>\n",
       "      <td>20</td>\n",
       "    </tr>\n",
       "    <tr>\n",
       "      <th>40300</th>\n",
       "      <td>1000</td>\n",
       "      <td>sat Runtime</td>\n",
       "      <td>orz900d</td>\n",
       "      <td>10</td>\n",
       "    </tr>\n",
       "    <tr>\n",
       "      <th>251</th>\n",
       "      <td>200</td>\n",
       "      <td>cbsh Runtime</td>\n",
       "      <td>Berlin_1_256</td>\n",
       "      <td>2</td>\n",
       "    </tr>\n",
       "    <tr>\n",
       "      <th>43947</th>\n",
       "      <td>198</td>\n",
       "      <td>epea Runtime</td>\n",
       "      <td>empty-48-48</td>\n",
       "      <td>7</td>\n",
       "    </tr>\n",
       "    <tr>\n",
       "      <th>20820</th>\n",
       "      <td>195</td>\n",
       "      <td>cbsh Runtime</td>\n",
       "      <td>Paris_1_256</td>\n",
       "      <td>25</td>\n",
       "    </tr>\n",
       "    <tr>\n",
       "      <th>5500</th>\n",
       "      <td>195</td>\n",
       "      <td>cbsh Runtime</td>\n",
       "      <td>Berlin_1_256</td>\n",
       "      <td>16</td>\n",
       "    </tr>\n",
       "    <tr>\n",
       "      <th>13797</th>\n",
       "      <td>187</td>\n",
       "      <td>cbsh Runtime</td>\n",
       "      <td>Paris_1_256</td>\n",
       "      <td>20</td>\n",
       "    </tr>\n",
       "    <tr>\n",
       "      <th>436</th>\n",
       "      <td>186</td>\n",
       "      <td>cbsh Runtime</td>\n",
       "      <td>Berlin_1_256</td>\n",
       "      <td>3</td>\n",
       "    </tr>\n",
       "    <tr>\n",
       "      <th>18432</th>\n",
       "      <td>186</td>\n",
       "      <td>cbsh Runtime</td>\n",
       "      <td>Paris_1_256</td>\n",
       "      <td>22</td>\n",
       "    </tr>\n",
       "    <tr>\n",
       "      <th>44075</th>\n",
       "      <td>184</td>\n",
       "      <td>macbs Runtime</td>\n",
       "      <td>Berlin_1_256</td>\n",
       "      <td>10</td>\n",
       "    </tr>\n",
       "    <tr>\n",
       "      <th>26411</th>\n",
       "      <td>174</td>\n",
       "      <td>cbsh Runtime</td>\n",
       "      <td>Berlin_1_256</td>\n",
       "      <td>11</td>\n",
       "    </tr>\n",
       "    <tr>\n",
       "      <th>43507</th>\n",
       "      <td>173</td>\n",
       "      <td>icts Runtime</td>\n",
       "      <td>Berlin_1_256</td>\n",
       "      <td>23</td>\n",
       "    </tr>\n",
       "    <tr>\n",
       "      <th>43274</th>\n",
       "      <td>173</td>\n",
       "      <td>macbs Runtime</td>\n",
       "      <td>Berlin_1_256</td>\n",
       "      <td>20</td>\n",
       "    </tr>\n",
       "    <tr>\n",
       "      <th>42860</th>\n",
       "      <td>171</td>\n",
       "      <td>icts Runtime</td>\n",
       "      <td>random-64-64-10</td>\n",
       "      <td>4</td>\n",
       "    </tr>\n",
       "    <tr>\n",
       "      <th>40208</th>\n",
       "      <td>169</td>\n",
       "      <td>sat Runtime</td>\n",
       "      <td>empty-48-48</td>\n",
       "      <td>9</td>\n",
       "    </tr>\n",
       "    <tr>\n",
       "      <th>39398</th>\n",
       "      <td>168</td>\n",
       "      <td>sat Runtime</td>\n",
       "      <td>empty-48-48</td>\n",
       "      <td>5</td>\n",
       "    </tr>\n",
       "    <tr>\n",
       "      <th>42829</th>\n",
       "      <td>167</td>\n",
       "      <td>epea Runtime</td>\n",
       "      <td>Paris_1_256</td>\n",
       "      <td>2</td>\n",
       "    </tr>\n",
       "    <tr>\n",
       "      <th>43988</th>\n",
       "      <td>167</td>\n",
       "      <td>macbs Runtime</td>\n",
       "      <td>Paris_1_256</td>\n",
       "      <td>8</td>\n",
       "    </tr>\n",
       "    <tr>\n",
       "      <th>39008</th>\n",
       "      <td>167</td>\n",
       "      <td>sat Runtime</td>\n",
       "      <td>Berlin_1_256</td>\n",
       "      <td>8</td>\n",
       "    </tr>\n",
       "  </tbody>\n",
       "</table>\n",
       "</div>"
      ],
      "text/plain": [
       "       NumOfAgents              Y         GridName  InstanceId\n",
       "32507         1280    sat Runtime          orz900d           4\n",
       "37187         1274    sat Runtime          orz900d          20\n",
       "40300         1000    sat Runtime          orz900d          10\n",
       "251            200   cbsh Runtime     Berlin_1_256           2\n",
       "43947          198   epea Runtime      empty-48-48           7\n",
       "20820          195   cbsh Runtime      Paris_1_256          25\n",
       "5500           195   cbsh Runtime     Berlin_1_256          16\n",
       "13797          187   cbsh Runtime      Paris_1_256          20\n",
       "436            186   cbsh Runtime     Berlin_1_256           3\n",
       "18432          186   cbsh Runtime      Paris_1_256          22\n",
       "44075          184  macbs Runtime     Berlin_1_256          10\n",
       "26411          174   cbsh Runtime     Berlin_1_256          11\n",
       "43507          173   icts Runtime     Berlin_1_256          23\n",
       "43274          173  macbs Runtime     Berlin_1_256          20\n",
       "42860          171   icts Runtime  random-64-64-10           4\n",
       "40208          169    sat Runtime      empty-48-48           9\n",
       "39398          168    sat Runtime      empty-48-48           5\n",
       "42829          167   epea Runtime      Paris_1_256           2\n",
       "43988          167  macbs Runtime      Paris_1_256           8\n",
       "39008          167    sat Runtime     Berlin_1_256           8"
      ]
     },
     "execution_count": 99,
     "metadata": {},
     "output_type": "execute_result"
    }
   ],
   "source": [
    "winners_df = df.iloc[max_agents_for_each_map_row_idxs][['NumOfAgents','Y','GridName','InstanceId']]\n",
    "winners_df.sort_values(['NumOfAgents'], ascending=False).head(20)"
   ]
  },
  {
   "cell_type": "markdown",
   "metadata": {},
   "source": [
    "### How many maps each solver solved alone? (i.e. gain in coverage) ###"
   ]
  },
  {
   "cell_type": "code",
   "execution_count": 100,
   "metadata": {},
   "outputs": [
    {
     "data": {
      "text/plain": [
       "sat Runtime      5855\n",
       "cbsh Runtime     1948\n",
       "epea Runtime      585\n",
       "icts Runtime      275\n",
       "astar Runtime      58\n",
       "macbs Runtime      18\n",
       "cbs Runtime        10\n",
       "Name: Y, dtype: int64"
      ]
     },
     "execution_count": 100,
     "metadata": {},
     "output_type": "execute_result"
    }
   ],
   "source": [
    "df[df['SolvesFinishedCount']==1]['Y'].value_counts()"
   ]
  },
  {
   "cell_type": "markdown",
   "metadata": {},
   "source": [
    "Let's try to find patterns regarding the large amount of maps sat solved alone"
   ]
  },
  {
   "cell_type": "markdown",
   "metadata": {},
   "source": [
    "### For each solver, how distributed are his \"single solver\" maps? ###\n",
    "\n",
    "In other words - we want to check if there is a solver that wins by a large margin on a specific map (and therefore gains coverage)."
   ]
  },
  {
   "cell_type": "code",
   "execution_count": 101,
   "metadata": {},
   "outputs": [
    {
     "data": {
      "text/plain": [
       "orz900d                3370\n",
       "random-64-64-10         442\n",
       "empty-48-48             269\n",
       "Berlin_1_256            260\n",
       "ht_chantry              141\n",
       "empty-32-32             140\n",
       "maze-32-32-4            131\n",
       "maze-32-32-2            124\n",
       "den312d                 111\n",
       "random-64-64-20          89\n",
       "lt_gallowstemplar_n      87\n",
       "random-32-32-10          85\n",
       "room-32-32-4             77\n",
       "maze-128-128-2           68\n",
       "maze-128-128-10          63\n",
       "room-64-64-8             50\n",
       "ost003d                  49\n",
       "ht_mansion_n             42\n",
       "Paris_1_256              37\n",
       "random-32-32-20          36\n",
       "den520d                  36\n",
       "room-64-64-16            33\n",
       "Boston_0_256             30\n",
       "lak303d                  29\n",
       "w_woundedcoast           24\n",
       "empty-16-16              16\n",
       "brc202d                  12\n",
       "empty-8-8                 4\n",
       "Name: GridName, dtype: int64"
      ]
     },
     "execution_count": 101,
     "metadata": {},
     "output_type": "execute_result"
    }
   ],
   "source": [
    "df[(df['SolvesFinishedCount']==1)&(df.Y=='sat Runtime')].GridName.value_counts()"
   ]
  },
  {
   "cell_type": "markdown",
   "metadata": {},
   "source": [
    "### We can see that orz900d is highly dominated by sat. What will happen when we train the solver without it? ###\n",
    "Although surprising, it didn't had impact on the results.\n"
   ]
  },
  {
   "cell_type": "code",
   "execution_count": 102,
   "metadata": {},
   "outputs": [
    {
     "data": {
      "text/plain": [
       "4     1212\n",
       "20    1208\n",
       "10     950\n",
       "Name: InstanceId, dtype: int64"
      ]
     },
     "execution_count": 102,
     "metadata": {},
     "output_type": "execute_result"
    }
   ],
   "source": [
    "df[(df['SolvesFinishedCount']==1)&(df.Y=='sat Runtime')&(df.GridName=='orz900d')].InstanceId.value_counts()"
   ]
  },
  {
   "cell_type": "markdown",
   "metadata": {},
   "source": [
    "### Which maps have the highest std in terms of \"single solvers\" across different configurations? ###"
   ]
  },
  {
   "cell_type": "code",
   "execution_count": 103,
   "metadata": {},
   "outputs": [
    {
     "data": {
      "text/plain": [
       "GridName\n",
       "orz900d                1483.782767\n",
       "random-64-64-10         206.560726\n",
       "Paris_1_256             188.536999\n",
       "empty-48-48             131.981059\n",
       "Berlin_1_256            127.101141\n",
       "Boston_0_256             73.225679\n",
       "ht_chantry               72.794231\n",
       "empty-32-32              62.215754\n",
       "empty-16-16              53.275229\n",
       "maze-128-128-2           47.376154\n",
       "room-32-32-4             42.003968\n",
       "lt_gallowstemplar_n      41.476901\n",
       "den312d                  38.183766\n",
       "empty-8-8                38.183766\n",
       "brc202d                  36.715120\n",
       "random-32-32-20          36.528528\n",
       "maze-128-128-10          35.510562\n",
       "random-32-32-10          32.733775\n",
       "random-64-64-20          32.500000\n",
       "ht_mansion_n             32.176078\n",
       "w_woundedcoast           30.605555\n",
       "room-64-64-16            27.403771\n",
       "den520d                  25.358759\n",
       "room-64-64-8             23.907809\n",
       "lak303d                  16.653328\n",
       "ost003d                  11.532563\n",
       "maze-32-32-2                   NaN\n",
       "maze-32-32-4                   NaN\n",
       "Name: Y, dtype: float64"
      ]
     },
     "execution_count": 103,
     "metadata": {},
     "output_type": "execute_result"
    }
   ],
   "source": [
    "s = df[(df['SolvesFinishedCount']==1)].groupby(['GridName'])['Y'].value_counts()\n",
    "s.std(level='GridName').sort_values(ascending=False)"
   ]
  },
  {
   "cell_type": "markdown",
   "metadata": {},
   "source": [
    "### Interesting! We see that sat exceed in specific configurations of orz only, but when it does - it does so in an outstanding way and wins by a large margin over the others. \n",
    "\n",
    "1. What's so special about those specific configurations of orz?\n",
    "2. How can we use that knowledge during the training of the AS model? Maybe it emposes a bias?"
   ]
  },
  {
   "cell_type": "markdown",
   "metadata": {},
   "source": [
    "### What is the margin for each map between the largest number of agents solved and the 2nd best solver? ###"
   ]
  },
  {
   "cell_type": "code",
   "execution_count": 104,
   "metadata": {},
   "outputs": [],
   "source": [
    "max_num_of_agents_for_two_solvers_per_map = df[df['SolvesFinishedCount']>=2].groupby(['GridName','InstanceId'])['NumOfAgents'].max()\n"
   ]
  },
  {
   "cell_type": "code",
   "execution_count": 105,
   "metadata": {},
   "outputs": [],
   "source": [
    "max_num_of_agents_for_single_solver_per_map = df[df['SolvesFinishedCount']==1].groupby(['GridName','InstanceId'])['NumOfAgents'].max()"
   ]
  },
  {
   "cell_type": "code",
   "execution_count": 106,
   "metadata": {},
   "outputs": [
    {
     "data": {
      "text/plain": [
       "GridName      InstanceId\n",
       "orz900d       4             1212.0\n",
       "              20            1208.0\n",
       "              10             950.0\n",
       "Paris_1_256   25              99.0\n",
       "Berlin_1_256  16              84.0\n",
       "Paris_1_256   3               68.0\n",
       "              19              65.0\n",
       "Berlin_1_256  3               64.0\n",
       "Paris_1_256   22              62.0\n",
       "Berlin_1_256  4               60.0\n",
       "Name: NumOfAgents, dtype: float64"
      ]
     },
     "execution_count": 106,
     "metadata": {},
     "output_type": "execute_result"
    }
   ],
   "source": [
    "margin_from_single_solver = max_num_of_agents_for_single_solver_per_map - max_num_of_agents_for_two_solvers_per_map\n",
    "margin_from_single_solver.sort_values(ascending=False).head(10)"
   ]
  },
  {
   "cell_type": "markdown",
   "metadata": {},
   "source": [
    "### Let's try to cluster the data given the features and try to see if those outliers (orz900d of instances 4,20,10) seems \"strange\" ###"
   ]
  },
  {
   "cell_type": "code",
   "execution_count": 122,
   "metadata": {},
   "outputs": [
    {
     "name": "stderr",
     "output_type": "stream",
     "text": [
      "c:\\users\\omri\\appdata\\local\\programs\\python\\python36\\lib\\site-packages\\numpy\\core\\fromnumeric.py:90: RuntimeWarning: overflow encountered in reduce\n",
      "  return ufunc.reduce(obj, axis, dtype, out, **passkwargs)\n",
      "c:\\users\\omri\\appdata\\local\\programs\\python\\python36\\lib\\site-packages\\numpy\\core\\_methods.py:183: RuntimeWarning: overflow encountered in reduce\n",
      "  arrmean = umr_sum(arr, axis, dtype, keepdims=True)\n",
      "c:\\users\\omri\\appdata\\local\\programs\\python\\python36\\lib\\site-packages\\numpy\\core\\_methods.py:151: RuntimeWarning: overflow encountered in reduce\n",
      "  ret = umr_sum(arr, axis, dtype, out, keepdims)\n"
     ]
    },
    {
     "ename": "ValueError",
     "evalue": "Input contains NaN, infinity or a value too large for dtype('float64').",
     "output_type": "error",
     "traceback": [
      "\u001b[1;31m---------------------------------------------------------------------------\u001b[0m",
      "\u001b[1;31mValueError\u001b[0m                                Traceback (most recent call last)",
      "\u001b[1;32m<ipython-input-122-fe16939157c8>\u001b[0m in \u001b[0;36m<module>\u001b[1;34m\u001b[0m\n\u001b[0;32m      9\u001b[0m                                            \u001b[0mdf\u001b[0m\u001b[1;33m[\u001b[0m\u001b[1;34m'Y'\u001b[0m\u001b[1;33m]\u001b[0m\u001b[1;33m.\u001b[0m\u001b[0miloc\u001b[0m\u001b[1;33m[\u001b[0m\u001b[0mtr_ind\u001b[0m\u001b[1;33m]\u001b[0m\u001b[1;33m.\u001b[0m\u001b[0mcopy\u001b[0m\u001b[1;33m(\u001b[0m\u001b[1;33m)\u001b[0m\u001b[1;33m,\u001b[0m \u001b[0mdf\u001b[0m\u001b[1;33m[\u001b[0m\u001b[1;34m'Y'\u001b[0m\u001b[1;33m]\u001b[0m\u001b[1;33m.\u001b[0m\u001b[0miloc\u001b[0m\u001b[1;33m[\u001b[0m\u001b[0mtest_ind\u001b[0m\u001b[1;33m]\u001b[0m\u001b[1;33m.\u001b[0m\u001b[0mcopy\u001b[0m\u001b[1;33m(\u001b[0m\u001b[1;33m)\u001b[0m\u001b[1;33m\u001b[0m\u001b[1;33m\u001b[0m\u001b[0m\n\u001b[0;32m     10\u001b[0m \u001b[1;33m\u001b[0m\u001b[0m\n\u001b[1;32m---> 11\u001b[1;33m     \u001b[0mkmeans\u001b[0m \u001b[1;33m=\u001b[0m \u001b[0mKMeans\u001b[0m\u001b[1;33m(\u001b[0m\u001b[0mn_clusters\u001b[0m\u001b[1;33m=\u001b[0m\u001b[0mlen\u001b[0m\u001b[1;33m(\u001b[0m\u001b[0msuccess_cols\u001b[0m\u001b[1;33m)\u001b[0m\u001b[1;33m)\u001b[0m\u001b[1;33m.\u001b[0m\u001b[0mfit\u001b[0m\u001b[1;33m(\u001b[0m\u001b[0mX_train\u001b[0m\u001b[1;33m[\u001b[0m\u001b[0mfeatures_cols\u001b[0m\u001b[1;33m]\u001b[0m\u001b[1;33m)\u001b[0m\u001b[1;33m\u001b[0m\u001b[1;33m\u001b[0m\u001b[0m\n\u001b[0m\u001b[0;32m     12\u001b[0m     \u001b[0mkmeans\u001b[0m\u001b[1;33m.\u001b[0m\u001b[0mlabels_\u001b[0m\u001b[1;33m\u001b[0m\u001b[1;33m\u001b[0m\u001b[0m\n",
      "\u001b[1;32mc:\\users\\omri\\appdata\\local\\programs\\python\\python36\\lib\\site-packages\\sklearn\\cluster\\_kmeans.py\u001b[0m in \u001b[0;36mfit\u001b[1;34m(self, X, y, sample_weight)\u001b[0m\n\u001b[0;32m   1053\u001b[0m                 \u001b[0minit\u001b[0m\u001b[1;33m=\u001b[0m\u001b[0minit\u001b[0m\u001b[1;33m,\u001b[0m \u001b[0mverbose\u001b[0m\u001b[1;33m=\u001b[0m\u001b[0mself\u001b[0m\u001b[1;33m.\u001b[0m\u001b[0mverbose\u001b[0m\u001b[1;33m,\u001b[0m \u001b[0mtol\u001b[0m\u001b[1;33m=\u001b[0m\u001b[0mtol\u001b[0m\u001b[1;33m,\u001b[0m\u001b[1;33m\u001b[0m\u001b[1;33m\u001b[0m\u001b[0m\n\u001b[0;32m   1054\u001b[0m                 \u001b[0mx_squared_norms\u001b[0m\u001b[1;33m=\u001b[0m\u001b[0mx_squared_norms\u001b[0m\u001b[1;33m,\u001b[0m \u001b[0mrandom_state\u001b[0m\u001b[1;33m=\u001b[0m\u001b[0mseed\u001b[0m\u001b[1;33m,\u001b[0m\u001b[1;33m\u001b[0m\u001b[1;33m\u001b[0m\u001b[0m\n\u001b[1;32m-> 1055\u001b[1;33m                 n_threads=self._n_threads)\n\u001b[0m\u001b[0;32m   1056\u001b[0m             \u001b[1;31m# determine if these results are the best so far\u001b[0m\u001b[1;33m\u001b[0m\u001b[1;33m\u001b[0m\u001b[1;33m\u001b[0m\u001b[0m\n\u001b[0;32m   1057\u001b[0m             \u001b[1;32mif\u001b[0m \u001b[0mbest_inertia\u001b[0m \u001b[1;32mis\u001b[0m \u001b[1;32mNone\u001b[0m \u001b[1;32mor\u001b[0m \u001b[0minertia\u001b[0m \u001b[1;33m<\u001b[0m \u001b[0mbest_inertia\u001b[0m\u001b[1;33m:\u001b[0m\u001b[1;33m\u001b[0m\u001b[1;33m\u001b[0m\u001b[0m\n",
      "\u001b[1;32mc:\\users\\omri\\appdata\\local\\programs\\python\\python36\\lib\\site-packages\\sklearn\\cluster\\_kmeans.py\u001b[0m in \u001b[0;36m_kmeans_single_elkan\u001b[1;34m(X, sample_weight, n_clusters, max_iter, init, verbose, x_squared_norms, random_state, tol, n_threads)\u001b[0m\n\u001b[0;32m    404\u001b[0m     \u001b[1;31m# init\u001b[0m\u001b[1;33m\u001b[0m\u001b[1;33m\u001b[0m\u001b[1;33m\u001b[0m\u001b[0m\n\u001b[0;32m    405\u001b[0m     centers = _init_centroids(X, n_clusters, init, random_state=random_state,\n\u001b[1;32m--> 406\u001b[1;33m                               x_squared_norms=x_squared_norms)\n\u001b[0m\u001b[0;32m    407\u001b[0m \u001b[1;33m\u001b[0m\u001b[0m\n\u001b[0;32m    408\u001b[0m     \u001b[1;32mif\u001b[0m \u001b[0mverbose\u001b[0m\u001b[1;33m:\u001b[0m\u001b[1;33m\u001b[0m\u001b[1;33m\u001b[0m\u001b[0m\n",
      "\u001b[1;32mc:\\users\\omri\\appdata\\local\\programs\\python\\python36\\lib\\site-packages\\sklearn\\cluster\\_kmeans.py\u001b[0m in \u001b[0;36m_init_centroids\u001b[1;34m(X, n_clusters, init, random_state, x_squared_norms, init_size)\u001b[0m\n\u001b[0;32m    720\u001b[0m     \u001b[1;32mif\u001b[0m \u001b[0misinstance\u001b[0m\u001b[1;33m(\u001b[0m\u001b[0minit\u001b[0m\u001b[1;33m,\u001b[0m \u001b[0mstr\u001b[0m\u001b[1;33m)\u001b[0m \u001b[1;32mand\u001b[0m \u001b[0minit\u001b[0m \u001b[1;33m==\u001b[0m \u001b[1;34m'k-means++'\u001b[0m\u001b[1;33m:\u001b[0m\u001b[1;33m\u001b[0m\u001b[1;33m\u001b[0m\u001b[0m\n\u001b[0;32m    721\u001b[0m         centers = _k_init(X, n_clusters, random_state=random_state,\n\u001b[1;32m--> 722\u001b[1;33m                           x_squared_norms=x_squared_norms)\n\u001b[0m\u001b[0;32m    723\u001b[0m     \u001b[1;32melif\u001b[0m \u001b[0misinstance\u001b[0m\u001b[1;33m(\u001b[0m\u001b[0minit\u001b[0m\u001b[1;33m,\u001b[0m \u001b[0mstr\u001b[0m\u001b[1;33m)\u001b[0m \u001b[1;32mand\u001b[0m \u001b[0minit\u001b[0m \u001b[1;33m==\u001b[0m \u001b[1;34m'random'\u001b[0m\u001b[1;33m:\u001b[0m\u001b[1;33m\u001b[0m\u001b[1;33m\u001b[0m\u001b[0m\n\u001b[0;32m    724\u001b[0m         \u001b[0mseeds\u001b[0m \u001b[1;33m=\u001b[0m \u001b[0mrandom_state\u001b[0m\u001b[1;33m.\u001b[0m\u001b[0mpermutation\u001b[0m\u001b[1;33m(\u001b[0m\u001b[0mn_samples\u001b[0m\u001b[1;33m)\u001b[0m\u001b[1;33m[\u001b[0m\u001b[1;33m:\u001b[0m\u001b[0mn_clusters\u001b[0m\u001b[1;33m]\u001b[0m\u001b[1;33m\u001b[0m\u001b[1;33m\u001b[0m\u001b[0m\n",
      "\u001b[1;32mc:\\users\\omri\\appdata\\local\\programs\\python\\python36\\lib\\site-packages\\sklearn\\cluster\\_kmeans.py\u001b[0m in \u001b[0;36m_k_init\u001b[1;34m(X, n_clusters, x_squared_norms, random_state, n_local_trials)\u001b[0m\n\u001b[0;32m    103\u001b[0m     closest_dist_sq = euclidean_distances(\n\u001b[0;32m    104\u001b[0m         \u001b[0mcenters\u001b[0m\u001b[1;33m[\u001b[0m\u001b[1;36m0\u001b[0m\u001b[1;33m,\u001b[0m \u001b[0mnp\u001b[0m\u001b[1;33m.\u001b[0m\u001b[0mnewaxis\u001b[0m\u001b[1;33m]\u001b[0m\u001b[1;33m,\u001b[0m \u001b[0mX\u001b[0m\u001b[1;33m,\u001b[0m \u001b[0mY_norm_squared\u001b[0m\u001b[1;33m=\u001b[0m\u001b[0mx_squared_norms\u001b[0m\u001b[1;33m,\u001b[0m\u001b[1;33m\u001b[0m\u001b[1;33m\u001b[0m\u001b[0m\n\u001b[1;32m--> 105\u001b[1;33m         squared=True)\n\u001b[0m\u001b[0;32m    106\u001b[0m     \u001b[0mcurrent_pot\u001b[0m \u001b[1;33m=\u001b[0m \u001b[0mclosest_dist_sq\u001b[0m\u001b[1;33m.\u001b[0m\u001b[0msum\u001b[0m\u001b[1;33m(\u001b[0m\u001b[1;33m)\u001b[0m\u001b[1;33m\u001b[0m\u001b[1;33m\u001b[0m\u001b[0m\n\u001b[0;32m    107\u001b[0m \u001b[1;33m\u001b[0m\u001b[0m\n",
      "\u001b[1;32mc:\\users\\omri\\appdata\\local\\programs\\python\\python36\\lib\\site-packages\\sklearn\\utils\\validation.py\u001b[0m in \u001b[0;36minner_f\u001b[1;34m(*args, **kwargs)\u001b[0m\n\u001b[0;32m     71\u001b[0m                           FutureWarning)\n\u001b[0;32m     72\u001b[0m         \u001b[0mkwargs\u001b[0m\u001b[1;33m.\u001b[0m\u001b[0mupdate\u001b[0m\u001b[1;33m(\u001b[0m\u001b[1;33m{\u001b[0m\u001b[0mk\u001b[0m\u001b[1;33m:\u001b[0m \u001b[0marg\u001b[0m \u001b[1;32mfor\u001b[0m \u001b[0mk\u001b[0m\u001b[1;33m,\u001b[0m \u001b[0marg\u001b[0m \u001b[1;32min\u001b[0m \u001b[0mzip\u001b[0m\u001b[1;33m(\u001b[0m\u001b[0msig\u001b[0m\u001b[1;33m.\u001b[0m\u001b[0mparameters\u001b[0m\u001b[1;33m,\u001b[0m \u001b[0margs\u001b[0m\u001b[1;33m)\u001b[0m\u001b[1;33m}\u001b[0m\u001b[1;33m)\u001b[0m\u001b[1;33m\u001b[0m\u001b[1;33m\u001b[0m\u001b[0m\n\u001b[1;32m---> 73\u001b[1;33m         \u001b[1;32mreturn\u001b[0m \u001b[0mf\u001b[0m\u001b[1;33m(\u001b[0m\u001b[1;33m**\u001b[0m\u001b[0mkwargs\u001b[0m\u001b[1;33m)\u001b[0m\u001b[1;33m\u001b[0m\u001b[1;33m\u001b[0m\u001b[0m\n\u001b[0m\u001b[0;32m     74\u001b[0m     \u001b[1;32mreturn\u001b[0m \u001b[0minner_f\u001b[0m\u001b[1;33m\u001b[0m\u001b[1;33m\u001b[0m\u001b[0m\n\u001b[0;32m     75\u001b[0m \u001b[1;33m\u001b[0m\u001b[0m\n",
      "\u001b[1;32mc:\\users\\omri\\appdata\\local\\programs\\python\\python36\\lib\\site-packages\\sklearn\\metrics\\pairwise.py\u001b[0m in \u001b[0;36meuclidean_distances\u001b[1;34m(X, Y, Y_norm_squared, squared, X_norm_squared)\u001b[0m\n\u001b[0;32m    266\u001b[0m     \u001b[0mpaired_distances\u001b[0m \u001b[1;33m:\u001b[0m \u001b[0mdistances\u001b[0m \u001b[0mbetweens\u001b[0m \u001b[0mpairs\u001b[0m \u001b[0mof\u001b[0m \u001b[0melements\u001b[0m \u001b[0mof\u001b[0m \u001b[0mX\u001b[0m \u001b[1;32mand\u001b[0m \u001b[0mY\u001b[0m\u001b[1;33m.\u001b[0m\u001b[1;33m\u001b[0m\u001b[1;33m\u001b[0m\u001b[0m\n\u001b[0;32m    267\u001b[0m     \"\"\"\n\u001b[1;32m--> 268\u001b[1;33m     \u001b[0mX\u001b[0m\u001b[1;33m,\u001b[0m \u001b[0mY\u001b[0m \u001b[1;33m=\u001b[0m \u001b[0mcheck_pairwise_arrays\u001b[0m\u001b[1;33m(\u001b[0m\u001b[0mX\u001b[0m\u001b[1;33m,\u001b[0m \u001b[0mY\u001b[0m\u001b[1;33m)\u001b[0m\u001b[1;33m\u001b[0m\u001b[1;33m\u001b[0m\u001b[0m\n\u001b[0m\u001b[0;32m    269\u001b[0m \u001b[1;33m\u001b[0m\u001b[0m\n\u001b[0;32m    270\u001b[0m     \u001b[1;31m# If norms are passed as float32, they are unused. If arrays are passed as\u001b[0m\u001b[1;33m\u001b[0m\u001b[1;33m\u001b[0m\u001b[1;33m\u001b[0m\u001b[0m\n",
      "\u001b[1;32mc:\\users\\omri\\appdata\\local\\programs\\python\\python36\\lib\\site-packages\\sklearn\\utils\\validation.py\u001b[0m in \u001b[0;36minner_f\u001b[1;34m(*args, **kwargs)\u001b[0m\n\u001b[0;32m     71\u001b[0m                           FutureWarning)\n\u001b[0;32m     72\u001b[0m         \u001b[0mkwargs\u001b[0m\u001b[1;33m.\u001b[0m\u001b[0mupdate\u001b[0m\u001b[1;33m(\u001b[0m\u001b[1;33m{\u001b[0m\u001b[0mk\u001b[0m\u001b[1;33m:\u001b[0m \u001b[0marg\u001b[0m \u001b[1;32mfor\u001b[0m \u001b[0mk\u001b[0m\u001b[1;33m,\u001b[0m \u001b[0marg\u001b[0m \u001b[1;32min\u001b[0m \u001b[0mzip\u001b[0m\u001b[1;33m(\u001b[0m\u001b[0msig\u001b[0m\u001b[1;33m.\u001b[0m\u001b[0mparameters\u001b[0m\u001b[1;33m,\u001b[0m \u001b[0margs\u001b[0m\u001b[1;33m)\u001b[0m\u001b[1;33m}\u001b[0m\u001b[1;33m)\u001b[0m\u001b[1;33m\u001b[0m\u001b[1;33m\u001b[0m\u001b[0m\n\u001b[1;32m---> 73\u001b[1;33m         \u001b[1;32mreturn\u001b[0m \u001b[0mf\u001b[0m\u001b[1;33m(\u001b[0m\u001b[1;33m**\u001b[0m\u001b[0mkwargs\u001b[0m\u001b[1;33m)\u001b[0m\u001b[1;33m\u001b[0m\u001b[1;33m\u001b[0m\u001b[0m\n\u001b[0m\u001b[0;32m     74\u001b[0m     \u001b[1;32mreturn\u001b[0m \u001b[0minner_f\u001b[0m\u001b[1;33m\u001b[0m\u001b[1;33m\u001b[0m\u001b[0m\n\u001b[0;32m     75\u001b[0m \u001b[1;33m\u001b[0m\u001b[0m\n",
      "\u001b[1;32mc:\\users\\omri\\appdata\\local\\programs\\python\\python36\\lib\\site-packages\\sklearn\\metrics\\pairwise.py\u001b[0m in \u001b[0;36mcheck_pairwise_arrays\u001b[1;34m(X, Y, precomputed, dtype, accept_sparse, force_all_finite, copy)\u001b[0m\n\u001b[0;32m    144\u001b[0m         X = check_array(X, accept_sparse=accept_sparse, dtype=dtype,\n\u001b[0;32m    145\u001b[0m                         \u001b[0mcopy\u001b[0m\u001b[1;33m=\u001b[0m\u001b[0mcopy\u001b[0m\u001b[1;33m,\u001b[0m \u001b[0mforce_all_finite\u001b[0m\u001b[1;33m=\u001b[0m\u001b[0mforce_all_finite\u001b[0m\u001b[1;33m,\u001b[0m\u001b[1;33m\u001b[0m\u001b[1;33m\u001b[0m\u001b[0m\n\u001b[1;32m--> 146\u001b[1;33m                         estimator=estimator)\n\u001b[0m\u001b[0;32m    147\u001b[0m         Y = check_array(Y, accept_sparse=accept_sparse, dtype=dtype,\n\u001b[0;32m    148\u001b[0m                         \u001b[0mcopy\u001b[0m\u001b[1;33m=\u001b[0m\u001b[0mcopy\u001b[0m\u001b[1;33m,\u001b[0m \u001b[0mforce_all_finite\u001b[0m\u001b[1;33m=\u001b[0m\u001b[0mforce_all_finite\u001b[0m\u001b[1;33m,\u001b[0m\u001b[1;33m\u001b[0m\u001b[1;33m\u001b[0m\u001b[0m\n",
      "\u001b[1;32mc:\\users\\omri\\appdata\\local\\programs\\python\\python36\\lib\\site-packages\\sklearn\\utils\\validation.py\u001b[0m in \u001b[0;36minner_f\u001b[1;34m(*args, **kwargs)\u001b[0m\n\u001b[0;32m     71\u001b[0m                           FutureWarning)\n\u001b[0;32m     72\u001b[0m         \u001b[0mkwargs\u001b[0m\u001b[1;33m.\u001b[0m\u001b[0mupdate\u001b[0m\u001b[1;33m(\u001b[0m\u001b[1;33m{\u001b[0m\u001b[0mk\u001b[0m\u001b[1;33m:\u001b[0m \u001b[0marg\u001b[0m \u001b[1;32mfor\u001b[0m \u001b[0mk\u001b[0m\u001b[1;33m,\u001b[0m \u001b[0marg\u001b[0m \u001b[1;32min\u001b[0m \u001b[0mzip\u001b[0m\u001b[1;33m(\u001b[0m\u001b[0msig\u001b[0m\u001b[1;33m.\u001b[0m\u001b[0mparameters\u001b[0m\u001b[1;33m,\u001b[0m \u001b[0margs\u001b[0m\u001b[1;33m)\u001b[0m\u001b[1;33m}\u001b[0m\u001b[1;33m)\u001b[0m\u001b[1;33m\u001b[0m\u001b[1;33m\u001b[0m\u001b[0m\n\u001b[1;32m---> 73\u001b[1;33m         \u001b[1;32mreturn\u001b[0m \u001b[0mf\u001b[0m\u001b[1;33m(\u001b[0m\u001b[1;33m**\u001b[0m\u001b[0mkwargs\u001b[0m\u001b[1;33m)\u001b[0m\u001b[1;33m\u001b[0m\u001b[1;33m\u001b[0m\u001b[0m\n\u001b[0m\u001b[0;32m     74\u001b[0m     \u001b[1;32mreturn\u001b[0m \u001b[0minner_f\u001b[0m\u001b[1;33m\u001b[0m\u001b[1;33m\u001b[0m\u001b[0m\n\u001b[0;32m     75\u001b[0m \u001b[1;33m\u001b[0m\u001b[0m\n",
      "\u001b[1;32mc:\\users\\omri\\appdata\\local\\programs\\python\\python36\\lib\\site-packages\\sklearn\\utils\\validation.py\u001b[0m in \u001b[0;36mcheck_array\u001b[1;34m(array, accept_sparse, accept_large_sparse, dtype, order, copy, force_all_finite, ensure_2d, allow_nd, ensure_min_samples, ensure_min_features, estimator)\u001b[0m\n\u001b[0;32m    644\u001b[0m         \u001b[1;32mif\u001b[0m \u001b[0mforce_all_finite\u001b[0m\u001b[1;33m:\u001b[0m\u001b[1;33m\u001b[0m\u001b[1;33m\u001b[0m\u001b[0m\n\u001b[0;32m    645\u001b[0m             _assert_all_finite(array,\n\u001b[1;32m--> 646\u001b[1;33m                                allow_nan=force_all_finite == 'allow-nan')\n\u001b[0m\u001b[0;32m    647\u001b[0m \u001b[1;33m\u001b[0m\u001b[0m\n\u001b[0;32m    648\u001b[0m     \u001b[1;32mif\u001b[0m \u001b[0mensure_min_samples\u001b[0m \u001b[1;33m>\u001b[0m \u001b[1;36m0\u001b[0m\u001b[1;33m:\u001b[0m\u001b[1;33m\u001b[0m\u001b[1;33m\u001b[0m\u001b[0m\n",
      "\u001b[1;32mc:\\users\\omri\\appdata\\local\\programs\\python\\python36\\lib\\site-packages\\sklearn\\utils\\validation.py\u001b[0m in \u001b[0;36m_assert_all_finite\u001b[1;34m(X, allow_nan, msg_dtype)\u001b[0m\n\u001b[0;32m     98\u001b[0m                     \u001b[0mmsg_err\u001b[0m\u001b[1;33m.\u001b[0m\u001b[0mformat\u001b[0m\u001b[1;33m\u001b[0m\u001b[1;33m\u001b[0m\u001b[0m\n\u001b[0;32m     99\u001b[0m                     (type_err,\n\u001b[1;32m--> 100\u001b[1;33m                      msg_dtype if msg_dtype is not None else X.dtype)\n\u001b[0m\u001b[0;32m    101\u001b[0m             )\n\u001b[0;32m    102\u001b[0m     \u001b[1;31m# for object dtype data, we only check for NaNs (GH-13254)\u001b[0m\u001b[1;33m\u001b[0m\u001b[1;33m\u001b[0m\u001b[1;33m\u001b[0m\u001b[0m\n",
      "\u001b[1;31mValueError\u001b[0m: Input contains NaN, infinity or a value too large for dtype('float64')."
     ]
    }
   ],
   "source": [
    "from sklearn.cluster import KMeans\n",
    "from sklearn.model_selection import GroupShuffleSplit\n",
    "\n",
    "groups = df['InstanceId']  # len of scenarios\n",
    "gkf = GroupShuffleSplit(n_splits=1, test_size=0.3, random_state=42)\n",
    "\n",
    "for index, (tr_ind, test_ind) in enumerate(gkf.split(df, df['Y'], groups)):\n",
    "    X_train, X_test, y_train, y_test = df.iloc[tr_ind].copy(), df.iloc[test_ind].copy(), \\\n",
    "                                           df['Y'].iloc[tr_ind].copy(), df['Y'].iloc[test_ind].copy()\n",
    "\n",
    "    kmeans = KMeans(n_clusters=len(success_cols)).fit(X_train[features_cols])"
   ]
  },
  {
   "cell_type": "code",
   "execution_count": 123,
   "metadata": {},
   "outputs": [
    {
     "data": {
      "text/html": [
       "<div>\n",
       "<style scoped>\n",
       "    .dataframe tbody tr th:only-of-type {\n",
       "        vertical-align: middle;\n",
       "    }\n",
       "\n",
       "    .dataframe tbody tr th {\n",
       "        vertical-align: top;\n",
       "    }\n",
       "\n",
       "    .dataframe thead th {\n",
       "        text-align: right;\n",
       "    }\n",
       "</style>\n",
       "<table border=\"1\" class=\"dataframe\">\n",
       "  <thead>\n",
       "    <tr style=\"text-align: right;\">\n",
       "      <th></th>\n",
       "      <th>GridRows</th>\n",
       "      <th>GridColumns</th>\n",
       "      <th>NumOfAgents</th>\n",
       "      <th>NumOfObstacles</th>\n",
       "      <th>BranchingFactor</th>\n",
       "      <th>ObstacleDensity</th>\n",
       "      <th>AvgDistanceToGoal</th>\n",
       "      <th>MaxDistanceToGoal</th>\n",
       "      <th>MinDistanceToGoal</th>\n",
       "      <th>AvgStartDistances</th>\n",
       "      <th>AvgGoalDistances</th>\n",
       "      <th>PointsAtSPRatio</th>\n",
       "      <th>Sparsity</th>\n",
       "    </tr>\n",
       "  </thead>\n",
       "  <tbody>\n",
       "    <tr>\n",
       "      <th>252</th>\n",
       "      <td>256.0</td>\n",
       "      <td>256.0</td>\n",
       "      <td>2.0</td>\n",
       "      <td>17996.0</td>\n",
       "      <td>2.500000e+01</td>\n",
       "      <td>0.274597</td>\n",
       "      <td>243.000000</td>\n",
       "      <td>470.0</td>\n",
       "      <td>16.0</td>\n",
       "      <td>108.66670</td>\n",
       "      <td>53.33333</td>\n",
       "      <td>0.007446</td>\n",
       "      <td>0.000042</td>\n",
       "    </tr>\n",
       "    <tr>\n",
       "      <th>253</th>\n",
       "      <td>256.0</td>\n",
       "      <td>256.0</td>\n",
       "      <td>3.0</td>\n",
       "      <td>17996.0</td>\n",
       "      <td>1.250000e+02</td>\n",
       "      <td>0.274597</td>\n",
       "      <td>195.666667</td>\n",
       "      <td>470.0</td>\n",
       "      <td>16.0</td>\n",
       "      <td>109.00000</td>\n",
       "      <td>96.33334</td>\n",
       "      <td>0.009003</td>\n",
       "      <td>0.000063</td>\n",
       "    </tr>\n",
       "    <tr>\n",
       "      <th>254</th>\n",
       "      <td>256.0</td>\n",
       "      <td>256.0</td>\n",
       "      <td>4.0</td>\n",
       "      <td>17996.0</td>\n",
       "      <td>6.250000e+02</td>\n",
       "      <td>0.274597</td>\n",
       "      <td>193.750000</td>\n",
       "      <td>470.0</td>\n",
       "      <td>16.0</td>\n",
       "      <td>106.10000</td>\n",
       "      <td>112.40000</td>\n",
       "      <td>0.011520</td>\n",
       "      <td>0.000084</td>\n",
       "    </tr>\n",
       "    <tr>\n",
       "      <th>255</th>\n",
       "      <td>256.0</td>\n",
       "      <td>256.0</td>\n",
       "      <td>5.0</td>\n",
       "      <td>17996.0</td>\n",
       "      <td>3.125000e+03</td>\n",
       "      <td>0.274597</td>\n",
       "      <td>224.600000</td>\n",
       "      <td>470.0</td>\n",
       "      <td>16.0</td>\n",
       "      <td>110.80000</td>\n",
       "      <td>124.93330</td>\n",
       "      <td>0.016769</td>\n",
       "      <td>0.000105</td>\n",
       "    </tr>\n",
       "    <tr>\n",
       "      <th>256</th>\n",
       "      <td>256.0</td>\n",
       "      <td>256.0</td>\n",
       "      <td>6.0</td>\n",
       "      <td>17996.0</td>\n",
       "      <td>1.562500e+04</td>\n",
       "      <td>0.274597</td>\n",
       "      <td>233.000000</td>\n",
       "      <td>470.0</td>\n",
       "      <td>16.0</td>\n",
       "      <td>112.61900</td>\n",
       "      <td>117.85710</td>\n",
       "      <td>0.018158</td>\n",
       "      <td>0.000126</td>\n",
       "    </tr>\n",
       "    <tr>\n",
       "      <th>...</th>\n",
       "      <td>...</td>\n",
       "      <td>...</td>\n",
       "      <td>...</td>\n",
       "      <td>...</td>\n",
       "      <td>...</td>\n",
       "      <td>...</td>\n",
       "      <td>...</td>\n",
       "      <td>...</td>\n",
       "      <td>...</td>\n",
       "      <td>...</td>\n",
       "      <td>...</td>\n",
       "      <td>...</td>\n",
       "      <td>...</td>\n",
       "    </tr>\n",
       "    <tr>\n",
       "      <th>44215</th>\n",
       "      <td>32.0</td>\n",
       "      <td>32.0</td>\n",
       "      <td>74.0</td>\n",
       "      <td>102.0</td>\n",
       "      <td>5.293956e+51</td>\n",
       "      <td>0.099609</td>\n",
       "      <td>23.986486</td>\n",
       "      <td>50.0</td>\n",
       "      <td>2.0</td>\n",
       "      <td>22.17153</td>\n",
       "      <td>22.21586</td>\n",
       "      <td>0.687500</td>\n",
       "      <td>0.080260</td>\n",
       "    </tr>\n",
       "    <tr>\n",
       "      <th>44216</th>\n",
       "      <td>32.0</td>\n",
       "      <td>32.0</td>\n",
       "      <td>75.0</td>\n",
       "      <td>102.0</td>\n",
       "      <td>2.646978e+52</td>\n",
       "      <td>0.099609</td>\n",
       "      <td>23.960000</td>\n",
       "      <td>50.0</td>\n",
       "      <td>2.0</td>\n",
       "      <td>22.20632</td>\n",
       "      <td>22.17474</td>\n",
       "      <td>0.687500</td>\n",
       "      <td>0.081345</td>\n",
       "    </tr>\n",
       "    <tr>\n",
       "      <th>44217</th>\n",
       "      <td>32.0</td>\n",
       "      <td>32.0</td>\n",
       "      <td>76.0</td>\n",
       "      <td>102.0</td>\n",
       "      <td>1.323489e+53</td>\n",
       "      <td>0.099609</td>\n",
       "      <td>24.184211</td>\n",
       "      <td>50.0</td>\n",
       "      <td>2.0</td>\n",
       "      <td>22.34347</td>\n",
       "      <td>22.24983</td>\n",
       "      <td>0.696289</td>\n",
       "      <td>0.082430</td>\n",
       "    </tr>\n",
       "    <tr>\n",
       "      <th>44218</th>\n",
       "      <td>32.0</td>\n",
       "      <td>32.0</td>\n",
       "      <td>77.0</td>\n",
       "      <td>102.0</td>\n",
       "      <td>6.617445e+53</td>\n",
       "      <td>0.099609</td>\n",
       "      <td>24.038961</td>\n",
       "      <td>50.0</td>\n",
       "      <td>2.0</td>\n",
       "      <td>22.49950</td>\n",
       "      <td>22.27173</td>\n",
       "      <td>0.701172</td>\n",
       "      <td>0.083514</td>\n",
       "    </tr>\n",
       "    <tr>\n",
       "      <th>44219</th>\n",
       "      <td>32.0</td>\n",
       "      <td>32.0</td>\n",
       "      <td>78.0</td>\n",
       "      <td>102.0</td>\n",
       "      <td>3.308722e+54</td>\n",
       "      <td>0.099609</td>\n",
       "      <td>23.948718</td>\n",
       "      <td>50.0</td>\n",
       "      <td>2.0</td>\n",
       "      <td>22.45310</td>\n",
       "      <td>22.31873</td>\n",
       "      <td>0.703125</td>\n",
       "      <td>0.084599</td>\n",
       "    </tr>\n",
       "  </tbody>\n",
       "</table>\n",
       "<p>30496 rows × 13 columns</p>\n",
       "</div>"
      ],
      "text/plain": [
       "       GridRows  GridColumns  NumOfAgents  NumOfObstacles  BranchingFactor  \\\n",
       "252       256.0        256.0          2.0         17996.0     2.500000e+01   \n",
       "253       256.0        256.0          3.0         17996.0     1.250000e+02   \n",
       "254       256.0        256.0          4.0         17996.0     6.250000e+02   \n",
       "255       256.0        256.0          5.0         17996.0     3.125000e+03   \n",
       "256       256.0        256.0          6.0         17996.0     1.562500e+04   \n",
       "...         ...          ...          ...             ...              ...   \n",
       "44215      32.0         32.0         74.0           102.0     5.293956e+51   \n",
       "44216      32.0         32.0         75.0           102.0     2.646978e+52   \n",
       "44217      32.0         32.0         76.0           102.0     1.323489e+53   \n",
       "44218      32.0         32.0         77.0           102.0     6.617445e+53   \n",
       "44219      32.0         32.0         78.0           102.0     3.308722e+54   \n",
       "\n",
       "       ObstacleDensity  AvgDistanceToGoal  MaxDistanceToGoal  \\\n",
       "252           0.274597         243.000000              470.0   \n",
       "253           0.274597         195.666667              470.0   \n",
       "254           0.274597         193.750000              470.0   \n",
       "255           0.274597         224.600000              470.0   \n",
       "256           0.274597         233.000000              470.0   \n",
       "...                ...                ...                ...   \n",
       "44215         0.099609          23.986486               50.0   \n",
       "44216         0.099609          23.960000               50.0   \n",
       "44217         0.099609          24.184211               50.0   \n",
       "44218         0.099609          24.038961               50.0   \n",
       "44219         0.099609          23.948718               50.0   \n",
       "\n",
       "       MinDistanceToGoal  AvgStartDistances  AvgGoalDistances  \\\n",
       "252                 16.0          108.66670          53.33333   \n",
       "253                 16.0          109.00000          96.33334   \n",
       "254                 16.0          106.10000         112.40000   \n",
       "255                 16.0          110.80000         124.93330   \n",
       "256                 16.0          112.61900         117.85710   \n",
       "...                  ...                ...               ...   \n",
       "44215                2.0           22.17153          22.21586   \n",
       "44216                2.0           22.20632          22.17474   \n",
       "44217                2.0           22.34347          22.24983   \n",
       "44218                2.0           22.49950          22.27173   \n",
       "44219                2.0           22.45310          22.31873   \n",
       "\n",
       "       PointsAtSPRatio  Sparsity  \n",
       "252           0.007446  0.000042  \n",
       "253           0.009003  0.000063  \n",
       "254           0.011520  0.000084  \n",
       "255           0.016769  0.000105  \n",
       "256           0.018158  0.000126  \n",
       "...                ...       ...  \n",
       "44215         0.687500  0.080260  \n",
       "44216         0.687500  0.081345  \n",
       "44217         0.696289  0.082430  \n",
       "44218         0.701172  0.083514  \n",
       "44219         0.703125  0.084599  \n",
       "\n",
       "[30496 rows x 13 columns]"
      ]
     },
     "execution_count": 123,
     "metadata": {},
     "output_type": "execute_result"
    }
   ],
   "source": [
    "X_train[features_cols]"
   ]
  },
  {
   "cell_type": "code",
   "execution_count": null,
   "metadata": {},
   "outputs": [],
   "source": []
  }
 ],
 "metadata": {
  "kernelspec": {
   "display_name": "Python 3",
   "language": "python",
   "name": "python3"
  },
  "language_info": {
   "codemirror_mode": {
    "name": "ipython",
    "version": 3
   },
   "file_extension": ".py",
   "mimetype": "text/x-python",
   "name": "python",
   "nbconvert_exporter": "python",
   "pygments_lexer": "ipython3",
   "version": "3.6.8"
  }
 },
 "nbformat": 4,
 "nbformat_minor": 2
}
