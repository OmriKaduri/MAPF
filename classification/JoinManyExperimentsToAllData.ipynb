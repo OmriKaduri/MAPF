{
 "cells": [
  {
   "cell_type": "code",
   "execution_count": 383,
   "metadata": {},
   "outputs": [],
   "source": [
    "import pandas as pd\n",
    "import glob"
   ]
  },
  {
   "cell_type": "code",
   "execution_count": 384,
   "metadata": {},
   "outputs": [],
   "source": [
    "data_dir = 'data/from-vpn/CBSH'"
   ]
  },
  {
   "cell_type": "code",
   "execution_count": 385,
   "metadata": {},
   "outputs": [],
   "source": [
    "features_cols = ['GridRows', 'GridColumns', 'NumOfAgents', 'NumOfObstacles', 'BranchingFactor', 'ObstacleDensity',\n",
    "            'AvgDistanceToGoal', 'MaxDistanceToGoal', 'MinDistanceToGoal', 'AvgStartDistances', 'AvgGoalDistances',\n",
    "            'PointsAtSPRatio']"
   ]
  },
  {
   "cell_type": "code",
   "execution_count": 386,
   "metadata": {},
   "outputs": [],
   "source": [
    "experiments = []\n",
    "for exp in glob.glob(data_dir+'/*.csv'):\n",
    "    experiments.append(pd.read_csv(exp, skiprows=1)) #skiprows needed only for nathan experiments"
   ]
  },
  {
   "cell_type": "code",
   "execution_count": 387,
   "metadata": {},
   "outputs": [],
   "source": [
    "alldata = pd.concat(experiments)"
   ]
  },
  {
   "cell_type": "markdown",
   "metadata": {},
   "source": [
    "### ADD CBSH files (under CBSH dir) ###"
   ]
  },
  {
   "cell_type": "code",
   "execution_count": 388,
   "metadata": {},
   "outputs": [],
   "source": [
    "cbsh_data_dir = 'data/from-vpn/CBSH/CBSH'\n",
    "cbsh_experiments = []\n",
    "for exp in glob.glob(cbsh_data_dir+'/*.csv'):\n",
    "    cbsh_experiments.append(pd.read_csv(exp, skiprows=1)) #skiprows needed only for nathan experiments\n",
    "    \n",
    "cbsh_alldata = pd.concat(cbsh_experiments)\n"
   ]
  },
  {
   "cell_type": "code",
   "execution_count": 389,
   "metadata": {},
   "outputs": [
    {
     "data": {
      "text/plain": [
       "(32640, 17226, 15414)"
      ]
     },
     "execution_count": 389,
     "metadata": {},
     "output_type": "execute_result"
    }
   ],
   "source": [
    "len(cbsh_alldata) + len(alldata), len(alldata), len(cbsh_alldata)"
   ]
  },
  {
   "cell_type": "code",
   "execution_count": 390,
   "metadata": {},
   "outputs": [
    {
     "data": {
      "text/plain": [
       "19027"
      ]
     },
     "execution_count": 390,
     "metadata": {},
     "output_type": "execute_result"
    }
   ],
   "source": [
    "alldata.reset_index(drop=True, inplace=True)\n",
    "cbsh_alldata.reset_index(drop=True, inplace=True)\n",
    "merged = alldata.reset_index().merge(cbsh_alldata, how='outer')\n",
    "len(merged)"
   ]
  },
  {
   "cell_type": "code",
   "execution_count": 391,
   "metadata": {},
   "outputs": [
    {
     "data": {
      "text/plain": [
       "['A*+OD+ID Success',\n",
       " 'MA-CBS-Global-10/(EPEA*/SIC) choosing the first conflict in CBS nodes Success',\n",
       " 'Basic-CBS/(A*/SIC)+ID Success',\n",
       " 'ICTS 3E +ID Success',\n",
       " 'EPEA*+ID Success',\n",
       " 'CBS/(A*/SIC) + BP + PC without smart tie breaking using Dynamic Lazy Open List with Heuristic MVC of Cardinal Conflict Graph Heuristic Success']"
      ]
     },
     "execution_count": 391,
     "metadata": {},
     "output_type": "execute_result"
    }
   ],
   "source": [
    "success_cols = list(merged.filter(regex=\"Success$\"))\n",
    "success_cols"
   ]
  },
  {
   "cell_type": "code",
   "execution_count": 392,
   "metadata": {},
   "outputs": [],
   "source": [
    "runtime_cols = list(merged.filter(like=\"Runtime\"))\n",
    "CBSH_header = 'CBS/(A*/SIC) + BP + PC without smart tie breaking using Dynamic Lazy Open List with Heuristic MVC of Cardinal Conflict Graph Heuristic Runtime'\n",
    "CBSH_success_header = 'CBS/(A*/SIC) + BP + PC without smart tie breaking using Dynamic Lazy Open List with Heuristic MVC of Cardinal Conflict Graph Heuristic Success'\n",
    "# merged[~merged[CBSH_header].isnull()][runtime_cols]"
   ]
  },
  {
   "cell_type": "code",
   "execution_count": 393,
   "metadata": {},
   "outputs": [],
   "source": [
    "merged.fillna('irrelevant',inplace=True)"
   ]
  },
  {
   "cell_type": "code",
   "execution_count": 394,
   "metadata": {},
   "outputs": [
    {
     "name": "stdout",
     "output_type": "stream",
     "text": [
      "A*+OD+ID Runtime\n",
      "MA-CBS-Global-10/(EPEA*/SIC) choosing the first conflict in CBS nodes Runtime\n",
      "Basic-CBS/(A*/SIC)+ID Runtime\n",
      "ICTS 3E +ID Runtime\n",
      "EPEA*+ID Runtime\n",
      "CBS/(A*/SIC) + BP + PC without smart tie breaking using Dynamic Lazy Open List with Heuristic MVC of Cardinal Conflict Graph Heuristic Runtime\n",
      "A*+OD+ID Success\n",
      "MA-CBS-Global-10/(EPEA*/SIC) choosing the first conflict in CBS nodes Success\n",
      "Basic-CBS/(A*/SIC)+ID Success\n",
      "ICTS 3E +ID Success\n",
      "EPEA*+ID Success\n",
      "CBS/(A*/SIC) + BP + PC without smart tie breaking using Dynamic Lazy Open List with Heuristic MVC of Cardinal Conflict Graph Heuristic Success\n"
     ]
    }
   ],
   "source": [
    "# merged[CBSH_header] = merged[CBSH_header].apply(lambda x: 300000 if x == 'irrelevant' else x)\n",
    "for runtime_col in runtime_cols:\n",
    "    print(runtime_col)\n",
    "    merged[runtime_col] = merged[runtime_col].apply(lambda x: 300000 if x == 'irrelevant' else x)\n",
    "for success_col in success_cols:\n",
    "    print(success_col)\n",
    "    merged[success_col] = merged[success_col].apply(lambda x: 0 if x == 'irrelevant' else x)\n"
   ]
  },
  {
   "cell_type": "code",
   "execution_count": 396,
   "metadata": {},
   "outputs": [],
   "source": [
    "merged.to_csv(data_dir+'/AllData.csv', index=False)"
   ]
  },
  {
   "cell_type": "code",
   "execution_count": 397,
   "metadata": {},
   "outputs": [
    {
     "data": {
      "text/plain": [
       "RangeIndex(start=0, stop=17226, step=1)"
      ]
     },
     "execution_count": 397,
     "metadata": {},
     "output_type": "execute_result"
    }
   ],
   "source": [
    "alldata.index"
   ]
  },
  {
   "cell_type": "code",
   "execution_count": null,
   "metadata": {},
   "outputs": [],
   "source": []
  }
 ],
 "metadata": {
  "kernelspec": {
   "display_name": "Python 3",
   "language": "python",
   "name": "python3"
  },
  "language_info": {
   "codemirror_mode": {
    "name": "ipython",
    "version": 3
   },
   "file_extension": ".py",
   "mimetype": "text/x-python",
   "name": "python",
   "nbconvert_exporter": "python",
   "pygments_lexer": "ipython3",
   "version": "3.6.8"
  }
 },
 "nbformat": 4,
 "nbformat_minor": 2
}
