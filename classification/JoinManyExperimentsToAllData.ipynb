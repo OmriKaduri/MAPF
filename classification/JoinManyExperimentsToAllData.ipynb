{
 "cells": [
  {
   "cell_type": "code",
   "execution_count": 367,
   "metadata": {},
   "outputs": [],
   "source": [
    "import pandas as pd\n",
    "import glob"
   ]
  },
  {
   "cell_type": "code",
   "execution_count": 368,
   "metadata": {},
   "outputs": [],
   "source": [
    "data_dir = 'data/from-vpn/CBSH'"
   ]
  },
  {
   "cell_type": "code",
   "execution_count": 369,
   "metadata": {},
   "outputs": [],
   "source": [
    "features_cols = ['GridRows', 'GridColumns', 'NumOfAgents', 'NumOfObstacles', 'BranchingFactor', 'ObstacleDensity',\n",
    "            'AvgDistanceToGoal', 'MaxDistanceToGoal', 'MinDistanceToGoal', 'AvgStartDistances', 'AvgGoalDistances',\n",
    "            'PointsAtSPRatio']"
   ]
  },
  {
   "cell_type": "code",
   "execution_count": 370,
   "metadata": {},
   "outputs": [],
   "source": [
    "experiments = []\n",
    "for exp in glob.glob(data_dir+'/*.csv'):\n",
    "    experiments.append(pd.read_csv(exp, skiprows=1)) #skiprows needed only for nathan experiments"
   ]
  },
  {
   "cell_type": "code",
   "execution_count": 371,
   "metadata": {},
   "outputs": [],
   "source": [
    "alldata = pd.concat(experiments)"
   ]
  },
  {
   "cell_type": "markdown",
   "metadata": {},
   "source": [
    "### ADD CBSH files (under CBSH dir) ###"
   ]
  },
  {
   "cell_type": "code",
   "execution_count": 372,
   "metadata": {},
   "outputs": [],
   "source": [
    "cbsh_data_dir = 'data/from-vpn/CBSH/CBSH'\n",
    "cbsh_experiments = []\n",
    "for exp in glob.glob(cbsh_data_dir+'/*.csv'):\n",
    "    cbsh_experiments.append(pd.read_csv(exp, skiprows=1)) #skiprows needed only for nathan experiments\n",
    "    \n",
    "cbsh_alldata = pd.concat(cbsh_experiments)\n"
   ]
  },
  {
   "cell_type": "code",
   "execution_count": 373,
   "metadata": {},
   "outputs": [
    {
     "data": {
      "text/plain": [
       "(21701, 11588, 10113)"
      ]
     },
     "execution_count": 373,
     "metadata": {},
     "output_type": "execute_result"
    }
   ],
   "source": [
    "len(cbsh_alldata) + len(alldata), len(alldata), len(cbsh_alldata)"
   ]
  },
  {
   "cell_type": "code",
   "execution_count": 374,
   "metadata": {},
   "outputs": [
    {
     "data": {
      "text/plain": [
       "12707"
      ]
     },
     "execution_count": 374,
     "metadata": {},
     "output_type": "execute_result"
    }
   ],
   "source": [
    "alldata.reset_index(drop=True, inplace=True)\n",
    "cbsh_alldata.reset_index(drop=True, inplace=True)\n",
    "merged = alldata.reset_index().merge(cbsh_alldata, how='outer')\n",
    "len(merged)"
   ]
  },
  {
   "cell_type": "code",
   "execution_count": 375,
   "metadata": {},
   "outputs": [
    {
     "data": {
      "text/plain": [
       "['A*+OD+ID Success',\n",
       " 'MA-CBS-Global-10/(EPEA*/SIC) choosing the first conflict in CBS nodes Success',\n",
       " 'Basic-CBS/(A*/SIC)+ID Success',\n",
       " 'ICTS 3E +ID Success',\n",
       " 'EPEA*+ID Success',\n",
       " 'CBS/(A*/SIC) + BP + PC without smart tie breaking using Dynamic Lazy Open List with Heuristic MVC of Cardinal Conflict Graph Heuristic Success']"
      ]
     },
     "execution_count": 375,
     "metadata": {},
     "output_type": "execute_result"
    }
   ],
   "source": [
    "success_cols = list(merged.filter(regex=\"Success$\"))\n",
    "success_cols"
   ]
  },
  {
   "cell_type": "code",
   "execution_count": 376,
   "metadata": {},
   "outputs": [],
   "source": [
    "runtime_cols = list(merged.filter(like=\"Runtime\"))\n",
    "CBSH_header = 'CBS/(A*/SIC) + BP + PC without smart tie breaking using Dynamic Lazy Open List with Heuristic MVC of Cardinal Conflict Graph Heuristic Runtime'\n",
    "CBSH_success_header = 'CBS/(A*/SIC) + BP + PC without smart tie breaking using Dynamic Lazy Open List with Heuristic MVC of Cardinal Conflict Graph Heuristic Success'\n",
    "# merged[~merged[CBSH_header].isnull()][runtime_cols]"
   ]
  },
  {
   "cell_type": "code",
   "execution_count": 377,
   "metadata": {},
   "outputs": [],
   "source": [
    "merged.fillna('irrelevant',inplace=True)"
   ]
  },
  {
   "cell_type": "code",
   "execution_count": 378,
   "metadata": {},
   "outputs": [
    {
     "name": "stdout",
     "output_type": "stream",
     "text": [
      "A*+OD+ID Runtime\n",
      "MA-CBS-Global-10/(EPEA*/SIC) choosing the first conflict in CBS nodes Runtime\n",
      "Basic-CBS/(A*/SIC)+ID Runtime\n",
      "ICTS 3E +ID Runtime\n",
      "EPEA*+ID Runtime\n",
      "CBS/(A*/SIC) + BP + PC without smart tie breaking using Dynamic Lazy Open List with Heuristic MVC of Cardinal Conflict Graph Heuristic Runtime\n",
      "A*+OD+ID Success\n",
      "MA-CBS-Global-10/(EPEA*/SIC) choosing the first conflict in CBS nodes Success\n",
      "Basic-CBS/(A*/SIC)+ID Success\n",
      "ICTS 3E +ID Success\n",
      "EPEA*+ID Success\n",
      "CBS/(A*/SIC) + BP + PC without smart tie breaking using Dynamic Lazy Open List with Heuristic MVC of Cardinal Conflict Graph Heuristic Success\n"
     ]
    }
   ],
   "source": [
    "# merged[CBSH_header] = merged[CBSH_header].apply(lambda x: 300000 if x == 'irrelevant' else x)\n",
    "for runtime_col in runtime_cols:\n",
    "    print(runtime_col)\n",
    "    merged[runtime_col] = merged[runtime_col].apply(lambda x: 300000 if x == 'irrelevant' else x)\n",
    "for success_col in success_cols:\n",
    "    print(success_col)\n",
    "    merged[success_col] = merged[success_col].apply(lambda x: 0 if x == 'irrelevant' else x)\n"
   ]
  },
  {
   "cell_type": "code",
   "execution_count": 379,
   "metadata": {},
   "outputs": [
    {
     "data": {
      "text/plain": [
       "0            47.9660\n",
       "1             0.6992\n",
       "2             1.0933\n",
       "3             2.5423\n",
       "4             1.5138\n",
       "5             1.7908\n",
       "6            71.6620\n",
       "7             7.7881\n",
       "8             7.8996\n",
       "9            79.4687\n",
       "10           37.4106\n",
       "11          114.7689\n",
       "12          128.2299\n",
       "13          113.8659\n",
       "14          162.8872\n",
       "15          169.5870\n",
       "16          174.4739\n",
       "17          170.5986\n",
       "18          185.4123\n",
       "19          187.2407\n",
       "20          195.0262\n",
       "21          219.8994\n",
       "22          220.9926\n",
       "23          218.5304\n",
       "24          219.3139\n",
       "25          239.1742\n",
       "26          222.1544\n",
       "27          238.0571\n",
       "28          346.6909\n",
       "29          356.4685\n",
       "            ...     \n",
       "12677      4472.6480\n",
       "12678     51965.0672\n",
       "12679    300189.6716\n",
       "12680     52933.8846\n",
       "12681    300028.3887\n",
       "12682    357417.5095\n",
       "12683     24456.7636\n",
       "12684     24376.5398\n",
       "12685     23688.5162\n",
       "12686     25067.3312\n",
       "12687     23969.1196\n",
       "12688     23881.9857\n",
       "12689     23428.4449\n",
       "12690     24436.1328\n",
       "12691    208894.6433\n",
       "12692    194385.4638\n",
       "12693    304408.2346\n",
       "12694     10753.4681\n",
       "12695     10886.6943\n",
       "12696     27306.7806\n",
       "12697     84535.3120\n",
       "12698    625155.1917\n",
       "12699    103618.6022\n",
       "12700    103126.6266\n",
       "12701     97771.0762\n",
       "12702    101446.1386\n",
       "12703    100136.1669\n",
       "12704    102496.6801\n",
       "12705    681612.8088\n",
       "12706    307040.5748\n",
       "Name: CBS/(A*/SIC) + BP + PC without smart tie breaking using Dynamic Lazy Open List with Heuristic MVC of Cardinal Conflict Graph Heuristic Runtime, Length: 12707, dtype: float64"
      ]
     },
     "execution_count": 379,
     "metadata": {},
     "output_type": "execute_result"
    }
   ],
   "source": [
    "merged[CBSH_header]"
   ]
  },
  {
   "cell_type": "code",
   "execution_count": 380,
   "metadata": {},
   "outputs": [],
   "source": [
    "merged.to_csv(data_dir+'/AllData.csv', index=False)"
   ]
  },
  {
   "cell_type": "code",
   "execution_count": 381,
   "metadata": {},
   "outputs": [
    {
     "data": {
      "text/plain": [
       "RangeIndex(start=0, stop=11588, step=1)"
      ]
     },
     "execution_count": 381,
     "metadata": {},
     "output_type": "execute_result"
    }
   ],
   "source": [
    "alldata.index"
   ]
  },
  {
   "cell_type": "code",
   "execution_count": null,
   "metadata": {},
   "outputs": [],
   "source": []
  }
 ],
 "metadata": {
  "kernelspec": {
   "display_name": "Python 3",
   "language": "python",
   "name": "python3"
  },
  "language_info": {
   "codemirror_mode": {
    "name": "ipython",
    "version": 3
   },
   "file_extension": ".py",
   "mimetype": "text/x-python",
   "name": "python",
   "nbconvert_exporter": "python",
   "pygments_lexer": "ipython3",
   "version": "3.6.8"
  }
 },
 "nbformat": 4,
 "nbformat_minor": 2
}
