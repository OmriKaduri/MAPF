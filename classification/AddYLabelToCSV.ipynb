{
 "cells": [
  {
   "cell_type": "code",
   "execution_count": 1,
   "metadata": {},
   "outputs": [],
   "source": [
    "import pandas as pd"
   ]
  },
  {
   "cell_type": "markdown",
   "metadata": {},
   "source": [
    "## Load the unlabelled dataset ##"
   ]
  },
  {
   "cell_type": "code",
   "execution_count": 2,
   "metadata": {},
   "outputs": [],
   "source": [
    "df = pd.read_csv('data/from-azure/AllData.csv')"
   ]
  },
  {
   "cell_type": "code",
   "execution_count": 3,
   "metadata": {},
   "outputs": [],
   "source": [
    "features_cols = ['GridRows', 'GridColumns', 'NumOfAgents', 'NumOfObstacles', 'BranchingFactor', 'ObstacleDensity',\n",
    "            'AvgDistanceToGoal', 'MaxDistanceToGoal', 'MinDistanceToGoal', 'AvgStartDistances', 'AvgGoalDistances',\n",
    "            'PointsAtSPRatio']\n",
    "runtime_cols = list(df.filter(like=\"Runtime\"))\n",
    "relev_cols = runtime_cols + features_cols + ['Y']"
   ]
  },
  {
   "cell_type": "code",
   "execution_count": 4,
   "metadata": {},
   "outputs": [
    {
     "data": {
      "text/plain": [
       "['A*+OD+ID Runtime',\n",
       " 'MA-CBS-Global-10/(EPEA*/SIC) choosing the first conflict in CBS nodes Runtime',\n",
       " 'Basic-CBS/(A*/SIC)+ID Runtime',\n",
       " 'ICTS 3E +ID Runtime',\n",
       " 'EPEA*+ID Runtime']"
      ]
     },
     "execution_count": 4,
     "metadata": {},
     "output_type": "execute_result"
    }
   ],
   "source": [
    "runtime_cols"
   ]
  },
  {
   "cell_type": "markdown",
   "metadata": {},
   "source": [
    "## Create Y Column with argmax on runtime_cols ##"
   ]
  },
  {
   "cell_type": "code",
   "execution_count": 5,
   "metadata": {},
   "outputs": [],
   "source": [
    "Y = df[runtime_cols].idxmin(axis=1)\n",
    "df['Y'] = Y"
   ]
  },
  {
   "cell_type": "code",
   "execution_count": 6,
   "metadata": {},
   "outputs": [
    {
     "data": {
      "text/plain": [
       "'Y Success'"
      ]
     },
     "execution_count": 6,
     "metadata": {},
     "output_type": "execute_result"
    }
   ],
   "source": [
    "def runtime_to_success(col):\n",
    "    splitted = col.split()\n",
    "    splitted[-1] = \"Success\"\n",
    "    return \" \".join(splitted)\n",
    "\n",
    "runtime_to_success(\"Y Runtime\")"
   ]
  },
  {
   "cell_type": "code",
   "execution_count": 7,
   "metadata": {},
   "outputs": [],
   "source": [
    "df['Y Success'] = df.apply(lambda x:x[runtime_to_success(x['Y'])], axis=1)"
   ]
  },
  {
   "cell_type": "code",
   "execution_count": 8,
   "metadata": {},
   "outputs": [],
   "source": [
    "df['Y Runtime'] = df.apply(lambda x:x[x['Y']], axis=1)"
   ]
  },
  {
   "cell_type": "code",
   "execution_count": 9,
   "metadata": {},
   "outputs": [
    {
     "data": {
      "text/plain": [
       "MA-CBS-Global-10/(EPEA*/SIC) choosing the first conflict in CBS nodes Runtime    3306\n",
       "ICTS 3E +ID Runtime                                                               997\n",
       "EPEA*+ID Runtime                                                                  760\n",
       "Basic-CBS/(A*/SIC)+ID Runtime                                                     631\n",
       "A*+OD+ID Runtime                                                                  284\n",
       "Name: Y, dtype: int64"
      ]
     },
     "execution_count": 9,
     "metadata": {},
     "output_type": "execute_result"
    }
   ],
   "source": [
    "df['Y'].value_counts()"
   ]
  },
  {
   "cell_type": "markdown",
   "metadata": {},
   "source": [
    "## Add Sparsity feature "
   ]
  },
  {
   "cell_type": "code",
   "execution_count": 10,
   "metadata": {},
   "outputs": [],
   "source": [
    "df['GridSize'] = df['GridRows'] * df['GridColumns']"
   ]
  },
  {
   "cell_type": "code",
   "execution_count": 11,
   "metadata": {},
   "outputs": [],
   "source": [
    "df['Sparsity'] = df.apply(lambda x: x['NumOfAgents']/(x['GridSize']-x['NumOfObstacles']),axis=1)"
   ]
  },
  {
   "cell_type": "code",
   "execution_count": 12,
   "metadata": {},
   "outputs": [],
   "source": [
    "features_cols.append('GridSize')\n",
    "features_cols.append('Sparsity')\n"
   ]
  },
  {
   "cell_type": "code",
   "execution_count": 13,
   "metadata": {},
   "outputs": [
    {
     "data": {
      "text/html": [
       "<div>\n",
       "<style scoped>\n",
       "    .dataframe tbody tr th:only-of-type {\n",
       "        vertical-align: middle;\n",
       "    }\n",
       "\n",
       "    .dataframe tbody tr th {\n",
       "        vertical-align: top;\n",
       "    }\n",
       "\n",
       "    .dataframe thead th {\n",
       "        text-align: right;\n",
       "    }\n",
       "</style>\n",
       "<table border=\"1\" class=\"dataframe\">\n",
       "  <thead>\n",
       "    <tr style=\"text-align: right;\">\n",
       "      <th></th>\n",
       "      <th>GridRows</th>\n",
       "      <th>GridColumns</th>\n",
       "      <th>NumOfAgents</th>\n",
       "      <th>NumOfObstacles</th>\n",
       "      <th>BranchingFactor</th>\n",
       "      <th>ObstacleDensity</th>\n",
       "      <th>AvgDistanceToGoal</th>\n",
       "      <th>MaxDistanceToGoal</th>\n",
       "      <th>MinDistanceToGoal</th>\n",
       "      <th>AvgStartDistances</th>\n",
       "      <th>AvgGoalDistances</th>\n",
       "      <th>PointsAtSPRatio</th>\n",
       "      <th>GridSize</th>\n",
       "      <th>Sparsity</th>\n",
       "    </tr>\n",
       "  </thead>\n",
       "  <tbody>\n",
       "    <tr>\n",
       "      <th>GridRows</th>\n",
       "      <td>1.000000</td>\n",
       "      <td>0.994711</td>\n",
       "      <td>0.205476</td>\n",
       "      <td>0.614767</td>\n",
       "      <td>0.037145</td>\n",
       "      <td>0.317547</td>\n",
       "      <td>0.868909</td>\n",
       "      <td>0.886757</td>\n",
       "      <td>0.319098</td>\n",
       "      <td>0.947102</td>\n",
       "      <td>0.948110</td>\n",
       "      <td>-0.618879</td>\n",
       "      <td>0.862172</td>\n",
       "      <td>-0.550734</td>\n",
       "    </tr>\n",
       "    <tr>\n",
       "      <th>GridColumns</th>\n",
       "      <td>0.994711</td>\n",
       "      <td>1.000000</td>\n",
       "      <td>0.196172</td>\n",
       "      <td>0.662615</td>\n",
       "      <td>0.034997</td>\n",
       "      <td>0.345687</td>\n",
       "      <td>0.845832</td>\n",
       "      <td>0.870090</td>\n",
       "      <td>0.309306</td>\n",
       "      <td>0.962895</td>\n",
       "      <td>0.963400</td>\n",
       "      <td>-0.606807</td>\n",
       "      <td>0.892520</td>\n",
       "      <td>-0.535093</td>\n",
       "    </tr>\n",
       "    <tr>\n",
       "      <th>NumOfAgents</th>\n",
       "      <td>0.205476</td>\n",
       "      <td>0.196172</td>\n",
       "      <td>1.000000</td>\n",
       "      <td>0.026835</td>\n",
       "      <td>0.401826</td>\n",
       "      <td>0.020335</td>\n",
       "      <td>0.235792</td>\n",
       "      <td>0.376233</td>\n",
       "      <td>-0.346060</td>\n",
       "      <td>0.283907</td>\n",
       "      <td>0.286802</td>\n",
       "      <td>0.360581</td>\n",
       "      <td>0.087612</td>\n",
       "      <td>-0.264622</td>\n",
       "    </tr>\n",
       "    <tr>\n",
       "      <th>NumOfObstacles</th>\n",
       "      <td>0.614767</td>\n",
       "      <td>0.662615</td>\n",
       "      <td>0.026835</td>\n",
       "      <td>1.000000</td>\n",
       "      <td>0.004848</td>\n",
       "      <td>0.573520</td>\n",
       "      <td>0.220750</td>\n",
       "      <td>0.325759</td>\n",
       "      <td>0.035389</td>\n",
       "      <td>0.713660</td>\n",
       "      <td>0.711916</td>\n",
       "      <td>-0.214241</td>\n",
       "      <td>0.914869</td>\n",
       "      <td>-0.081564</td>\n",
       "    </tr>\n",
       "    <tr>\n",
       "      <th>BranchingFactor</th>\n",
       "      <td>0.037145</td>\n",
       "      <td>0.034997</td>\n",
       "      <td>0.401826</td>\n",
       "      <td>0.004848</td>\n",
       "      <td>1.000000</td>\n",
       "      <td>0.000515</td>\n",
       "      <td>0.042485</td>\n",
       "      <td>0.082591</td>\n",
       "      <td>-0.095467</td>\n",
       "      <td>0.057307</td>\n",
       "      <td>0.059042</td>\n",
       "      <td>0.179169</td>\n",
       "      <td>0.015894</td>\n",
       "      <td>-0.027661</td>\n",
       "    </tr>\n",
       "    <tr>\n",
       "      <th>ObstacleDensity</th>\n",
       "      <td>0.317547</td>\n",
       "      <td>0.345687</td>\n",
       "      <td>0.020335</td>\n",
       "      <td>0.573520</td>\n",
       "      <td>0.000515</td>\n",
       "      <td>1.000000</td>\n",
       "      <td>0.141560</td>\n",
       "      <td>0.189172</td>\n",
       "      <td>-0.046987</td>\n",
       "      <td>0.382620</td>\n",
       "      <td>0.383927</td>\n",
       "      <td>-0.266975</td>\n",
       "      <td>0.451894</td>\n",
       "      <td>-0.082759</td>\n",
       "    </tr>\n",
       "    <tr>\n",
       "      <th>AvgDistanceToGoal</th>\n",
       "      <td>0.868909</td>\n",
       "      <td>0.845832</td>\n",
       "      <td>0.235792</td>\n",
       "      <td>0.220750</td>\n",
       "      <td>0.042485</td>\n",
       "      <td>0.141560</td>\n",
       "      <td>1.000000</td>\n",
       "      <td>0.930397</td>\n",
       "      <td>0.426762</td>\n",
       "      <td>0.786565</td>\n",
       "      <td>0.790002</td>\n",
       "      <td>-0.630670</td>\n",
       "      <td>0.551358</td>\n",
       "      <td>-0.626841</td>\n",
       "    </tr>\n",
       "    <tr>\n",
       "      <th>MaxDistanceToGoal</th>\n",
       "      <td>0.886757</td>\n",
       "      <td>0.870090</td>\n",
       "      <td>0.376233</td>\n",
       "      <td>0.325759</td>\n",
       "      <td>0.082591</td>\n",
       "      <td>0.189172</td>\n",
       "      <td>0.930397</td>\n",
       "      <td>1.000000</td>\n",
       "      <td>0.237909</td>\n",
       "      <td>0.848835</td>\n",
       "      <td>0.851280</td>\n",
       "      <td>-0.520586</td>\n",
       "      <td>0.625806</td>\n",
       "      <td>-0.581544</td>\n",
       "    </tr>\n",
       "    <tr>\n",
       "      <th>MinDistanceToGoal</th>\n",
       "      <td>0.319098</td>\n",
       "      <td>0.309306</td>\n",
       "      <td>-0.346060</td>\n",
       "      <td>0.035389</td>\n",
       "      <td>-0.095467</td>\n",
       "      <td>-0.046987</td>\n",
       "      <td>0.426762</td>\n",
       "      <td>0.237909</td>\n",
       "      <td>1.000000</td>\n",
       "      <td>0.195542</td>\n",
       "      <td>0.198951</td>\n",
       "      <td>-0.500265</td>\n",
       "      <td>0.183819</td>\n",
       "      <td>-0.272702</td>\n",
       "    </tr>\n",
       "    <tr>\n",
       "      <th>AvgStartDistances</th>\n",
       "      <td>0.947102</td>\n",
       "      <td>0.962895</td>\n",
       "      <td>0.283907</td>\n",
       "      <td>0.713660</td>\n",
       "      <td>0.057307</td>\n",
       "      <td>0.382620</td>\n",
       "      <td>0.786565</td>\n",
       "      <td>0.848835</td>\n",
       "      <td>0.195542</td>\n",
       "      <td>1.000000</td>\n",
       "      <td>0.983508</td>\n",
       "      <td>-0.493701</td>\n",
       "      <td>0.899299</td>\n",
       "      <td>-0.478893</td>\n",
       "    </tr>\n",
       "    <tr>\n",
       "      <th>AvgGoalDistances</th>\n",
       "      <td>0.948110</td>\n",
       "      <td>0.963400</td>\n",
       "      <td>0.286802</td>\n",
       "      <td>0.711916</td>\n",
       "      <td>0.059042</td>\n",
       "      <td>0.383927</td>\n",
       "      <td>0.790002</td>\n",
       "      <td>0.851280</td>\n",
       "      <td>0.198951</td>\n",
       "      <td>0.983508</td>\n",
       "      <td>1.000000</td>\n",
       "      <td>-0.493481</td>\n",
       "      <td>0.898306</td>\n",
       "      <td>-0.481054</td>\n",
       "    </tr>\n",
       "    <tr>\n",
       "      <th>PointsAtSPRatio</th>\n",
       "      <td>-0.618879</td>\n",
       "      <td>-0.606807</td>\n",
       "      <td>0.360581</td>\n",
       "      <td>-0.214241</td>\n",
       "      <td>0.179169</td>\n",
       "      <td>-0.266975</td>\n",
       "      <td>-0.630670</td>\n",
       "      <td>-0.520586</td>\n",
       "      <td>-0.500265</td>\n",
       "      <td>-0.493701</td>\n",
       "      <td>-0.493481</td>\n",
       "      <td>1.000000</td>\n",
       "      <td>-0.401562</td>\n",
       "      <td>0.670815</td>\n",
       "    </tr>\n",
       "    <tr>\n",
       "      <th>GridSize</th>\n",
       "      <td>0.862172</td>\n",
       "      <td>0.892520</td>\n",
       "      <td>0.087612</td>\n",
       "      <td>0.914869</td>\n",
       "      <td>0.015894</td>\n",
       "      <td>0.451894</td>\n",
       "      <td>0.551358</td>\n",
       "      <td>0.625806</td>\n",
       "      <td>0.183819</td>\n",
       "      <td>0.899299</td>\n",
       "      <td>0.898306</td>\n",
       "      <td>-0.401562</td>\n",
       "      <td>1.000000</td>\n",
       "      <td>-0.254685</td>\n",
       "    </tr>\n",
       "    <tr>\n",
       "      <th>Sparsity</th>\n",
       "      <td>-0.550734</td>\n",
       "      <td>-0.535093</td>\n",
       "      <td>-0.264622</td>\n",
       "      <td>-0.081564</td>\n",
       "      <td>-0.027661</td>\n",
       "      <td>-0.082759</td>\n",
       "      <td>-0.626841</td>\n",
       "      <td>-0.581544</td>\n",
       "      <td>-0.272702</td>\n",
       "      <td>-0.478893</td>\n",
       "      <td>-0.481054</td>\n",
       "      <td>0.670815</td>\n",
       "      <td>-0.254685</td>\n",
       "      <td>1.000000</td>\n",
       "    </tr>\n",
       "  </tbody>\n",
       "</table>\n",
       "</div>"
      ],
      "text/plain": [
       "                   GridRows  GridColumns  NumOfAgents  NumOfObstacles  \\\n",
       "GridRows           1.000000     0.994711     0.205476        0.614767   \n",
       "GridColumns        0.994711     1.000000     0.196172        0.662615   \n",
       "NumOfAgents        0.205476     0.196172     1.000000        0.026835   \n",
       "NumOfObstacles     0.614767     0.662615     0.026835        1.000000   \n",
       "BranchingFactor    0.037145     0.034997     0.401826        0.004848   \n",
       "ObstacleDensity    0.317547     0.345687     0.020335        0.573520   \n",
       "AvgDistanceToGoal  0.868909     0.845832     0.235792        0.220750   \n",
       "MaxDistanceToGoal  0.886757     0.870090     0.376233        0.325759   \n",
       "MinDistanceToGoal  0.319098     0.309306    -0.346060        0.035389   \n",
       "AvgStartDistances  0.947102     0.962895     0.283907        0.713660   \n",
       "AvgGoalDistances   0.948110     0.963400     0.286802        0.711916   \n",
       "PointsAtSPRatio   -0.618879    -0.606807     0.360581       -0.214241   \n",
       "GridSize           0.862172     0.892520     0.087612        0.914869   \n",
       "Sparsity          -0.550734    -0.535093    -0.264622       -0.081564   \n",
       "\n",
       "                   BranchingFactor  ObstacleDensity  AvgDistanceToGoal  \\\n",
       "GridRows                  0.037145         0.317547           0.868909   \n",
       "GridColumns               0.034997         0.345687           0.845832   \n",
       "NumOfAgents               0.401826         0.020335           0.235792   \n",
       "NumOfObstacles            0.004848         0.573520           0.220750   \n",
       "BranchingFactor           1.000000         0.000515           0.042485   \n",
       "ObstacleDensity           0.000515         1.000000           0.141560   \n",
       "AvgDistanceToGoal         0.042485         0.141560           1.000000   \n",
       "MaxDistanceToGoal         0.082591         0.189172           0.930397   \n",
       "MinDistanceToGoal        -0.095467        -0.046987           0.426762   \n",
       "AvgStartDistances         0.057307         0.382620           0.786565   \n",
       "AvgGoalDistances          0.059042         0.383927           0.790002   \n",
       "PointsAtSPRatio           0.179169        -0.266975          -0.630670   \n",
       "GridSize                  0.015894         0.451894           0.551358   \n",
       "Sparsity                 -0.027661        -0.082759          -0.626841   \n",
       "\n",
       "                   MaxDistanceToGoal  MinDistanceToGoal  AvgStartDistances  \\\n",
       "GridRows                    0.886757           0.319098           0.947102   \n",
       "GridColumns                 0.870090           0.309306           0.962895   \n",
       "NumOfAgents                 0.376233          -0.346060           0.283907   \n",
       "NumOfObstacles              0.325759           0.035389           0.713660   \n",
       "BranchingFactor             0.082591          -0.095467           0.057307   \n",
       "ObstacleDensity             0.189172          -0.046987           0.382620   \n",
       "AvgDistanceToGoal           0.930397           0.426762           0.786565   \n",
       "MaxDistanceToGoal           1.000000           0.237909           0.848835   \n",
       "MinDistanceToGoal           0.237909           1.000000           0.195542   \n",
       "AvgStartDistances           0.848835           0.195542           1.000000   \n",
       "AvgGoalDistances            0.851280           0.198951           0.983508   \n",
       "PointsAtSPRatio            -0.520586          -0.500265          -0.493701   \n",
       "GridSize                    0.625806           0.183819           0.899299   \n",
       "Sparsity                   -0.581544          -0.272702          -0.478893   \n",
       "\n",
       "                   AvgGoalDistances  PointsAtSPRatio  GridSize  Sparsity  \n",
       "GridRows                   0.948110        -0.618879  0.862172 -0.550734  \n",
       "GridColumns                0.963400        -0.606807  0.892520 -0.535093  \n",
       "NumOfAgents                0.286802         0.360581  0.087612 -0.264622  \n",
       "NumOfObstacles             0.711916        -0.214241  0.914869 -0.081564  \n",
       "BranchingFactor            0.059042         0.179169  0.015894 -0.027661  \n",
       "ObstacleDensity            0.383927        -0.266975  0.451894 -0.082759  \n",
       "AvgDistanceToGoal          0.790002        -0.630670  0.551358 -0.626841  \n",
       "MaxDistanceToGoal          0.851280        -0.520586  0.625806 -0.581544  \n",
       "MinDistanceToGoal          0.198951        -0.500265  0.183819 -0.272702  \n",
       "AvgStartDistances          0.983508        -0.493701  0.899299 -0.478893  \n",
       "AvgGoalDistances           1.000000        -0.493481  0.898306 -0.481054  \n",
       "PointsAtSPRatio           -0.493481         1.000000 -0.401562  0.670815  \n",
       "GridSize                   0.898306        -0.401562  1.000000 -0.254685  \n",
       "Sparsity                  -0.481054         0.670815 -0.254685  1.000000  "
      ]
     },
     "execution_count": 13,
     "metadata": {},
     "output_type": "execute_result"
    }
   ],
   "source": [
    "features_cols.append('Y')\n",
    "df[features_cols].corr()"
   ]
  },
  {
   "cell_type": "markdown",
   "metadata": {},
   "source": [
    "## Save labelled data to file"
   ]
  },
  {
   "cell_type": "code",
   "execution_count": 14,
   "metadata": {},
   "outputs": [],
   "source": [
    "# df.to_csv(\"data/from-azure/AllData-labelled.csv\")"
   ]
  }
 ],
 "metadata": {
  "kernelspec": {
   "display_name": "Python 3",
   "language": "python",
   "name": "python3"
  },
  "language_info": {
   "codemirror_mode": {
    "name": "ipython",
    "version": 3
   },
   "file_extension": ".py",
   "mimetype": "text/x-python",
   "name": "python",
   "nbconvert_exporter": "python",
   "pygments_lexer": "ipython3",
   "version": "3.6.8"
  }
 },
 "nbformat": 4,
 "nbformat_minor": 2
}
