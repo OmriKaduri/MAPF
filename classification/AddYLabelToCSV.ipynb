{
 "cells": [
  {
   "cell_type": "code",
   "execution_count": 1,
   "metadata": {},
   "outputs": [],
   "source": [
    "import pandas as pd"
   ]
  },
  {
   "cell_type": "markdown",
   "metadata": {},
   "source": [
    "## Load the unlabelled dataset ##"
   ]
  },
  {
   "cell_type": "code",
   "execution_count": 3,
   "metadata": {},
   "outputs": [],
   "source": [
    "df = pd.read_csv('data/from-azure/nathan_AllData.csv')"
   ]
  },
  {
   "cell_type": "code",
   "execution_count": 4,
   "metadata": {},
   "outputs": [],
   "source": [
    "features_cols = ['GridRows', 'GridColumns', 'NumOfAgents', 'NumOfObstacles', 'BranchingFactor', 'ObstacleDensity',\n",
    "            'AvgDistanceToGoal', 'MaxDistanceToGoal', 'MinDistanceToGoal', 'AvgStartDistances', 'AvgGoalDistances',\n",
    "            'PointsAtSPRatio']\n",
    "runtime_cols = list(df.filter(like=\"Runtime\"))\n",
    "relev_cols = runtime_cols + features_cols + ['Y']"
   ]
  },
  {
   "cell_type": "code",
   "execution_count": 5,
   "metadata": {},
   "outputs": [
    {
     "data": {
      "text/plain": [
       "['A*+OD+ID Runtime',\n",
       " 'MA-CBS-Global-10/(EPEA*/SIC) choosing the first conflict in CBS nodes Runtime',\n",
       " 'Basic-CBS/(A*/SIC)+ID Runtime',\n",
       " 'ICTS 3E +ID Runtime',\n",
       " 'EPEA*+ID Runtime']"
      ]
     },
     "execution_count": 5,
     "metadata": {},
     "output_type": "execute_result"
    }
   ],
   "source": [
    "runtime_cols"
   ]
  },
  {
   "cell_type": "markdown",
   "metadata": {},
   "source": [
    "## Create Y Column with argmin on runtime_cols ##"
   ]
  },
  {
   "cell_type": "code",
   "execution_count": 6,
   "metadata": {},
   "outputs": [],
   "source": [
    "Y = df[runtime_cols].idxmin(axis=1)\n",
    "df['Y'] = Y"
   ]
  },
  {
   "cell_type": "code",
   "execution_count": 7,
   "metadata": {},
   "outputs": [
    {
     "data": {
      "text/plain": [
       "(A*+OD+ID Runtime                                                                 0.9112\n",
       " MA-CBS-Global-10/(EPEA*/SIC) choosing the first conflict in CBS nodes Runtime    0.0659\n",
       " Basic-CBS/(A*/SIC)+ID Runtime                                                    0.8479\n",
       " ICTS 3E +ID Runtime                                                              0.7861\n",
       " EPEA*+ID Runtime                                                                 0.7612\n",
       " Name: 400, dtype: object,\n",
       " 'MA-CBS-Global-10/(EPEA*/SIC) choosing the first conflict in CBS nodes Runtime')"
      ]
     },
     "execution_count": 7,
     "metadata": {},
     "output_type": "execute_result"
    }
   ],
   "source": [
    "df.iloc[400][runtime_cols], df.iloc[400]['Y'] # SANITY CHECK"
   ]
  },
  {
   "cell_type": "code",
   "execution_count": 8,
   "metadata": {},
   "outputs": [
    {
     "data": {
      "text/plain": [
       "'Y Success'"
      ]
     },
     "execution_count": 8,
     "metadata": {},
     "output_type": "execute_result"
    }
   ],
   "source": [
    "def runtime_to_success(col):\n",
    "    splitted = col.split()\n",
    "    splitted[-1] = \"Success\"\n",
    "    return \" \".join(splitted)\n",
    "\n",
    "runtime_to_success(\"Y Runtime\")"
   ]
  },
  {
   "cell_type": "code",
   "execution_count": 9,
   "metadata": {},
   "outputs": [],
   "source": [
    "df['Y Success'] = df.apply(lambda x:x[runtime_to_success(x['Y'])], axis=1)"
   ]
  },
  {
   "cell_type": "code",
   "execution_count": 10,
   "metadata": {},
   "outputs": [],
   "source": [
    "df['Y Runtime'] = df.apply(lambda x:x[x['Y']], axis=1)"
   ]
  },
  {
   "cell_type": "code",
   "execution_count": 11,
   "metadata": {},
   "outputs": [
    {
     "data": {
      "text/plain": [
       "MA-CBS-Global-10/(EPEA*/SIC) choosing the first conflict in CBS nodes Runtime    1416\n",
       "ICTS 3E +ID Runtime                                                               678\n",
       "EPEA*+ID Runtime                                                                  527\n",
       "Basic-CBS/(A*/SIC)+ID Runtime                                                     262\n",
       "A*+OD+ID Runtime                                                                  227\n",
       "Name: Y, dtype: int64"
      ]
     },
     "execution_count": 11,
     "metadata": {},
     "output_type": "execute_result"
    }
   ],
   "source": [
    "df['Y'].value_counts()"
   ]
  },
  {
   "cell_type": "markdown",
   "metadata": {},
   "source": [
    "## Add Sparsity feature "
   ]
  },
  {
   "cell_type": "code",
   "execution_count": 12,
   "metadata": {},
   "outputs": [],
   "source": [
    "df['GridSize'] = df['GridRows'] * df['GridColumns']"
   ]
  },
  {
   "cell_type": "code",
   "execution_count": 13,
   "metadata": {},
   "outputs": [],
   "source": [
    "df['Sparsity'] = df.apply(lambda x: x['NumOfAgents']/(x['GridSize']-x['NumOfObstacles']),axis=1)"
   ]
  },
  {
   "cell_type": "code",
   "execution_count": 14,
   "metadata": {},
   "outputs": [],
   "source": [
    "features_cols.append('GridSize')\n",
    "features_cols.append('Sparsity')\n"
   ]
  },
  {
   "cell_type": "code",
   "execution_count": 15,
   "metadata": {},
   "outputs": [
    {
     "data": {
      "text/html": [
       "<div>\n",
       "<style scoped>\n",
       "    .dataframe tbody tr th:only-of-type {\n",
       "        vertical-align: middle;\n",
       "    }\n",
       "\n",
       "    .dataframe tbody tr th {\n",
       "        vertical-align: top;\n",
       "    }\n",
       "\n",
       "    .dataframe thead th {\n",
       "        text-align: right;\n",
       "    }\n",
       "</style>\n",
       "<table border=\"1\" class=\"dataframe\">\n",
       "  <thead>\n",
       "    <tr style=\"text-align: right;\">\n",
       "      <th></th>\n",
       "      <th>GridRows</th>\n",
       "      <th>GridColumns</th>\n",
       "      <th>NumOfAgents</th>\n",
       "      <th>NumOfObstacles</th>\n",
       "      <th>BranchingFactor</th>\n",
       "      <th>ObstacleDensity</th>\n",
       "      <th>AvgDistanceToGoal</th>\n",
       "      <th>MaxDistanceToGoal</th>\n",
       "      <th>MinDistanceToGoal</th>\n",
       "      <th>AvgStartDistances</th>\n",
       "      <th>AvgGoalDistances</th>\n",
       "      <th>PointsAtSPRatio</th>\n",
       "      <th>GridSize</th>\n",
       "      <th>Sparsity</th>\n",
       "    </tr>\n",
       "  </thead>\n",
       "  <tbody>\n",
       "    <tr>\n",
       "      <th>GridRows</th>\n",
       "      <td>1.000000</td>\n",
       "      <td>0.872173</td>\n",
       "      <td>-0.096604</td>\n",
       "      <td>0.648910</td>\n",
       "      <td>-0.013183</td>\n",
       "      <td>0.704447</td>\n",
       "      <td>0.828292</td>\n",
       "      <td>0.831990</td>\n",
       "      <td>0.323697</td>\n",
       "      <td>0.813816</td>\n",
       "      <td>0.843779</td>\n",
       "      <td>-0.654940</td>\n",
       "      <td>0.735142</td>\n",
       "      <td>-0.461724</td>\n",
       "    </tr>\n",
       "    <tr>\n",
       "      <th>GridColumns</th>\n",
       "      <td>0.872173</td>\n",
       "      <td>1.000000</td>\n",
       "      <td>-0.098144</td>\n",
       "      <td>0.919174</td>\n",
       "      <td>-0.008805</td>\n",
       "      <td>0.551495</td>\n",
       "      <td>0.937710</td>\n",
       "      <td>0.957417</td>\n",
       "      <td>0.388462</td>\n",
       "      <td>0.922472</td>\n",
       "      <td>0.903642</td>\n",
       "      <td>-0.441691</td>\n",
       "      <td>0.962286</td>\n",
       "      <td>-0.303268</td>\n",
       "    </tr>\n",
       "    <tr>\n",
       "      <th>NumOfAgents</th>\n",
       "      <td>-0.096604</td>\n",
       "      <td>-0.098144</td>\n",
       "      <td>1.000000</td>\n",
       "      <td>-0.117408</td>\n",
       "      <td>0.070088</td>\n",
       "      <td>-0.337693</td>\n",
       "      <td>-0.134844</td>\n",
       "      <td>-0.091737</td>\n",
       "      <td>-0.204607</td>\n",
       "      <td>-0.073090</td>\n",
       "      <td>-0.064444</td>\n",
       "      <td>0.563770</td>\n",
       "      <td>-0.104255</td>\n",
       "      <td>0.127493</td>\n",
       "    </tr>\n",
       "    <tr>\n",
       "      <th>NumOfObstacles</th>\n",
       "      <td>0.648910</td>\n",
       "      <td>0.919174</td>\n",
       "      <td>-0.117408</td>\n",
       "      <td>1.000000</td>\n",
       "      <td>-0.004321</td>\n",
       "      <td>0.409628</td>\n",
       "      <td>0.861013</td>\n",
       "      <td>0.888665</td>\n",
       "      <td>0.376622</td>\n",
       "      <td>0.847172</td>\n",
       "      <td>0.785064</td>\n",
       "      <td>-0.206216</td>\n",
       "      <td>0.989871</td>\n",
       "      <td>-0.119136</td>\n",
       "    </tr>\n",
       "    <tr>\n",
       "      <th>BranchingFactor</th>\n",
       "      <td>-0.013183</td>\n",
       "      <td>-0.008805</td>\n",
       "      <td>0.070088</td>\n",
       "      <td>-0.004321</td>\n",
       "      <td>0.000000</td>\n",
       "      <td>-0.016705</td>\n",
       "      <td>-0.009423</td>\n",
       "      <td>-0.008381</td>\n",
       "      <td>-0.004890</td>\n",
       "      <td>-0.008570</td>\n",
       "      <td>-0.009472</td>\n",
       "      <td>0.036032</td>\n",
       "      <td>-0.005993</td>\n",
       "      <td>0.016019</td>\n",
       "    </tr>\n",
       "    <tr>\n",
       "      <th>ObstacleDensity</th>\n",
       "      <td>0.704447</td>\n",
       "      <td>0.551495</td>\n",
       "      <td>-0.337693</td>\n",
       "      <td>0.409628</td>\n",
       "      <td>-0.016705</td>\n",
       "      <td>1.000000</td>\n",
       "      <td>0.512407</td>\n",
       "      <td>0.499165</td>\n",
       "      <td>0.255249</td>\n",
       "      <td>0.492124</td>\n",
       "      <td>0.511576</td>\n",
       "      <td>-0.707306</td>\n",
       "      <td>0.436564</td>\n",
       "      <td>-0.433139</td>\n",
       "    </tr>\n",
       "    <tr>\n",
       "      <th>AvgDistanceToGoal</th>\n",
       "      <td>0.828292</td>\n",
       "      <td>0.937710</td>\n",
       "      <td>-0.134844</td>\n",
       "      <td>0.861013</td>\n",
       "      <td>-0.009423</td>\n",
       "      <td>0.512407</td>\n",
       "      <td>1.000000</td>\n",
       "      <td>0.979618</td>\n",
       "      <td>0.534851</td>\n",
       "      <td>0.929594</td>\n",
       "      <td>0.918294</td>\n",
       "      <td>-0.435663</td>\n",
       "      <td>0.902990</td>\n",
       "      <td>-0.296951</td>\n",
       "    </tr>\n",
       "    <tr>\n",
       "      <th>MaxDistanceToGoal</th>\n",
       "      <td>0.831990</td>\n",
       "      <td>0.957417</td>\n",
       "      <td>-0.091737</td>\n",
       "      <td>0.888665</td>\n",
       "      <td>-0.008381</td>\n",
       "      <td>0.499165</td>\n",
       "      <td>0.979618</td>\n",
       "      <td>1.000000</td>\n",
       "      <td>0.381073</td>\n",
       "      <td>0.970737</td>\n",
       "      <td>0.959602</td>\n",
       "      <td>-0.410277</td>\n",
       "      <td>0.929464</td>\n",
       "      <td>-0.284543</td>\n",
       "    </tr>\n",
       "    <tr>\n",
       "      <th>MinDistanceToGoal</th>\n",
       "      <td>0.323697</td>\n",
       "      <td>0.388462</td>\n",
       "      <td>-0.204607</td>\n",
       "      <td>0.376622</td>\n",
       "      <td>-0.004890</td>\n",
       "      <td>0.255249</td>\n",
       "      <td>0.534851</td>\n",
       "      <td>0.381073</td>\n",
       "      <td>1.000000</td>\n",
       "      <td>0.216760</td>\n",
       "      <td>0.197898</td>\n",
       "      <td>-0.217284</td>\n",
       "      <td>0.382635</td>\n",
       "      <td>-0.131148</td>\n",
       "    </tr>\n",
       "    <tr>\n",
       "      <th>AvgStartDistances</th>\n",
       "      <td>0.813816</td>\n",
       "      <td>0.922472</td>\n",
       "      <td>-0.073090</td>\n",
       "      <td>0.847172</td>\n",
       "      <td>-0.008570</td>\n",
       "      <td>0.492124</td>\n",
       "      <td>0.929594</td>\n",
       "      <td>0.970737</td>\n",
       "      <td>0.216760</td>\n",
       "      <td>1.000000</td>\n",
       "      <td>0.979690</td>\n",
       "      <td>-0.405431</td>\n",
       "      <td>0.889449</td>\n",
       "      <td>-0.283385</td>\n",
       "    </tr>\n",
       "    <tr>\n",
       "      <th>AvgGoalDistances</th>\n",
       "      <td>0.843779</td>\n",
       "      <td>0.903642</td>\n",
       "      <td>-0.064444</td>\n",
       "      <td>0.785064</td>\n",
       "      <td>-0.009472</td>\n",
       "      <td>0.511576</td>\n",
       "      <td>0.918294</td>\n",
       "      <td>0.959602</td>\n",
       "      <td>0.197898</td>\n",
       "      <td>0.979690</td>\n",
       "      <td>1.000000</td>\n",
       "      <td>-0.456854</td>\n",
       "      <td>0.841020</td>\n",
       "      <td>-0.325148</td>\n",
       "    </tr>\n",
       "    <tr>\n",
       "      <th>PointsAtSPRatio</th>\n",
       "      <td>-0.654940</td>\n",
       "      <td>-0.441691</td>\n",
       "      <td>0.563770</td>\n",
       "      <td>-0.206216</td>\n",
       "      <td>0.036032</td>\n",
       "      <td>-0.707306</td>\n",
       "      <td>-0.435663</td>\n",
       "      <td>-0.410277</td>\n",
       "      <td>-0.217284</td>\n",
       "      <td>-0.405431</td>\n",
       "      <td>-0.456854</td>\n",
       "      <td>1.000000</td>\n",
       "      <td>-0.277677</td>\n",
       "      <td>0.708839</td>\n",
       "    </tr>\n",
       "    <tr>\n",
       "      <th>GridSize</th>\n",
       "      <td>0.735142</td>\n",
       "      <td>0.962286</td>\n",
       "      <td>-0.104255</td>\n",
       "      <td>0.989871</td>\n",
       "      <td>-0.005993</td>\n",
       "      <td>0.436564</td>\n",
       "      <td>0.902990</td>\n",
       "      <td>0.929464</td>\n",
       "      <td>0.382635</td>\n",
       "      <td>0.889449</td>\n",
       "      <td>0.841020</td>\n",
       "      <td>-0.277677</td>\n",
       "      <td>1.000000</td>\n",
       "      <td>-0.170919</td>\n",
       "    </tr>\n",
       "    <tr>\n",
       "      <th>Sparsity</th>\n",
       "      <td>-0.461724</td>\n",
       "      <td>-0.303268</td>\n",
       "      <td>0.127493</td>\n",
       "      <td>-0.119136</td>\n",
       "      <td>0.016019</td>\n",
       "      <td>-0.433139</td>\n",
       "      <td>-0.296951</td>\n",
       "      <td>-0.284543</td>\n",
       "      <td>-0.131148</td>\n",
       "      <td>-0.283385</td>\n",
       "      <td>-0.325148</td>\n",
       "      <td>0.708839</td>\n",
       "      <td>-0.170919</td>\n",
       "      <td>1.000000</td>\n",
       "    </tr>\n",
       "  </tbody>\n",
       "</table>\n",
       "</div>"
      ],
      "text/plain": [
       "                   GridRows  GridColumns  NumOfAgents  NumOfObstacles  \\\n",
       "GridRows           1.000000     0.872173    -0.096604        0.648910   \n",
       "GridColumns        0.872173     1.000000    -0.098144        0.919174   \n",
       "NumOfAgents       -0.096604    -0.098144     1.000000       -0.117408   \n",
       "NumOfObstacles     0.648910     0.919174    -0.117408        1.000000   \n",
       "BranchingFactor   -0.013183    -0.008805     0.070088       -0.004321   \n",
       "ObstacleDensity    0.704447     0.551495    -0.337693        0.409628   \n",
       "AvgDistanceToGoal  0.828292     0.937710    -0.134844        0.861013   \n",
       "MaxDistanceToGoal  0.831990     0.957417    -0.091737        0.888665   \n",
       "MinDistanceToGoal  0.323697     0.388462    -0.204607        0.376622   \n",
       "AvgStartDistances  0.813816     0.922472    -0.073090        0.847172   \n",
       "AvgGoalDistances   0.843779     0.903642    -0.064444        0.785064   \n",
       "PointsAtSPRatio   -0.654940    -0.441691     0.563770       -0.206216   \n",
       "GridSize           0.735142     0.962286    -0.104255        0.989871   \n",
       "Sparsity          -0.461724    -0.303268     0.127493       -0.119136   \n",
       "\n",
       "                   BranchingFactor  ObstacleDensity  AvgDistanceToGoal  \\\n",
       "GridRows                 -0.013183         0.704447           0.828292   \n",
       "GridColumns              -0.008805         0.551495           0.937710   \n",
       "NumOfAgents               0.070088        -0.337693          -0.134844   \n",
       "NumOfObstacles           -0.004321         0.409628           0.861013   \n",
       "BranchingFactor           0.000000        -0.016705          -0.009423   \n",
       "ObstacleDensity          -0.016705         1.000000           0.512407   \n",
       "AvgDistanceToGoal        -0.009423         0.512407           1.000000   \n",
       "MaxDistanceToGoal        -0.008381         0.499165           0.979618   \n",
       "MinDistanceToGoal        -0.004890         0.255249           0.534851   \n",
       "AvgStartDistances        -0.008570         0.492124           0.929594   \n",
       "AvgGoalDistances         -0.009472         0.511576           0.918294   \n",
       "PointsAtSPRatio           0.036032        -0.707306          -0.435663   \n",
       "GridSize                 -0.005993         0.436564           0.902990   \n",
       "Sparsity                  0.016019        -0.433139          -0.296951   \n",
       "\n",
       "                   MaxDistanceToGoal  MinDistanceToGoal  AvgStartDistances  \\\n",
       "GridRows                    0.831990           0.323697           0.813816   \n",
       "GridColumns                 0.957417           0.388462           0.922472   \n",
       "NumOfAgents                -0.091737          -0.204607          -0.073090   \n",
       "NumOfObstacles              0.888665           0.376622           0.847172   \n",
       "BranchingFactor            -0.008381          -0.004890          -0.008570   \n",
       "ObstacleDensity             0.499165           0.255249           0.492124   \n",
       "AvgDistanceToGoal           0.979618           0.534851           0.929594   \n",
       "MaxDistanceToGoal           1.000000           0.381073           0.970737   \n",
       "MinDistanceToGoal           0.381073           1.000000           0.216760   \n",
       "AvgStartDistances           0.970737           0.216760           1.000000   \n",
       "AvgGoalDistances            0.959602           0.197898           0.979690   \n",
       "PointsAtSPRatio            -0.410277          -0.217284          -0.405431   \n",
       "GridSize                    0.929464           0.382635           0.889449   \n",
       "Sparsity                   -0.284543          -0.131148          -0.283385   \n",
       "\n",
       "                   AvgGoalDistances  PointsAtSPRatio  GridSize  Sparsity  \n",
       "GridRows                   0.843779        -0.654940  0.735142 -0.461724  \n",
       "GridColumns                0.903642        -0.441691  0.962286 -0.303268  \n",
       "NumOfAgents               -0.064444         0.563770 -0.104255  0.127493  \n",
       "NumOfObstacles             0.785064        -0.206216  0.989871 -0.119136  \n",
       "BranchingFactor           -0.009472         0.036032 -0.005993  0.016019  \n",
       "ObstacleDensity            0.511576        -0.707306  0.436564 -0.433139  \n",
       "AvgDistanceToGoal          0.918294        -0.435663  0.902990 -0.296951  \n",
       "MaxDistanceToGoal          0.959602        -0.410277  0.929464 -0.284543  \n",
       "MinDistanceToGoal          0.197898        -0.217284  0.382635 -0.131148  \n",
       "AvgStartDistances          0.979690        -0.405431  0.889449 -0.283385  \n",
       "AvgGoalDistances           1.000000        -0.456854  0.841020 -0.325148  \n",
       "PointsAtSPRatio           -0.456854         1.000000 -0.277677  0.708839  \n",
       "GridSize                   0.841020        -0.277677  1.000000 -0.170919  \n",
       "Sparsity                  -0.325148         0.708839 -0.170919  1.000000  "
      ]
     },
     "execution_count": 15,
     "metadata": {},
     "output_type": "execute_result"
    }
   ],
   "source": [
    "features_cols.append('Y')\n",
    "df[features_cols].corr()"
   ]
  },
  {
   "cell_type": "markdown",
   "metadata": {},
   "source": [
    "## Save labelled data to file"
   ]
  },
  {
   "cell_type": "code",
   "execution_count": 17,
   "metadata": {},
   "outputs": [],
   "source": [
    "# df.to_csv(\"data/from-azure/nathan_AllData-labelled.csv\")"
   ]
  },
  {
   "cell_type": "markdown",
   "metadata": {},
   "source": [
    "## Adding ranking (in order to train LTR models) ##"
   ]
  },
  {
   "cell_type": "markdown",
   "metadata": {},
   "source": [
    "# In order to add 'bridges' feature use CreateGridFromMapFile notebook"
   ]
  }
 ],
 "metadata": {
  "kernelspec": {
   "display_name": "Python 3",
   "language": "python",
   "name": "python3"
  },
  "language_info": {
   "codemirror_mode": {
    "name": "ipython",
    "version": 3
   },
   "file_extension": ".py",
   "mimetype": "text/x-python",
   "name": "python",
   "nbconvert_exporter": "python",
   "pygments_lexer": "ipython3",
   "version": "3.6.8"
  }
 },
 "nbformat": 4,
 "nbformat_minor": 2
}
